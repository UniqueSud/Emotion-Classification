{
  "nbformat": 4,
  "nbformat_minor": 0,
  "metadata": {
    "colab": {
      "name": "DENS_Test.ipynb",
      "provenance": [],
      "machine_shape": "hm"
    },
    "kernelspec": {
      "name": "python3",
      "display_name": "Python 3"
    },
    "language_info": {
      "name": "python"
    },
    "accelerator": "GPU"
  },
  "cells": [
    {
      "cell_type": "code",
      "execution_count": 42,
      "metadata": {
        "id": "ls_Bi6wPXVkJ"
      },
      "outputs": [],
      "source": [
        "import scipy.io as sio\n",
        "import os\n",
        "import numpy as np\n",
        "import pandas as pd\n",
        "from scipy.signal import spectrogram\n",
        "\n",
        "from sklearn.model_selection import train_test_split\n",
        "from scipy import signal\n",
        "#mat = scipy.io.loadmat('file.mat')"
      ]
    },
    {
      "cell_type": "code",
      "source": [
        "from google.colab import drive\n",
        "drive.mount('/content/drive/')"
      ],
      "metadata": {
        "colab": {
          "base_uri": "https://localhost:8080/"
        },
        "id": "Ztroxfpr6GF8",
        "outputId": "efb78f3a-0714-4814-84d7-ebcbb5adfa5a"
      },
      "execution_count": 43,
      "outputs": [
        {
          "output_type": "stream",
          "name": "stdout",
          "text": [
            "Drive already mounted at /content/drive/; to attempt to forcibly remount, call drive.mount(\"/content/drive/\", force_remount=True).\n"
          ]
        }
      ]
    },
    {
      "cell_type": "code",
      "source": [
        "os.getcwd()\n",
        "os.chdir('/content/drive/My Drive')"
      ],
      "metadata": {
        "id": "5oV0snlG6TW6"
      },
      "execution_count": 4,
      "outputs": []
    },
    {
      "cell_type": "code",
      "source": [
        "#mat = sio.loadmat('/content/drive/My Drive/MTech_Thesis/DENS/Baseling/Baseline_mit123.mat')"
      ],
      "metadata": {
        "id": "SAxGwSvy8N98"
      },
      "execution_count": 7,
      "outputs": []
    },
    {
      "cell_type": "code",
      "source": [
        "#mat"
      ],
      "metadata": {
        "id": "9jLbi4IRZmaj"
      },
      "execution_count": 8,
      "outputs": []
    },
    {
      "cell_type": "code",
      "source": [
        "#data = mat.get('eegData')"
      ],
      "metadata": {
        "id": "BdBFc8Oa9HEH"
      },
      "execution_count": 9,
      "outputs": []
    },
    {
      "cell_type": "code",
      "source": [
        "#data"
      ],
      "metadata": {
        "id": "USFiP4ntZqLS"
      },
      "execution_count": 10,
      "outputs": []
    },
    {
      "cell_type": "code",
      "source": [
        "#data = np.array(data)"
      ],
      "metadata": {
        "id": "rf4DXtshTvzz"
      },
      "execution_count": 11,
      "outputs": []
    },
    {
      "cell_type": "code",
      "source": [
        "#data.shape"
      ],
      "metadata": {
        "id": "rqItr0KaT5Vh"
      },
      "execution_count": 12,
      "outputs": []
    },
    {
      "cell_type": "code",
      "source": [
        "_,_, files = next(os.walk('/content/drive/My Drive/MTech_Thesis/DENS/Emotional'))\n",
        "files_count = len(files)"
      ],
      "metadata": {
        "id": "cdjrHzBctRis"
      },
      "execution_count": 5,
      "outputs": []
    },
    {
      "cell_type": "code",
      "source": [
        "files"
      ],
      "metadata": {
        "colab": {
          "base_uri": "https://localhost:8080/"
        },
        "id": "b7Wa1iRjINkB",
        "outputId": "fb683f37-0400-405d-d4f0-71c097a68b8f"
      },
      "execution_count": 6,
      "outputs": [
        {
          "output_type": "execute_result",
          "data": {
            "text/plain": [
              "['Joyous_mit003Trial-2Click-1.mat',\n",
              " 'Afraid_mit003Trial-6Click-2.mat',\n",
              " 'Angry_mit003Trial-7Click-4.mat',\n",
              " 'Hate_mit003Trial-7Click-3.mat',\n",
              " 'Hate_mit003Trial-10Click-6.mat',\n",
              " 'Alarmed_mit003Trial-9Click-5.mat',\n",
              " 'Sad_mit003Trial-11Click-7.mat',\n",
              " 'Amused_mit004Trial-3Click-1.mat',\n",
              " 'Adventorous_mit004Trial-4Click-3.mat',\n",
              " 'Excited_mit004Trial-4Click-2.mat',\n",
              " 'Disgust_mit004Trial-5Click-4.mat',\n",
              " 'Disgust_mit004Trial-5Click-5.mat',\n",
              " 'Happy_mit004Trial-8Click-6.mat',\n",
              " 'Happy_mit004Trial-8Click-7.mat',\n",
              " 'Taken Aback_mit004Trial-11Click-9.mat',\n",
              " 'Distress_mit007Trial-3Click-2.mat',\n",
              " 'Miserable_mit007Trial-2Click-1.mat',\n",
              " 'Despondent_mit007Trial-4Click-4.mat',\n",
              " 'Miserable_mit007Trial-4Click-3.mat',\n",
              " 'Happy_mit007Trial-7Click-6.mat',\n",
              " 'Hate_mit007Trial-5Click-5.mat',\n",
              " 'Joyous_mit007Trial-7Click-7.mat',\n",
              " 'Calm_mit014Trial-1Click-1.mat',\n",
              " 'Pensive_mit014Trial-1Click-3.mat',\n",
              " 'Pensive_mit014Trial-1Click-2.mat',\n",
              " 'Amused_mit014Trial-2Click-4.mat',\n",
              " 'Excited_mit014Trial-2Click-5.mat',\n",
              " 'Amused_mit014Trial-3Click-7.mat',\n",
              " 'Distress_mit014Trial-2Click-6.mat',\n",
              " 'Disgust_mit014Trial-4Click-9.mat',\n",
              " 'Tense_mit014Trial-4Click-8.mat',\n",
              " 'Hate_mit014Trial-6Click-11.mat',\n",
              " 'Startled_mit014Trial-4Click-10.mat',\n",
              " 'Hate_mit014Trial-6Click-12.mat',\n",
              " 'Hate_mit014Trial-6Click-13.mat',\n",
              " 'Sad_mit014Trial-7Click-15.mat',\n",
              " 'Angry_mit014Trial-6Click-14.mat',\n",
              " 'Melancholic_mit014Trial-7Click-16.mat',\n",
              " 'Disgust_mit014Trial-8Click-17.mat',\n",
              " 'Distress_mit014Trial-9Click-18.mat',\n",
              " 'Distress_mit014Trial-9Click-19.mat',\n",
              " 'Calm_mit017Trial-1Click-1.mat',\n",
              " 'Startled_mit017Trial-2Click-2.mat',\n",
              " 'Miserable_mit017Trial-3Click-4.mat',\n",
              " 'Disgust_mit017Trial-3Click-5.mat',\n",
              " 'Calm_mit017Trial-3Click-3.mat',\n",
              " 'Taken Aback_mit017Trial-4Click-6.mat',\n",
              " 'Frustrated_mit017Trial-4Click-7.mat',\n",
              " 'Dissatisfied_mit017Trial-10Click-9.mat',\n",
              " 'Alarmed_mit017Trial-7Click-8.mat',\n",
              " 'Alarmed_mit017Trial-10Click-10.mat',\n",
              " 'Excited_mit022Trial-1Click-1.mat',\n",
              " 'Sad_mit022Trial-2Click-2.mat',\n",
              " 'Tense_mit022Trial-2Click-3.mat',\n",
              " 'Frustrated_mit022Trial-2Click-4.mat',\n",
              " 'Joyous_mit022Trial-3Click-5.mat',\n",
              " 'Happy_mit022Trial-3Click-6.mat',\n",
              " 'Happy_mit022Trial-3Click-7.mat',\n",
              " 'Happy_mit022Trial-3Click-8.mat',\n",
              " 'Afraid_mit022Trial-4Click-9.mat',\n",
              " 'Afraid_mit022Trial-6Click-12.mat',\n",
              " 'Hate_mit022Trial-4Click-11.mat',\n",
              " 'Hate_mit022Trial-4Click-10.mat',\n",
              " 'Afraid_mit022Trial-6Click-13.mat',\n",
              " 'Frustrated_mit022Trial-6Click-14.mat',\n",
              " 'Adventorous_mit022Trial-7Click-15.mat',\n",
              " 'Adventorous_mit022Trial-7Click-16.mat',\n",
              " 'Disgust_mit022Trial-8Click-17.mat',\n",
              " 'Tense_mit022Trial-9Click-20.mat',\n",
              " 'Tense_mit022Trial-8Click-18.mat',\n",
              " 'Disgust_mit022Trial-9Click-22.mat',\n",
              " 'Angry_mit022Trial-9Click-21.mat',\n",
              " 'Hate_mit022Trial-9Click-23.mat',\n",
              " 'Passionate_mit022Trial-10Click-24.mat',\n",
              " 'Alarmed_mit022Trial-11Click-26.mat',\n",
              " 'Alarmed_mit022Trial-11Click-25.mat',\n",
              " 'Disgust_mit022Trial-11Click-27.mat',\n",
              " 'Relaxed_mit023Trial-2Click-1.mat',\n",
              " 'Angry_mit023Trial-4Click-3.mat',\n",
              " 'Amused_mit023Trial-2Click-2.mat',\n",
              " 'Disgust_mit023Trial-5Click-5.mat',\n",
              " 'Disgust_mit023Trial-5Click-4.mat',\n",
              " 'Afraid_mit023Trial-8Click-8.mat',\n",
              " 'Frustrated_mit023Trial-6Click-7.mat',\n",
              " 'Afraid_mit023Trial-6Click-6.mat',\n",
              " 'Triumphant_mit023Trial-10Click-9.mat',\n",
              " 'Afraid_mit023Trial-11Click-10.mat',\n",
              " 'Sad_mit024Trial-7Click-1.mat',\n",
              " 'Sad_mit024Trial-7Click-2.mat',\n",
              " 'Adventorous_mit024Trial-9Click-4.mat',\n",
              " 'Happy_mit024Trial-9Click-3.mat',\n",
              " 'Despondent_mit024Trial-10Click-6.mat',\n",
              " 'Adventorous_mit024Trial-9Click-5.mat',\n",
              " 'Melancholic_mit024Trial-10Click-8.mat',\n",
              " 'Despondent_mit024Trial-10Click-7.mat',\n",
              " 'Angry_mit032Trial-3Click-1.mat',\n",
              " 'Angry_mit032Trial-3Click-2.mat',\n",
              " 'Startled_mit032Trial-5Click-3.mat',\n",
              " 'Hate_mit032Trial-5Click-4.mat',\n",
              " 'Sad_mit032Trial-7Click-5.mat',\n",
              " 'Sad_mit032Trial-7Click-6.mat',\n",
              " 'Sad_mit032Trial-8Click-7.mat',\n",
              " 'Aroused_mit032Trial-10Click-9.mat',\n",
              " 'Sad_mit032Trial-8Click-8.mat',\n",
              " 'Afraid_mit032Trial-11Click-10.mat',\n",
              " 'Disgust_mit035Trial-2Click-3.mat',\n",
              " 'Angry_mit035Trial-2Click-2.mat',\n",
              " 'Disgust_mit035Trial-2Click-4.mat',\n",
              " 'Disgust_mit035Trial-2Click-5.mat',\n",
              " 'Miserable_mit035Trial-3Click-6.mat',\n",
              " 'Despondent_mit035Trial-4Click-8.mat',\n",
              " 'Miserable_mit035Trial-3Click-7.mat',\n",
              " 'Miserable_mit035Trial-6Click-10.mat',\n",
              " 'Angry_mit035Trial-6Click-9.mat',\n",
              " 'Sad_mit035Trial-6Click-11.mat',\n",
              " 'Angry_mit035Trial-6Click-12.mat',\n",
              " 'Alarmed_mit035Trial-10Click-15.mat',\n",
              " 'Afraid_mit035Trial-7Click-13.mat',\n",
              " 'Adventorous_mit035Trial-11Click-17.mat',\n",
              " 'Startled_mit035Trial-10Click-16.mat',\n",
              " 'Excited_mit035Trial-11Click-18.mat',\n",
              " 'Adventorous_mit035Trial-11Click-19.mat',\n",
              " 'Angry_mit039Trial-3Click-3.mat',\n",
              " 'Disgust_mit039Trial-2Click-2.mat',\n",
              " 'Disgust_mit039Trial-2Click-1.mat',\n",
              " 'Disgust_mit039Trial-8Click-6.mat',\n",
              " 'Disgust_mit039Trial-7Click-5.mat',\n",
              " 'Afraid_mit039Trial-5Click-4.mat',\n",
              " 'Excited_mit040Trial-4Click-2.mat',\n",
              " 'Delighted_mit040Trial-4Click-3.mat',\n",
              " 'Joyous_mit040Trial-4Click-1.mat',\n",
              " 'Despondent_mit040Trial-11Click-5.mat',\n",
              " 'Sad_mit040Trial-9Click-4.mat',\n",
              " 'Happy_mit051Trial-2Click-1.mat',\n",
              " 'Despondent_mit051Trial-3Click-5.mat',\n",
              " 'Taken Aback_mit051Trial-3Click-4.mat',\n",
              " 'Alarmed_mit051Trial-4Click-7.mat',\n",
              " 'Miserable_mit051Trial-3Click-6.mat',\n",
              " 'Afraid_mit051Trial-4Click-8.mat',\n",
              " 'Sad_mit051Trial-5Click-11.mat',\n",
              " 'Sad_mit051Trial-5Click-12.mat',\n",
              " 'Angry_mit051Trial-6Click-13.mat',\n",
              " 'Angry_mit051Trial-6Click-14.mat',\n",
              " 'Excited_mit051Trial-9Click-16.mat',\n",
              " 'Delighted_mit051Trial-9Click-17.mat',\n",
              " 'Alarmed_mit051Trial-10Click-19.mat',\n",
              " 'Excited_mit052Trial-3Click-1.mat',\n",
              " 'Excited_mit052Trial-3Click-2.mat',\n",
              " 'Excited_mit052Trial-3Click-3.mat',\n",
              " 'Joyous_mit052Trial-4Click-4.mat',\n",
              " 'Amused_mit052Trial-4Click-5.mat',\n",
              " 'Amused_mit052Trial-4Click-7.mat',\n",
              " 'Amused_mit052Trial-4Click-6.mat',\n",
              " 'Angry_mit052Trial-5Click-9.mat',\n",
              " 'Angry_mit052Trial-5Click-10.mat',\n",
              " 'Startled_mit052Trial-5Click-8.mat',\n",
              " 'Angry_mit052Trial-5Click-12.mat',\n",
              " 'Startled_mit052Trial-5Click-11.mat',\n",
              " 'Dissatisfied_mit052Trial-6Click-15.mat',\n",
              " 'Sad_mit052Trial-6Click-14.mat',\n",
              " 'Sad_mit052Trial-6Click-13.mat',\n",
              " 'Angry_mit052Trial-7Click-17.mat',\n",
              " 'Depressed_mit052Trial-6Click-16.mat',\n",
              " 'Tense_mit052Trial-7Click-18.mat',\n",
              " 'Dissatisfied_mit052Trial-8Click-19.mat',\n",
              " 'Dissatisfied_mit052Trial-8Click-20.mat',\n",
              " 'Startled_mit052Trial-8Click-21.mat',\n",
              " 'Alarmed_mit052Trial-10Click-22.mat',\n",
              " 'Sad_mit052Trial-10Click-24.mat',\n",
              " 'Disgust_mit052Trial-10Click-23.mat',\n",
              " 'Angry_mit052Trial-10Click-25.mat',\n",
              " 'Lust_mit052Trial-11Click-28.mat',\n",
              " 'Lust_mit052Trial-11Click-27.mat',\n",
              " 'Aroused_mit052Trial-11Click-26.mat',\n",
              " 'Hate_mit054Trial-6Click-3.mat',\n",
              " 'Afraid_mit054Trial-4Click-1.mat',\n",
              " 'Afraid_mit054Trial-6Click-4.mat',\n",
              " 'Afraid_mit054Trial-9Click-6.mat',\n",
              " 'Afraid_mit054Trial-7Click-5.mat',\n",
              " 'Frustrated_mit054Trial-10Click-7.mat',\n",
              " 'Happy_mit061Trial-3Click-2.mat',\n",
              " 'Adventorous_mit061Trial-3Click-3.mat',\n",
              " 'Happy_mit061Trial-4Click-5.mat',\n",
              " 'Aroused_mit061Trial-4Click-4.mat',\n",
              " 'Aroused_mit061Trial-4Click-6.mat',\n",
              " 'Afraid_mit061Trial-5Click-7.mat',\n",
              " 'Joyous_mit061Trial-8Click-8.mat',\n",
              " 'Sad_mit061Trial-10Click-9.mat',\n",
              " 'Excited_mit061Trial-11Click-10.mat',\n",
              " 'Angry_mit067Trial-1Click-1.mat',\n",
              " 'Distress_mit067Trial-4Click-3.mat',\n",
              " 'Distress_mit067Trial-4Click-2.mat',\n",
              " 'Joyous_mit067Trial-8Click-5.mat',\n",
              " 'Angry_mit067Trial-9Click-6.mat',\n",
              " 'Angry_mit067Trial-6Click-4.mat',\n",
              " 'Hate_mit067Trial-10Click-7.mat',\n",
              " 'Adventorous_mit072Trial-1Click-1.mat',\n",
              " 'Alarmed_mit072Trial-1Click-2.mat',\n",
              " 'Happy_mit072Trial-2Click-4.mat',\n",
              " 'Adventorous_mit072Trial-1Click-3.mat',\n",
              " 'Joyous_mit072Trial-2Click-5.mat',\n",
              " 'Amused_mit072Trial-2Click-6.mat',\n",
              " 'Startled_mit072Trial-3Click-9.mat',\n",
              " 'Disgust_mit072Trial-3Click-8.mat',\n",
              " 'Joyous_mit072Trial-2Click-7.mat',\n",
              " 'Afraid_mit072Trial-3Click-11.mat',\n",
              " 'Angry_mit072Trial-3Click-10.mat',\n",
              " 'Alarmed_mit072Trial-3Click-12.mat',\n",
              " 'Despondent_mit072Trial-4Click-14.mat',\n",
              " 'Sad_mit072Trial-4Click-13.mat',\n",
              " 'Sad_mit072Trial-4Click-15.mat',\n",
              " 'Miserable_mit072Trial-4Click-16.mat',\n",
              " 'Alarmed_mit072Trial-5Click-17.mat',\n",
              " 'Afraid_mit072Trial-5Click-18.mat',\n",
              " 'Happy_mit072Trial-6Click-19.mat',\n",
              " 'Angry_mit072Trial-7Click-21.mat',\n",
              " 'Joyous_mit072Trial-6Click-20.mat',\n",
              " 'Distress_mit072Trial-7Click-23.mat',\n",
              " 'Disgust_mit072Trial-7Click-22.mat',\n",
              " 'Hate_mit072Trial-7Click-24.mat',\n",
              " 'Delighted_mit072Trial-9Click-26.mat',\n",
              " 'Excited_mit072Trial-9Click-25.mat',\n",
              " 'Adventorous_mit072Trial-10Click-27.mat',\n",
              " 'Excited_mit072Trial-10Click-28.mat',\n",
              " 'Adventorous_mit072Trial-10Click-29.mat',\n",
              " 'Alarmed_mit072Trial-11Click-31.mat',\n",
              " 'Angry_mit072Trial-11Click-30.mat',\n",
              " 'Despondent_mit072Trial-11Click-32.mat',\n",
              " 'Excited_mit074Trial-3Click-1.mat',\n",
              " 'Passionate_mit074Trial-3Click-2.mat',\n",
              " 'Adventorous_mit074Trial-5Click-5.mat',\n",
              " 'Adventorous_mit074Trial-5Click-4.mat',\n",
              " 'Alarmed_mit074Trial-5Click-3.mat',\n",
              " 'Hate_mit074Trial-6Click-7.mat',\n",
              " 'Disgust_mit074Trial-7Click-8.mat',\n",
              " 'Disgust_mit074Trial-6Click-6.mat',\n",
              " 'Hate_mit074Trial-7Click-9.mat',\n",
              " 'Disgust_mit074Trial-7Click-10.mat',\n",
              " 'Disgust_mit074Trial-8Click-11.mat',\n",
              " 'Hate_mit074Trial-8Click-12.mat',\n",
              " 'Despondent_mit074Trial-9Click-15.mat',\n",
              " 'Sad_mit074Trial-9Click-13.mat',\n",
              " 'Depressed_mit074Trial-9Click-14.mat',\n",
              " 'Disgust_mit074Trial-10Click-17.mat',\n",
              " 'Miserable_mit074Trial-10Click-18.mat',\n",
              " 'Hate_mit074Trial-10Click-16.mat',\n",
              " 'Disgust_mit074Trial-10Click-19.mat',\n",
              " 'Afraid_mit076Trial-4Click-4.mat',\n",
              " 'Afraid_mit076Trial-4Click-3.mat',\n",
              " 'Taken Aback_mit076Trial-4Click-2.mat',\n",
              " 'Melancholic_mit076Trial-8Click-5.mat',\n",
              " 'Startled_mit079Trial-1Click-1.mat',\n",
              " 'Distress_mit079Trial-1Click-3.mat',\n",
              " 'Distress_mit079Trial-1Click-2.mat',\n",
              " 'Frustrated_mit079Trial-2Click-4.mat',\n",
              " 'Triumphant_mit079Trial-3Click-8.mat',\n",
              " 'Delighted_mit079Trial-3Click-7.mat',\n",
              " 'Passionate_mit079Trial-5Click-9.mat',\n",
              " 'Lust_mit079Trial-5Click-10.mat',\n",
              " 'Delighted_mit079Trial-6Click-11.mat',\n",
              " 'Startled_mit079Trial-6Click-12.mat',\n",
              " 'Afraid_mit079Trial-6Click-13.mat',\n",
              " 'Tense_mit079Trial-7Click-14.mat',\n",
              " 'Afraid_mit079Trial-7Click-15.mat',\n",
              " 'Tense_mit079Trial-7Click-16.mat',\n",
              " 'Excited_mit079Trial-8Click-17.mat',\n",
              " 'Distress_mit079Trial-8Click-19.mat',\n",
              " 'Distress_mit079Trial-8Click-18.mat',\n",
              " 'Startled_mit079Trial-8Click-20.mat',\n",
              " 'Excited_mit079Trial-9Click-22.mat',\n",
              " 'Excited_mit079Trial-9Click-21.mat',\n",
              " 'Amused_mit079Trial-9Click-23.mat',\n",
              " 'Distress_mit079Trial-10Click-25.mat',\n",
              " 'Disgust_mit079Trial-10Click-24.mat',\n",
              " 'Disgust_mit079Trial-10Click-27.mat',\n",
              " 'Angry_mit079Trial-10Click-26.mat',\n",
              " 'Afraid_mit080Trial-2Click-1.mat',\n",
              " 'Afraid_mit080Trial-2Click-2.mat',\n",
              " 'Passionate_mit080Trial-3Click-3.mat',\n",
              " 'Disgust_mit080Trial-7Click-5.mat',\n",
              " 'Frustrated_mit080Trial-7Click-6.mat',\n",
              " 'Distress_mit080Trial-6Click-4.mat',\n",
              " 'Disgust_mit080Trial-11Click-7.mat',\n",
              " 'Sad_mit081Trial-3Click-1.mat',\n",
              " 'Happy_mit081Trial-7Click-3.mat',\n",
              " 'Afraid_mit081Trial-10Click-7.mat',\n",
              " 'Startled_mit081Trial-9Click-4.mat',\n",
              " 'Taken Aback_mit082Trial-1Click-1.mat',\n",
              " 'Afraid_mit082Trial-2Click-2.mat',\n",
              " 'Delighted_mit082Trial-3Click-4.mat',\n",
              " 'Tense_mit082Trial-2Click-3.mat',\n",
              " 'Disgust_mit082Trial-4Click-6.mat',\n",
              " 'Amused_mit082Trial-3Click-5.mat',\n",
              " 'Afraid_mit082Trial-4Click-7.mat',\n",
              " 'Angry_mit082Trial-4Click-8.mat',\n",
              " 'Angry_mit082Trial-4Click-9.mat',\n",
              " 'Frustrated_mit082Trial-5Click-10.mat',\n",
              " 'Sad_mit082Trial-5Click-11.mat',\n",
              " 'Distrustful_mit082Trial-5Click-13.mat',\n",
              " 'Sad_mit082Trial-5Click-12.mat',\n",
              " 'Melancholic_mit082Trial-7Click-16.mat',\n",
              " 'Miserable_mit082Trial-7Click-15.mat',\n",
              " 'Dissatisfied_mit082Trial-7Click-14.mat',\n",
              " 'Delighted_mit082Trial-9Click-17.mat',\n",
              " 'Afraid_mit082Trial-10Click-19.mat',\n",
              " 'Aroused_mit082Trial-9Click-18.mat',\n",
              " 'Startled_mit082Trial-10Click-20.mat',\n",
              " 'Distress_mit082Trial-10Click-21.mat',\n",
              " 'Alarmed_mit082Trial-11Click-23.mat',\n",
              " 'Startled_mit082Trial-11Click-24.mat',\n",
              " 'Distress_mit082Trial-11Click-22.mat',\n",
              " 'Afraid_mit082Trial-11Click-25.mat',\n",
              " 'Love_mit096Trial-2Click-1.mat',\n",
              " 'Compassionate_mit096Trial-5Click-3.mat',\n",
              " 'Aroused_mit096Trial-2Click-2.mat',\n",
              " 'Angry_mit096Trial-8Click-6.mat',\n",
              " 'Tense_mit096Trial-6Click-5.mat',\n",
              " 'Compassionate_mit096Trial-5Click-4.mat',\n",
              " 'Excited_mit096Trial-9Click-7.mat',\n",
              " 'Excited_mit096Trial-11Click-9.mat',\n",
              " 'Adventorous_mit097Trial-1Click-1.mat',\n",
              " 'Alarmed_mit097Trial-2Click-2.mat',\n",
              " 'Alarmed_mit097Trial-2Click-3.mat',\n",
              " 'Distress_mit097Trial-5Click-6.mat',\n",
              " 'Miserable_mit097Trial-3Click-5.mat',\n",
              " 'Depressed_mit097Trial-3Click-4.mat',\n",
              " 'Sad_mit097Trial-10Click-8.mat',\n",
              " 'Disgust_mit097Trial-9Click-7.mat',\n",
              " 'Pleased_mit097Trial-11Click-9.mat',\n",
              " 'Disgust_mit099Trial-1Click-2.mat',\n",
              " 'Tense_mit099Trial-1Click-1.mat',\n",
              " 'Afraid_mit099Trial-2Click-5.mat',\n",
              " 'Afraid_mit099Trial-2Click-4.mat',\n",
              " 'Afraid_mit099Trial-2Click-3.mat',\n",
              " 'Alarmed_mit099Trial-3Click-7.mat',\n",
              " 'Miserable_mit099Trial-3Click-6.mat',\n",
              " 'Distress_mit099Trial-4Click-10.mat',\n",
              " 'Taken Aback_mit099Trial-4Click-9.mat',\n",
              " 'Alarmed_mit099Trial-3Click-8.mat',\n",
              " 'Hate_mit099Trial-4Click-11.mat',\n",
              " 'Miserable_mit099Trial-5Click-12.mat',\n",
              " 'Passionate_mit099Trial-6Click-14.mat',\n",
              " 'Lust_mit099Trial-6Click-15.mat',\n",
              " 'Alarmed_mit099Trial-5Click-13.mat',\n",
              " 'Sad_mit099Trial-7Click-16.mat',\n",
              " 'Amused_mit099Trial-9Click-17.mat',\n",
              " 'Excited_mit099Trial-9Click-18.mat',\n",
              " 'Afraid_mit099Trial-10Click-20.mat',\n",
              " 'Sad_mit099Trial-10Click-21.mat',\n",
              " 'Sad_mit099Trial-10Click-22.mat',\n",
              " 'Joyous_mit104Trial-2Click-1.mat',\n",
              " 'Excited_mit104Trial-9Click-2.mat',\n",
              " 'Adventorous_mit104Trial-9Click-4.mat',\n",
              " 'Joyous_mit104Trial-9Click-3.mat',\n",
              " 'Sad_mit104Trial-10Click-5.mat',\n",
              " 'Dissatisfied_mit106Trial-5Click-2.mat',\n",
              " 'Hate_mit106Trial-3Click-1.mat',\n",
              " 'Sad_mit106Trial-6Click-5.mat',\n",
              " 'Sad_mit106Trial-5Click-3.mat',\n",
              " 'Dissatisfied_mit106Trial-6Click-4.mat',\n",
              " 'Happy_mit106Trial-9Click-7.mat',\n",
              " 'Passionate_mit106Trial-9Click-6.mat',\n",
              " 'Angry_mit106Trial-10Click-9.mat',\n",
              " 'Angry_mit106Trial-10Click-8.mat',\n",
              " 'Sad_mit107Trial-3Click-1.mat',\n",
              " 'Afraid_mit107Trial-4Click-2.mat',\n",
              " 'Despondent_mit107Trial-7Click-4.mat',\n",
              " 'Adventorous_mit107Trial-6Click-3.mat',\n",
              " 'Angry_mit107Trial-10Click-5.mat',\n",
              " 'Tense_mit108Trial-5Click-1.mat',\n",
              " 'Angry_mit108Trial-5Click-2.mat',\n",
              " 'Afraid_mit108Trial-8Click-5.mat',\n",
              " 'Dissatisfied_mit108Trial-8Click-4.mat',\n",
              " 'Delighted_mit108Trial-7Click-3.mat',\n",
              " 'Alarmed_mit108Trial-9Click-6.mat',\n",
              " 'Afraid_mit108Trial-9Click-7.mat',\n",
              " 'Miserable_mit108Trial-10Click-8.mat',\n",
              " 'Delighted_mit111Trial-4Click-2.mat',\n",
              " 'Joyous_mit111Trial-4Click-1.mat',\n",
              " 'Adventorous_mit111Trial-6Click-4.mat',\n",
              " 'Happy_mit111Trial-4Click-3.mat',\n",
              " 'Excited_mit111Trial-6Click-5.mat',\n",
              " 'Sad_mit111Trial-7Click-7.mat',\n",
              " 'Depressed_mit111Trial-7Click-6.mat',\n",
              " 'Afraid_mit111Trial-9Click-8.mat',\n",
              " 'Sad_mit111Trial-10Click-9.mat',\n",
              " 'Angry_mit111Trial-10Click-10.mat',\n",
              " 'Hate_mit111Trial-10Click-11.mat',\n",
              " 'Disgust_mit113Trial-5Click-2.mat',\n",
              " 'Amused_mit113Trial-2Click-1.mat',\n",
              " 'Startled_mit113Trial-6Click-3.mat',\n",
              " 'Triumphant_mit113Trial-8Click-4.mat',\n",
              " 'Disgust_mit113Trial-9Click-5.mat',\n",
              " 'Happy_mit113Trial-10Click-6.mat',\n",
              " 'Depressed_mit113Trial-11Click-7.mat',\n",
              " 'Startled_mit114Trial-2Click-4.mat',\n",
              " 'Hopeful_mit114Trial-1Click-1.mat',\n",
              " 'Joyous_mit114Trial-3Click-6.mat',\n",
              " 'Joyous_mit114Trial-3Click-7.mat',\n",
              " 'Excited_mit114Trial-2Click-5.mat',\n",
              " 'Distress_mit114Trial-4Click-8.mat',\n",
              " 'Alarmed_mit114Trial-4Click-11.mat',\n",
              " 'Love_mit114Trial-5Click-12.mat',\n",
              " 'Compassionate_mit114Trial-4Click-10.mat',\n",
              " 'Startled_mit114Trial-5Click-13.mat',\n",
              " 'Hate_mit114Trial-5Click-14.mat',\n",
              " 'Tense_mit114Trial-6Click-15.mat',\n",
              " 'Afraid_mit114Trial-6Click-16.mat',\n",
              " 'Dissatisfied_mit114Trial-7Click-19.mat',\n",
              " 'Angry_mit114Trial-7Click-20.mat',\n",
              " 'Sad_mit114Trial-7Click-21.mat',\n",
              " 'Sad_mit114Trial-7Click-22.mat',\n",
              " 'Afraid_mit114Trial-8Click-24.mat',\n",
              " 'Sad_mit114Trial-8Click-25.mat',\n",
              " 'Afraid_mit114Trial-8Click-23.mat',\n",
              " 'Alarmed_mit114Trial-8Click-26.mat',\n",
              " 'Afraid_mit114Trial-10Click-30.mat',\n",
              " 'Amused_mit114Trial-10Click-29.mat',\n",
              " 'Passionate_mit114Trial-11Click-32.mat',\n",
              " 'Adventorous_mit114Trial-10Click-31.mat',\n",
              " 'Lust_mit114Trial-11Click-34.mat',\n",
              " 'Lust_mit114Trial-11Click-33.mat',\n",
              " 'Pensive_mit116Trial-2Click-2.mat',\n",
              " 'Pensive_mit116Trial-2Click-1.mat',\n",
              " 'Joyous_mit116Trial-3Click-3.mat',\n",
              " 'Depressed_mit116Trial-6Click-5.mat',\n",
              " 'Sad_mit116Trial-4Click-4.mat',\n",
              " 'Sad_mit116Trial-6Click-6.mat',\n",
              " 'Miserable_mit116Trial-6Click-7.mat',\n",
              " 'Sad_mit116Trial-7Click-8.mat',\n",
              " 'Miserable_mit116Trial-9Click-9.mat',\n",
              " 'Dissatisfied_mit116Trial-9Click-10.mat',\n",
              " 'Excited_mit116Trial-10Click-12.mat',\n",
              " 'Taken Aback_mit116Trial-11Click-13.mat',\n",
              " 'Joyous_mit116Trial-10Click-11.mat',\n",
              " 'Distress_mit116Trial-11Click-14.mat',\n",
              " 'Joyous_mit117Trial-2Click-1.mat',\n",
              " 'Hate_mit117Trial-3Click-2.mat',\n",
              " 'Angry_mit117Trial-5Click-4.mat',\n",
              " 'Sad_mit117Trial-4Click-3.mat',\n",
              " 'Delighted_mit117Trial-10Click-5.mat',\n",
              " 'Distress_mit117Trial-11Click-6.mat',\n",
              " 'Excited_mit121Trial-1Click-1.mat',\n",
              " 'Joyous_mit121Trial-2Click-3.mat',\n",
              " 'Delighted_mit121Trial-2Click-2.mat',\n",
              " 'Sad_mit121Trial-3Click-4.mat',\n",
              " 'Taken Aback_mit121Trial-4Click-6.mat',\n",
              " 'Sad_mit121Trial-3Click-5.mat',\n",
              " 'Miserable_mit121Trial-4Click-8.mat',\n",
              " 'Miserable_mit121Trial-4Click-7.mat',\n",
              " 'Startled_mit121Trial-5Click-9.mat',\n",
              " 'Startled_mit121Trial-9Click-10.mat',\n",
              " 'Sad_mit121Trial-9Click-11.mat',\n",
              " 'Angry_mit121Trial-10Click-13.mat',\n",
              " 'Afraid_mit121Trial-11Click-14.mat',\n",
              " 'Angry_mit121Trial-10Click-12.mat',\n",
              " 'Alarmed_mit121Trial-11Click-15.mat',\n",
              " 'Amused_mit122Trial-1Click-1.mat',\n",
              " 'Miserable_mit122Trial-2Click-2.mat',\n",
              " 'Hate_mit122Trial-2Click-4.mat',\n",
              " 'Hate_mit122Trial-2Click-3.mat',\n",
              " 'Disgust_mit122Trial-3Click-6.mat',\n",
              " 'Afraid_mit122Trial-3Click-5.mat',\n",
              " 'Disgust_mit122Trial-4Click-7.mat',\n",
              " 'Angry_mit122Trial-6Click-9.mat',\n",
              " 'Hate_mit122Trial-6Click-8.mat',\n",
              " 'Afraid_mit122Trial-7Click-12.mat',\n",
              " 'Hate_mit122Trial-6Click-11.mat',\n",
              " 'Angry_mit122Trial-6Click-10.mat',\n",
              " 'Startled_mit122Trial-8Click-14.mat',\n",
              " 'Distress_mit122Trial-7Click-13.mat',\n",
              " 'Distress_mit122Trial-8Click-15.mat',\n",
              " 'Excited_mit122Trial-10Click-16.mat',\n",
              " 'Joyous_mit122Trial-11Click-17.mat',\n",
              " 'Happy_mit122Trial-11Click-18.mat',\n",
              " 'Afraid_mit123Trial-2Click-1.mat',\n",
              " 'Afraid_mit123Trial-2Click-2.mat',\n",
              " 'Taken Aback_mit123Trial-4Click-3.mat',\n",
              " 'Angry_mit123Trial-5Click-5.mat',\n",
              " 'Taken Aback_mit123Trial-4Click-4.mat',\n",
              " 'Angry_mit123Trial-5Click-6.mat',\n",
              " 'Alarmed_mit123Trial-8Click-8.mat',\n",
              " 'Tense_mit123Trial-8Click-7.mat',\n",
              " 'Alarmed_mit123Trial-9Click-10.mat',\n",
              " 'Alarmed_mit123Trial-9Click-9.mat',\n",
              " 'Melancholic_mitb2017007Trial-2Click-1.mat',\n",
              " 'Sad_mitb2017007Trial-6Click-3.mat',\n",
              " 'Sad_mitb2017007Trial-4Click-2.mat',\n",
              " 'Adventorous_mitb2017007Trial-7Click-4.mat',\n",
              " 'Excited_mitb2017007Trial-7Click-5.mat',\n",
              " 'Taken Aback_mitb2017007Trial-9Click-6.mat',\n",
              " 'Disgust_mitb2017007Trial-11Click-7.mat',\n",
              " 'Distrustful_mitb2017007Trial-11Click-8.mat']"
            ]
          },
          "metadata": {},
          "execution_count": 6
        }
      ]
    },
    {
      "cell_type": "code",
      "source": [
        "#len(files)"
      ],
      "metadata": {
        "id": "hXr3vHgCl9jh"
      },
      "execution_count": 15,
      "outputs": []
    },
    {
      "cell_type": "code",
      "source": [
        "rating = pd.read_csv('/content/drive/My Drive/MTech_Thesis/DENS/Rating/wholeFrequencyDependentDataWithVADLFR_ReFormattingWholeFrequencyVA - wholeFrequencyDependentDataWithVADLFR_ReFormattingWholeFrequencyVA.csv')"
      ],
      "metadata": {
        "id": "z9IPNKWWmCl1"
      },
      "execution_count": 7,
      "outputs": []
    },
    {
      "cell_type": "code",
      "source": [
        "#df = rating[rating[\"Subject\"].str.contains('Dissatisfied_mit114Trial-7Click-19')]"
      ],
      "metadata": {
        "id": "Q2gm37SeqCqV"
      },
      "execution_count": 17,
      "outputs": []
    },
    {
      "cell_type": "code",
      "source": [
        "#df = df[['Subject','valence','arousal']]"
      ],
      "metadata": {
        "id": "X6hLhS16sm9f"
      },
      "execution_count": 18,
      "outputs": []
    },
    {
      "cell_type": "code",
      "source": [
        "#df = df.drop_duplicates()"
      ],
      "metadata": {
        "id": "8C2i9tP0s9mW"
      },
      "execution_count": 19,
      "outputs": []
    },
    {
      "cell_type": "code",
      "source": [
        "#valence = df['valence']\n",
        "#arousal = df['arousal']"
      ],
      "metadata": {
        "id": "wXjwM7gptTbm"
      },
      "execution_count": 20,
      "outputs": []
    },
    {
      "cell_type": "code",
      "source": [
        "#print(valence.values[0])\n",
        "#print(arousal)"
      ],
      "metadata": {
        "id": "UP3rOTAttf_M"
      },
      "execution_count": 21,
      "outputs": []
    },
    {
      "cell_type": "code",
      "source": [
        "eeg_data = []\n",
        "eeg_label = []"
      ],
      "metadata": {
        "id": "3SZD7T-ZMrGr"
      },
      "execution_count": 44,
      "outputs": []
    },
    {
      "cell_type": "code",
      "source": [
        "def label_mapping(valence, arousal):\n",
        "    # HVHA, HVLA, LVHA, and LVLA\n",
        "    \n",
        "    if (valence <= 5):\n",
        "        label = 0 \n",
        "    elif (valence > 5):\n",
        "        label = 1\n",
        "    \n",
        "    return label"
      ],
      "metadata": {
        "id": "qNgprMehwbq6"
      },
      "execution_count": 45,
      "outputs": []
    },
    {
      "cell_type": "code",
      "source": [
        "base_path = \"/content/drive/My Drive/MTech_Thesis/DENS/Emotional/\"\n",
        "for f in files:\n",
        "  if f.endswith(\".mat\"):\n",
        "    file_str = f[:-4]\n",
        "    df = rating[rating[\"Subject\"].str.contains(file_str)]\n",
        "    if not df.empty:\n",
        "      path = base_path + f\n",
        "      mat = sio.loadmat(path)\n",
        "      data = mat.get('eegData')\n",
        "      eeg_data.append(data)\n",
        "      df = df[['Subject','valence','arousal']]\n",
        "      df = df.drop_duplicates()\n",
        "      valence = df['valence']\n",
        "      arousal = df['arousal']\n",
        "      lab = label_mapping(valence.values[0], arousal.values[0])\n",
        "      eeg_label.append(lab)"
      ],
      "metadata": {
        "id": "_v5jP3fsMCl8"
      },
      "execution_count": 46,
      "outputs": []
    },
    {
      "cell_type": "code",
      "source": [
        "eeg_data = np.array(eeg_data)"
      ],
      "metadata": {
        "id": "y1_zddLmODQy"
      },
      "execution_count": 47,
      "outputs": []
    },
    {
      "cell_type": "code",
      "source": [
        "eeg_data.shape"
      ],
      "metadata": {
        "colab": {
          "base_uri": "https://localhost:8080/"
        },
        "id": "mE62KOYIOINm",
        "outputId": "8ac9d3a8-a67c-4619-e7ce-3c425181d3c9"
      },
      "execution_count": 48,
      "outputs": [
        {
          "output_type": "execute_result",
          "data": {
            "text/plain": [
              "(465, 128, 1751)"
            ]
          },
          "metadata": {},
          "execution_count": 48
        }
      ]
    },
    {
      "cell_type": "code",
      "source": [
        "eeg_label = np.array(eeg_label)"
      ],
      "metadata": {
        "id": "aXiRiyzTA2P-"
      },
      "execution_count": 49,
      "outputs": []
    },
    {
      "cell_type": "code",
      "source": [
        "eeg_label.shape"
      ],
      "metadata": {
        "colab": {
          "base_uri": "https://localhost:8080/"
        },
        "id": "4wMyg9eHCCZ1",
        "outputId": "deabb7aa-3e60-41b4-f380-ceff52b4601a"
      },
      "execution_count": 50,
      "outputs": [
        {
          "output_type": "execute_result",
          "data": {
            "text/plain": [
              "(465,)"
            ]
          },
          "metadata": {},
          "execution_count": 50
        }
      ]
    },
    {
      "cell_type": "code",
      "source": [
        ""
      ],
      "metadata": {
        "id": "eRYCMHtLuJwG"
      },
      "execution_count": 15,
      "outputs": []
    },
    {
      "cell_type": "code",
      "source": [
        "eeg_Label = []\n",
        "for i in eeg_label:\n",
        "    for j in range (0,128):\n",
        "        eeg_Label.append(i)"
      ],
      "metadata": {
        "id": "yrkIiv7XnBUA"
      },
      "execution_count": 54,
      "outputs": []
    },
    {
      "cell_type": "code",
      "source": [
        "eeg_Label = np.array(eeg_Label)\n",
        "count0 = np.count_nonzero(eeg_Label == 0)\n",
        "count1 = np.count_nonzero(eeg_Label == 1)"
      ],
      "metadata": {
        "id": "57d12fLqujOj"
      },
      "execution_count": 52,
      "outputs": []
    },
    {
      "cell_type": "code",
      "source": [
        "print(count0)\n",
        "print(count1)"
      ],
      "metadata": {
        "colab": {
          "base_uri": "https://localhost:8080/"
        },
        "id": "-SjzzcQPvBkG",
        "outputId": "3d115cb2-2c24-4554-f7f3-47626ed4b8b4"
      },
      "execution_count": 53,
      "outputs": [
        {
          "output_type": "stream",
          "name": "stdout",
          "text": [
            "42240\n",
            "17280\n"
          ]
        }
      ]
    },
    {
      "cell_type": "code",
      "source": [
        "from tensorflow.keras.utils import to_categorical \n",
        "y = to_categorical(eeg_Label)"
      ],
      "metadata": {
        "id": "0l25SFviCFX-"
      },
      "execution_count": 55,
      "outputs": []
    },
    {
      "cell_type": "code",
      "source": [
        "y.shape"
      ],
      "metadata": {
        "colab": {
          "base_uri": "https://localhost:8080/"
        },
        "id": "budJyMi9mOme",
        "outputId": "75d542cb-309d-4ee4-fadc-402f95ba8f99"
      },
      "execution_count": 56,
      "outputs": [
        {
          "output_type": "execute_result",
          "data": {
            "text/plain": [
              "(59520, 2)"
            ]
          },
          "metadata": {},
          "execution_count": 56
        }
      ]
    },
    {
      "cell_type": "code",
      "source": [
        "import functools\n",
        "def combine_dims(a, i=0, n=1):\n",
        "  s = list(a.shape)\n",
        "  combined = functools.reduce(lambda x,y: x*y, s[i:i+n+1])\n",
        "  return np.reshape(a, s[:i] + [combined] + s[i+n+1:])"
      ],
      "metadata": {
        "id": "HM5lnt5fCNnq"
      },
      "execution_count": 57,
      "outputs": []
    },
    {
      "cell_type": "code",
      "source": [
        "eeg_Data = combine_dims(np.array(eeg_data), 0)"
      ],
      "metadata": {
        "id": "fqcsIrRJC97G"
      },
      "execution_count": 58,
      "outputs": []
    },
    {
      "cell_type": "code",
      "source": [
        "eeg_Data.shape"
      ],
      "metadata": {
        "id": "qb7O6M9IDE2D",
        "outputId": "7b9d2694-392d-428c-969c-78347812b551",
        "colab": {
          "base_uri": "https://localhost:8080/"
        }
      },
      "execution_count": 59,
      "outputs": [
        {
          "output_type": "execute_result",
          "data": {
            "text/plain": [
              "(59520, 1751)"
            ]
          },
          "metadata": {},
          "execution_count": 59
        }
      ]
    },
    {
      "cell_type": "code",
      "source": [
        "fs = 250\n",
        "\n",
        "size_dataset = len(eeg_Data)\n",
        "X_full = np.ndarray(shape=(size_dataset, 63, 26, 3))#Signal spectogram # 128 overlap\n",
        "X_test_Full = []               \n",
        "for i in range(0, size_dataset):\n",
        "  for j in range(0,3):\n",
        "    X = eeg_Data[i] \n",
        "    f, t, Sxx = spectrogram(X, fs, nperseg = 125, noverlap = 62.5, mode='psd')\n",
        "    X_full[i, :, :, j] = Sxx\n",
        "    #X_test_Full.append(Sxx)"
      ],
      "metadata": {
        "id": "5Fg_Vk8FnjNi"
      },
      "execution_count": 70,
      "outputs": []
    },
    {
      "cell_type": "code",
      "source": [
        "X_full = np.array(X_full)"
      ],
      "metadata": {
        "id": "DECpBmzqoTik"
      },
      "execution_count": 71,
      "outputs": []
    },
    {
      "cell_type": "code",
      "source": [
        "X_full.shape"
      ],
      "metadata": {
        "colab": {
          "base_uri": "https://localhost:8080/"
        },
        "id": "81VnaPCCob3b",
        "outputId": "a2fc85d6-6adc-4e96-fc64-d42ea910bc69"
      },
      "execution_count": 72,
      "outputs": [
        {
          "output_type": "execute_result",
          "data": {
            "text/plain": [
              "(59520, 63, 26, 3)"
            ]
          },
          "metadata": {},
          "execution_count": 72
        }
      ]
    },
    {
      "cell_type": "code",
      "source": [
        "X_train, X_test, y_train, y_test = train_test_split(X_full, y, test_size=0.3, random_state=23)"
      ],
      "metadata": {
        "id": "FDjtp987ozZo"
      },
      "execution_count": 73,
      "outputs": []
    },
    {
      "cell_type": "code",
      "source": [
        "X_train /= 255\n",
        "X_test /= 255"
      ],
      "metadata": {
        "id": "-9MCilC1o5zJ"
      },
      "execution_count": 74,
      "outputs": []
    },
    {
      "cell_type": "code",
      "source": [
        "import pandas as pd\n",
        "import keras.backend as K\n",
        "import numpy as np\n",
        "\n",
        "import keras\n",
        "import tensorflow as tf\n",
        "from keras.models import Sequential\n",
        "from keras.layers import Dense\n",
        "from keras.layers.convolutional import Conv1D\n",
        "from keras.layers.convolutional import MaxPooling1D\n",
        "\n",
        "from keras.layers import Flatten\n",
        "from keras.layers import Dense\n",
        "import numpy as np\n",
        "import keras\n",
        "\n",
        "from keras.layers import Dense, Dropout, Flatten, Conv2D, MaxPooling2D, TimeDistributed, RepeatVector\n",
        "from keras.layers import LSTM, GRU, SimpleRNN\n",
        "from keras import backend as K\n",
        "from keras.models import Model\n",
        "import timeit\n",
        "\n",
        "\n",
        "#import cv2, numpy as np\n",
        "import warnings\n",
        "warnings.filterwarnings('ignore')\n",
        "\n",
        "import sys\n",
        "from keras.layers import Convolution1D, ZeroPadding1D, MaxPooling1D, BatchNormalization, Activation, Dropout, Flatten, Dense\n",
        "from keras.regularizers import l2"
      ],
      "metadata": {
        "id": "ux41izA4pBk2"
      },
      "execution_count": 75,
      "outputs": []
    },
    {
      "cell_type": "code",
      "source": [
        "batch_size = 32 \n",
        "num_classes = 2 \n",
        "epochs = 100 "
      ],
      "metadata": {
        "id": "wUAbEFeBpI7F"
      },
      "execution_count": 76,
      "outputs": []
    },
    {
      "cell_type": "code",
      "source": [
        "input_shape = (X_train.shape[1],X_train.shape[2],X_train.shape[3])\n",
        "input_shape"
      ],
      "metadata": {
        "colab": {
          "base_uri": "https://localhost:8080/"
        },
        "id": "zO9XwZfJpLTd",
        "outputId": "45a6592b-4673-4408-882a-082b27741c6e"
      },
      "execution_count": 77,
      "outputs": [
        {
          "output_type": "execute_result",
          "data": {
            "text/plain": [
              "(63, 26, 3)"
            ]
          },
          "metadata": {},
          "execution_count": 77
        }
      ]
    },
    {
      "cell_type": "code",
      "source": [
        "zero_weight = 0.70\n",
        "one_weight = 1.72"
      ],
      "metadata": {
        "id": "Yh6MWgodnKDf"
      },
      "execution_count": 79,
      "outputs": []
    },
    {
      "cell_type": "code",
      "source": [
        "model = Sequential()\n",
        "\n",
        "model.add(Conv2D(32, (3, 3), \n",
        "          strides=(1, 1),\n",
        "          activation='relu', \n",
        "          input_shape=input_shape))\n",
        "model.add(MaxPooling2D((2, 2), strides=(2, 2)))\n",
        "\n",
        "model.add(Conv2D(64, (3, 3), \n",
        "          activation='relu'))\n",
        "model.add(MaxPooling2D((2, 2)))\n",
        "model.add(Dropout(0.1))\n",
        "\n",
        "model.add(Flatten())\n",
        "\n",
        "model.add(RepeatVector(4))\n",
        "'''\n",
        "model.add(Bidirectional(LSTM(128, return_sequences=True)))\n",
        "model.add(Dropout(0.2))\n",
        "'''\n",
        "model.add(LSTM(256, return_sequences=True))\n",
        "model.add(Dropout(0.2))\n",
        "\n",
        "model.add(LSTM(128))\n",
        "model.add(Dropout(0.2))\n",
        "\n",
        "model.add(Dense(64, activation=\"relu\"))\n",
        "model.add(Dropout(0.2))\n",
        "\n",
        "\n",
        "model.add(Dense(num_classes, activation=\"softmax\"))\n",
        "\n",
        "model.compile(loss=\"sparse_categorical_crossentropy\",\n",
        "              optimizer=\"adam\", metrics=[\"accuracy\"])\n",
        "\n",
        "model.summary()"
      ],
      "metadata": {
        "colab": {
          "base_uri": "https://localhost:8080/"
        },
        "id": "hzRfPC7GpPTw",
        "outputId": "ea1c7ed5-3d50-4082-99c6-218484c4fb97"
      },
      "execution_count": 80,
      "outputs": [
        {
          "output_type": "stream",
          "name": "stdout",
          "text": [
            "Model: \"sequential_1\"\n",
            "_________________________________________________________________\n",
            " Layer (type)                Output Shape              Param #   \n",
            "=================================================================\n",
            " conv2d_2 (Conv2D)           (None, 61, 24, 32)        896       \n",
            "                                                                 \n",
            " max_pooling2d_2 (MaxPooling  (None, 30, 12, 32)       0         \n",
            " 2D)                                                             \n",
            "                                                                 \n",
            " conv2d_3 (Conv2D)           (None, 28, 10, 64)        18496     \n",
            "                                                                 \n",
            " max_pooling2d_3 (MaxPooling  (None, 14, 5, 64)        0         \n",
            " 2D)                                                             \n",
            "                                                                 \n",
            " dropout_4 (Dropout)         (None, 14, 5, 64)         0         \n",
            "                                                                 \n",
            " flatten_1 (Flatten)         (None, 4480)              0         \n",
            "                                                                 \n",
            " repeat_vector_1 (RepeatVect  (None, 4, 4480)          0         \n",
            " or)                                                             \n",
            "                                                                 \n",
            " lstm_2 (LSTM)               (None, 4, 256)            4850688   \n",
            "                                                                 \n",
            " dropout_5 (Dropout)         (None, 4, 256)            0         \n",
            "                                                                 \n",
            " lstm_3 (LSTM)               (None, 128)               197120    \n",
            "                                                                 \n",
            " dropout_6 (Dropout)         (None, 128)               0         \n",
            "                                                                 \n",
            " dense_2 (Dense)             (None, 64)                8256      \n",
            "                                                                 \n",
            " dropout_7 (Dropout)         (None, 64)                0         \n",
            "                                                                 \n",
            " dense_3 (Dense)             (None, 2)                 130       \n",
            "                                                                 \n",
            "=================================================================\n",
            "Total params: 5,075,586\n",
            "Trainable params: 5,075,586\n",
            "Non-trainable params: 0\n",
            "_________________________________________________________________\n"
          ]
        }
      ]
    },
    {
      "cell_type": "code",
      "source": [
        "#opt = tf.keras.optimizers.SGD(learning_rate=0.005)\n",
        "model.compile(optimizer =\"Adam\", loss =keras.losses.categorical_crossentropy,metrics=[\"accuracy\"], weighted_metrics=[\"accuracy\"])\n",
        "\n",
        "m=model.fit(X_train, y_train,epochs=100,batch_size=32,verbose=1,validation_data=(X_test, y_test),class_weight={0:zero_weight, 1:one_weight})"
      ],
      "metadata": {
        "colab": {
          "base_uri": "https://localhost:8080/"
        },
        "id": "5xWY75FjpQL3",
        "outputId": "b182dcef-cd34-4a1c-d830-a92f4e948eb7"
      },
      "execution_count": 81,
      "outputs": [
        {
          "output_type": "stream",
          "name": "stdout",
          "text": [
            "Epoch 1/100\n",
            "1302/1302 [==============================] - 16s 10ms/step - loss: 0.6894 - accuracy: 0.5339 - weighted_accuracy: 0.5023 - val_loss: 0.6896 - val_accuracy: 0.7051 - val_weighted_accuracy: 0.7051\n",
            "Epoch 2/100\n",
            "1302/1302 [==============================] - 12s 9ms/step - loss: 0.6895 - accuracy: 0.5503 - weighted_accuracy: 0.4952 - val_loss: 0.6910 - val_accuracy: 0.7051 - val_weighted_accuracy: 0.7051\n",
            "Epoch 3/100\n",
            "1302/1302 [==============================] - 12s 9ms/step - loss: 0.6892 - accuracy: 0.5814 - weighted_accuracy: 0.5002 - val_loss: 0.6953 - val_accuracy: 0.2953 - val_weighted_accuracy: 0.2953\n",
            "Epoch 4/100\n",
            "1302/1302 [==============================] - 12s 9ms/step - loss: 0.6893 - accuracy: 0.4879 - weighted_accuracy: 0.5004 - val_loss: 0.6883 - val_accuracy: 0.7051 - val_weighted_accuracy: 0.7051\n",
            "Epoch 5/100\n",
            "1302/1302 [==============================] - 12s 9ms/step - loss: 0.6888 - accuracy: 0.5868 - weighted_accuracy: 0.5009 - val_loss: 0.6900 - val_accuracy: 0.7056 - val_weighted_accuracy: 0.7056\n",
            "Epoch 6/100\n",
            "1302/1302 [==============================] - 12s 9ms/step - loss: 0.6861 - accuracy: 0.6164 - weighted_accuracy: 0.5169 - val_loss: 0.7023 - val_accuracy: 0.5992 - val_weighted_accuracy: 0.5992\n",
            "Epoch 7/100\n",
            "1302/1302 [==============================] - 12s 9ms/step - loss: 0.6754 - accuracy: 0.6115 - weighted_accuracy: 0.5491 - val_loss: 0.6656 - val_accuracy: 0.6475 - val_weighted_accuracy: 0.6475\n",
            "Epoch 8/100\n",
            "1302/1302 [==============================] - 12s 9ms/step - loss: 0.6526 - accuracy: 0.6123 - weighted_accuracy: 0.5949 - val_loss: 0.5961 - val_accuracy: 0.7254 - val_weighted_accuracy: 0.7254\n",
            "Epoch 9/100\n",
            "1302/1302 [==============================] - 11s 9ms/step - loss: 0.6262 - accuracy: 0.6475 - weighted_accuracy: 0.6317 - val_loss: 0.6378 - val_accuracy: 0.6139 - val_weighted_accuracy: 0.6139\n",
            "Epoch 10/100\n",
            "1302/1302 [==============================] - 12s 9ms/step - loss: 0.6013 - accuracy: 0.6608 - weighted_accuracy: 0.6551 - val_loss: 0.5757 - val_accuracy: 0.6880 - val_weighted_accuracy: 0.6880\n",
            "Epoch 11/100\n",
            "1302/1302 [==============================] - 12s 9ms/step - loss: 0.5798 - accuracy: 0.6815 - weighted_accuracy: 0.6769 - val_loss: 0.5476 - val_accuracy: 0.7078 - val_weighted_accuracy: 0.7078\n",
            "Epoch 12/100\n",
            "1302/1302 [==============================] - 12s 9ms/step - loss: 0.5548 - accuracy: 0.6989 - weighted_accuracy: 0.6961 - val_loss: 0.4945 - val_accuracy: 0.7628 - val_weighted_accuracy: 0.7628\n",
            "Epoch 13/100\n",
            "1302/1302 [==============================] - 12s 9ms/step - loss: 0.5232 - accuracy: 0.7212 - weighted_accuracy: 0.7194 - val_loss: 0.5548 - val_accuracy: 0.6817 - val_weighted_accuracy: 0.6817\n",
            "Epoch 14/100\n",
            "1302/1302 [==============================] - 12s 9ms/step - loss: 0.4935 - accuracy: 0.7419 - weighted_accuracy: 0.7411 - val_loss: 0.5178 - val_accuracy: 0.7204 - val_weighted_accuracy: 0.7204\n",
            "Epoch 15/100\n",
            "1302/1302 [==============================] - 12s 9ms/step - loss: 0.4679 - accuracy: 0.7582 - weighted_accuracy: 0.7593 - val_loss: 0.4544 - val_accuracy: 0.7672 - val_weighted_accuracy: 0.7672\n",
            "Epoch 16/100\n",
            "1302/1302 [==============================] - 12s 9ms/step - loss: 0.4351 - accuracy: 0.7807 - weighted_accuracy: 0.7813 - val_loss: 0.4669 - val_accuracy: 0.7329 - val_weighted_accuracy: 0.7329\n",
            "Epoch 17/100\n",
            "1302/1302 [==============================] - 12s 9ms/step - loss: 0.4068 - accuracy: 0.7974 - weighted_accuracy: 0.8008 - val_loss: 0.3898 - val_accuracy: 0.8140 - val_weighted_accuracy: 0.8140\n",
            "Epoch 18/100\n",
            "1302/1302 [==============================] - 12s 9ms/step - loss: 0.3790 - accuracy: 0.8138 - weighted_accuracy: 0.8167 - val_loss: 0.3494 - val_accuracy: 0.8325 - val_weighted_accuracy: 0.8325\n",
            "Epoch 19/100\n",
            "1302/1302 [==============================] - 12s 9ms/step - loss: 0.3514 - accuracy: 0.8274 - weighted_accuracy: 0.8315 - val_loss: 0.3434 - val_accuracy: 0.8282 - val_weighted_accuracy: 0.8282\n",
            "Epoch 20/100\n",
            "1302/1302 [==============================] - 12s 9ms/step - loss: 0.3251 - accuracy: 0.8429 - weighted_accuracy: 0.8459 - val_loss: 0.3554 - val_accuracy: 0.8278 - val_weighted_accuracy: 0.8278\n",
            "Epoch 21/100\n",
            "1302/1302 [==============================] - 12s 9ms/step - loss: 0.2995 - accuracy: 0.8575 - weighted_accuracy: 0.8611 - val_loss: 0.3034 - val_accuracy: 0.8634 - val_weighted_accuracy: 0.8634\n",
            "Epoch 22/100\n",
            "1302/1302 [==============================] - 12s 9ms/step - loss: 0.2714 - accuracy: 0.8711 - weighted_accuracy: 0.8751 - val_loss: 0.3060 - val_accuracy: 0.8587 - val_weighted_accuracy: 0.8587\n",
            "Epoch 23/100\n",
            "1302/1302 [==============================] - 12s 9ms/step - loss: 0.2528 - accuracy: 0.8831 - weighted_accuracy: 0.8874 - val_loss: 0.2504 - val_accuracy: 0.8865 - val_weighted_accuracy: 0.8865\n",
            "Epoch 24/100\n",
            "1302/1302 [==============================] - 12s 9ms/step - loss: 0.2302 - accuracy: 0.8961 - weighted_accuracy: 0.8976 - val_loss: 0.2406 - val_accuracy: 0.8967 - val_weighted_accuracy: 0.8967\n",
            "Epoch 25/100\n",
            "1302/1302 [==============================] - 12s 9ms/step - loss: 0.2113 - accuracy: 0.9067 - weighted_accuracy: 0.9078 - val_loss: 0.2391 - val_accuracy: 0.8970 - val_weighted_accuracy: 0.8970\n",
            "Epoch 26/100\n",
            "1302/1302 [==============================] - 12s 9ms/step - loss: 0.1924 - accuracy: 0.9161 - weighted_accuracy: 0.9184 - val_loss: 0.2366 - val_accuracy: 0.9034 - val_weighted_accuracy: 0.9034\n",
            "Epoch 27/100\n",
            "1302/1302 [==============================] - 12s 9ms/step - loss: 0.1772 - accuracy: 0.9217 - weighted_accuracy: 0.9247 - val_loss: 0.2074 - val_accuracy: 0.9158 - val_weighted_accuracy: 0.9158\n",
            "Epoch 28/100\n",
            "1302/1302 [==============================] - 12s 9ms/step - loss: 0.1572 - accuracy: 0.9316 - weighted_accuracy: 0.9329 - val_loss: 0.2338 - val_accuracy: 0.9098 - val_weighted_accuracy: 0.9098\n",
            "Epoch 29/100\n",
            "1302/1302 [==============================] - 12s 9ms/step - loss: 0.1424 - accuracy: 0.9372 - weighted_accuracy: 0.9387 - val_loss: 0.1885 - val_accuracy: 0.9283 - val_weighted_accuracy: 0.9283\n",
            "Epoch 30/100\n",
            "1302/1302 [==============================] - 12s 9ms/step - loss: 0.1278 - accuracy: 0.9452 - weighted_accuracy: 0.9460 - val_loss: 0.1756 - val_accuracy: 0.9339 - val_weighted_accuracy: 0.9339\n",
            "Epoch 31/100\n",
            "1302/1302 [==============================] - 12s 9ms/step - loss: 0.1159 - accuracy: 0.9507 - weighted_accuracy: 0.9523 - val_loss: 0.1920 - val_accuracy: 0.9298 - val_weighted_accuracy: 0.9298\n",
            "Epoch 32/100\n",
            "1302/1302 [==============================] - 11s 9ms/step - loss: 0.1092 - accuracy: 0.9552 - weighted_accuracy: 0.9554 - val_loss: 0.1930 - val_accuracy: 0.9357 - val_weighted_accuracy: 0.9357\n",
            "Epoch 33/100\n",
            "1302/1302 [==============================] - 12s 9ms/step - loss: 0.0982 - accuracy: 0.9606 - weighted_accuracy: 0.9615 - val_loss: 0.1988 - val_accuracy: 0.9291 - val_weighted_accuracy: 0.9291\n",
            "Epoch 34/100\n",
            "1302/1302 [==============================] - 12s 9ms/step - loss: 0.0903 - accuracy: 0.9644 - weighted_accuracy: 0.9653 - val_loss: 0.1711 - val_accuracy: 0.9438 - val_weighted_accuracy: 0.9438\n",
            "Epoch 35/100\n",
            "1302/1302 [==============================] - 12s 9ms/step - loss: 0.0849 - accuracy: 0.9658 - weighted_accuracy: 0.9669 - val_loss: 0.1578 - val_accuracy: 0.9470 - val_weighted_accuracy: 0.9470\n",
            "Epoch 36/100\n",
            "1302/1302 [==============================] - 12s 9ms/step - loss: 0.0756 - accuracy: 0.9706 - weighted_accuracy: 0.9706 - val_loss: 0.1708 - val_accuracy: 0.9410 - val_weighted_accuracy: 0.9410\n",
            "Epoch 37/100\n",
            "1302/1302 [==============================] - 12s 9ms/step - loss: 0.0698 - accuracy: 0.9736 - weighted_accuracy: 0.9742 - val_loss: 0.1560 - val_accuracy: 0.9521 - val_weighted_accuracy: 0.9521\n",
            "Epoch 38/100\n",
            "1302/1302 [==============================] - 12s 9ms/step - loss: 0.0638 - accuracy: 0.9756 - weighted_accuracy: 0.9760 - val_loss: 0.1726 - val_accuracy: 0.9394 - val_weighted_accuracy: 0.9394\n",
            "Epoch 39/100\n",
            "1302/1302 [==============================] - 12s 9ms/step - loss: 0.0624 - accuracy: 0.9762 - weighted_accuracy: 0.9771 - val_loss: 0.1576 - val_accuracy: 0.9488 - val_weighted_accuracy: 0.9488\n",
            "Epoch 40/100\n",
            "1302/1302 [==============================] - 12s 9ms/step - loss: 0.0560 - accuracy: 0.9781 - weighted_accuracy: 0.9786 - val_loss: 0.1640 - val_accuracy: 0.9542 - val_weighted_accuracy: 0.9542\n",
            "Epoch 41/100\n",
            "1302/1302 [==============================] - 12s 9ms/step - loss: 0.0522 - accuracy: 0.9808 - weighted_accuracy: 0.9809 - val_loss: 0.1594 - val_accuracy: 0.9587 - val_weighted_accuracy: 0.9587\n",
            "Epoch 42/100\n",
            "1302/1302 [==============================] - 12s 9ms/step - loss: 0.0489 - accuracy: 0.9823 - weighted_accuracy: 0.9815 - val_loss: 0.1449 - val_accuracy: 0.9592 - val_weighted_accuracy: 0.9592\n",
            "Epoch 43/100\n",
            "1302/1302 [==============================] - 12s 9ms/step - loss: 0.0475 - accuracy: 0.9827 - weighted_accuracy: 0.9825 - val_loss: 0.2039 - val_accuracy: 0.9403 - val_weighted_accuracy: 0.9403\n",
            "Epoch 44/100\n",
            "1302/1302 [==============================] - 12s 9ms/step - loss: 0.0444 - accuracy: 0.9839 - weighted_accuracy: 0.9844 - val_loss: 0.1388 - val_accuracy: 0.9597 - val_weighted_accuracy: 0.9597\n",
            "Epoch 45/100\n",
            "1302/1302 [==============================] - 12s 9ms/step - loss: 0.0450 - accuracy: 0.9841 - weighted_accuracy: 0.9840 - val_loss: 0.1537 - val_accuracy: 0.9598 - val_weighted_accuracy: 0.9598\n",
            "Epoch 46/100\n",
            "1302/1302 [==============================] - 12s 9ms/step - loss: 0.0363 - accuracy: 0.9860 - weighted_accuracy: 0.9864 - val_loss: 0.1628 - val_accuracy: 0.9570 - val_weighted_accuracy: 0.9570\n",
            "Epoch 47/100\n",
            "1302/1302 [==============================] - 12s 9ms/step - loss: 0.0390 - accuracy: 0.9866 - weighted_accuracy: 0.9863 - val_loss: 0.1704 - val_accuracy: 0.9536 - val_weighted_accuracy: 0.9536\n",
            "Epoch 48/100\n",
            "1302/1302 [==============================] - 12s 9ms/step - loss: 0.0353 - accuracy: 0.9880 - weighted_accuracy: 0.9879 - val_loss: 0.1455 - val_accuracy: 0.9579 - val_weighted_accuracy: 0.9579\n",
            "Epoch 49/100\n",
            "1302/1302 [==============================] - 12s 9ms/step - loss: 0.0321 - accuracy: 0.9882 - weighted_accuracy: 0.9888 - val_loss: 0.1459 - val_accuracy: 0.9615 - val_weighted_accuracy: 0.9615\n",
            "Epoch 50/100\n",
            "1302/1302 [==============================] - 12s 9ms/step - loss: 0.0334 - accuracy: 0.9879 - weighted_accuracy: 0.9879 - val_loss: 0.1533 - val_accuracy: 0.9560 - val_weighted_accuracy: 0.9560\n",
            "Epoch 51/100\n",
            "1302/1302 [==============================] - 12s 9ms/step - loss: 0.0305 - accuracy: 0.9893 - weighted_accuracy: 0.9891 - val_loss: 0.1477 - val_accuracy: 0.9573 - val_weighted_accuracy: 0.9573\n",
            "Epoch 52/100\n",
            "1302/1302 [==============================] - 12s 9ms/step - loss: 0.0300 - accuracy: 0.9896 - weighted_accuracy: 0.9900 - val_loss: 0.1434 - val_accuracy: 0.9583 - val_weighted_accuracy: 0.9583\n",
            "Epoch 53/100\n",
            "1302/1302 [==============================] - 12s 9ms/step - loss: 0.0268 - accuracy: 0.9904 - weighted_accuracy: 0.9908 - val_loss: 0.1408 - val_accuracy: 0.9619 - val_weighted_accuracy: 0.9619\n",
            "Epoch 54/100\n",
            "1302/1302 [==============================] - 12s 9ms/step - loss: 0.0303 - accuracy: 0.9897 - weighted_accuracy: 0.9894 - val_loss: 0.1377 - val_accuracy: 0.9588 - val_weighted_accuracy: 0.9588\n",
            "Epoch 55/100\n",
            "1302/1302 [==============================] - 12s 9ms/step - loss: 0.0268 - accuracy: 0.9904 - weighted_accuracy: 0.9905 - val_loss: 0.1712 - val_accuracy: 0.9633 - val_weighted_accuracy: 0.9633\n",
            "Epoch 56/100\n",
            "1302/1302 [==============================] - 12s 9ms/step - loss: 0.0255 - accuracy: 0.9914 - weighted_accuracy: 0.9912 - val_loss: 0.1458 - val_accuracy: 0.9610 - val_weighted_accuracy: 0.9610\n",
            "Epoch 57/100\n",
            "1302/1302 [==============================] - 12s 9ms/step - loss: 0.0249 - accuracy: 0.9916 - weighted_accuracy: 0.9915 - val_loss: 0.1669 - val_accuracy: 0.9591 - val_weighted_accuracy: 0.9591\n",
            "Epoch 58/100\n",
            "1302/1302 [==============================] - 12s 9ms/step - loss: 0.0226 - accuracy: 0.9927 - weighted_accuracy: 0.9926 - val_loss: 0.1371 - val_accuracy: 0.9651 - val_weighted_accuracy: 0.9651\n",
            "Epoch 59/100\n",
            "1302/1302 [==============================] - 12s 9ms/step - loss: 0.0242 - accuracy: 0.9917 - weighted_accuracy: 0.9920 - val_loss: 0.1409 - val_accuracy: 0.9626 - val_weighted_accuracy: 0.9626\n",
            "Epoch 60/100\n",
            "1302/1302 [==============================] - 12s 9ms/step - loss: 0.0242 - accuracy: 0.9918 - weighted_accuracy: 0.9920 - val_loss: 0.1313 - val_accuracy: 0.9626 - val_weighted_accuracy: 0.9626\n",
            "Epoch 61/100\n",
            "1302/1302 [==============================] - 12s 9ms/step - loss: 0.0206 - accuracy: 0.9929 - weighted_accuracy: 0.9930 - val_loss: 0.1607 - val_accuracy: 0.9642 - val_weighted_accuracy: 0.9642\n",
            "Epoch 62/100\n",
            "1302/1302 [==============================] - 12s 9ms/step - loss: 0.0207 - accuracy: 0.9934 - weighted_accuracy: 0.9932 - val_loss: 0.1468 - val_accuracy: 0.9606 - val_weighted_accuracy: 0.9606\n",
            "Epoch 63/100\n",
            "1302/1302 [==============================] - 12s 9ms/step - loss: 0.0213 - accuracy: 0.9933 - weighted_accuracy: 0.9935 - val_loss: 0.1352 - val_accuracy: 0.9623 - val_weighted_accuracy: 0.9623\n",
            "Epoch 64/100\n",
            "1302/1302 [==============================] - 12s 9ms/step - loss: 0.0181 - accuracy: 0.9936 - weighted_accuracy: 0.9936 - val_loss: 0.1667 - val_accuracy: 0.9664 - val_weighted_accuracy: 0.9664\n",
            "Epoch 65/100\n",
            "1302/1302 [==============================] - 12s 9ms/step - loss: 0.0200 - accuracy: 0.9928 - weighted_accuracy: 0.9929 - val_loss: 0.1933 - val_accuracy: 0.9611 - val_weighted_accuracy: 0.9611\n",
            "Epoch 66/100\n",
            "1302/1302 [==============================] - 12s 9ms/step - loss: 0.0205 - accuracy: 0.9937 - weighted_accuracy: 0.9938 - val_loss: 0.1503 - val_accuracy: 0.9593 - val_weighted_accuracy: 0.9593\n",
            "Epoch 67/100\n",
            "1302/1302 [==============================] - 12s 9ms/step - loss: 0.0197 - accuracy: 0.9938 - weighted_accuracy: 0.9939 - val_loss: 0.1466 - val_accuracy: 0.9616 - val_weighted_accuracy: 0.9616\n",
            "Epoch 68/100\n",
            "1302/1302 [==============================] - 12s 9ms/step - loss: 0.0169 - accuracy: 0.9939 - weighted_accuracy: 0.9941 - val_loss: 0.1544 - val_accuracy: 0.9658 - val_weighted_accuracy: 0.9658\n",
            "Epoch 69/100\n",
            "1302/1302 [==============================] - 12s 9ms/step - loss: 0.0162 - accuracy: 0.9947 - weighted_accuracy: 0.9949 - val_loss: 0.1639 - val_accuracy: 0.9629 - val_weighted_accuracy: 0.9629\n",
            "Epoch 70/100\n",
            "1302/1302 [==============================] - 12s 9ms/step - loss: 0.0180 - accuracy: 0.9948 - weighted_accuracy: 0.9945 - val_loss: 0.1644 - val_accuracy: 0.9628 - val_weighted_accuracy: 0.9628\n",
            "Epoch 71/100\n",
            "1302/1302 [==============================] - 12s 9ms/step - loss: 0.0180 - accuracy: 0.9937 - weighted_accuracy: 0.9938 - val_loss: 0.1548 - val_accuracy: 0.9624 - val_weighted_accuracy: 0.9624\n",
            "Epoch 72/100\n",
            "1302/1302 [==============================] - 12s 9ms/step - loss: 0.0167 - accuracy: 0.9948 - weighted_accuracy: 0.9945 - val_loss: 0.1518 - val_accuracy: 0.9652 - val_weighted_accuracy: 0.9652\n",
            "Epoch 73/100\n",
            "1302/1302 [==============================] - 12s 9ms/step - loss: 0.0187 - accuracy: 0.9938 - weighted_accuracy: 0.9938 - val_loss: 0.1551 - val_accuracy: 0.9624 - val_weighted_accuracy: 0.9624\n",
            "Epoch 74/100\n",
            "1302/1302 [==============================] - 12s 9ms/step - loss: 0.0123 - accuracy: 0.9959 - weighted_accuracy: 0.9958 - val_loss: 0.1514 - val_accuracy: 0.9661 - val_weighted_accuracy: 0.9661\n",
            "Epoch 75/100\n",
            "1302/1302 [==============================] - 12s 9ms/step - loss: 0.0202 - accuracy: 0.9935 - weighted_accuracy: 0.9935 - val_loss: 0.1416 - val_accuracy: 0.9648 - val_weighted_accuracy: 0.9648\n",
            "Epoch 76/100\n",
            "1302/1302 [==============================] - 12s 9ms/step - loss: 0.0166 - accuracy: 0.9949 - weighted_accuracy: 0.9947 - val_loss: 0.1315 - val_accuracy: 0.9639 - val_weighted_accuracy: 0.9639\n",
            "Epoch 77/100\n",
            "1302/1302 [==============================] - 12s 9ms/step - loss: 0.0175 - accuracy: 0.9943 - weighted_accuracy: 0.9943 - val_loss: 0.1567 - val_accuracy: 0.9642 - val_weighted_accuracy: 0.9642\n",
            "Epoch 78/100\n",
            "1302/1302 [==============================] - 12s 9ms/step - loss: 0.0144 - accuracy: 0.9960 - weighted_accuracy: 0.9959 - val_loss: 0.1492 - val_accuracy: 0.9638 - val_weighted_accuracy: 0.9638\n",
            "Epoch 79/100\n",
            "1302/1302 [==============================] - 12s 9ms/step - loss: 0.0156 - accuracy: 0.9957 - weighted_accuracy: 0.9955 - val_loss: 0.1528 - val_accuracy: 0.9670 - val_weighted_accuracy: 0.9670\n",
            "Epoch 80/100\n",
            "1302/1302 [==============================] - 12s 9ms/step - loss: 0.0156 - accuracy: 0.9954 - weighted_accuracy: 0.9953 - val_loss: 0.1745 - val_accuracy: 0.9663 - val_weighted_accuracy: 0.9663\n",
            "Epoch 81/100\n",
            "1302/1302 [==============================] - 12s 9ms/step - loss: 0.0152 - accuracy: 0.9952 - weighted_accuracy: 0.9950 - val_loss: 0.1348 - val_accuracy: 0.9682 - val_weighted_accuracy: 0.9682\n",
            "Epoch 82/100\n",
            "1302/1302 [==============================] - 12s 9ms/step - loss: 0.0136 - accuracy: 0.9955 - weighted_accuracy: 0.9955 - val_loss: 0.1338 - val_accuracy: 0.9612 - val_weighted_accuracy: 0.9612\n",
            "Epoch 83/100\n",
            "1302/1302 [==============================] - 12s 9ms/step - loss: 0.0164 - accuracy: 0.9956 - weighted_accuracy: 0.9952 - val_loss: 0.1233 - val_accuracy: 0.9671 - val_weighted_accuracy: 0.9671\n",
            "Epoch 84/100\n",
            "1302/1302 [==============================] - 12s 9ms/step - loss: 0.0147 - accuracy: 0.9951 - weighted_accuracy: 0.9951 - val_loss: 0.1782 - val_accuracy: 0.9685 - val_weighted_accuracy: 0.9685\n",
            "Epoch 85/100\n",
            "1302/1302 [==============================] - 12s 9ms/step - loss: 0.0144 - accuracy: 0.9952 - weighted_accuracy: 0.9952 - val_loss: 0.1391 - val_accuracy: 0.9674 - val_weighted_accuracy: 0.9674\n",
            "Epoch 86/100\n",
            "1302/1302 [==============================] - 12s 9ms/step - loss: 0.0125 - accuracy: 0.9962 - weighted_accuracy: 0.9962 - val_loss: 0.1719 - val_accuracy: 0.9665 - val_weighted_accuracy: 0.9665\n",
            "Epoch 87/100\n",
            "1302/1302 [==============================] - 12s 9ms/step - loss: 0.0132 - accuracy: 0.9957 - weighted_accuracy: 0.9958 - val_loss: 0.1364 - val_accuracy: 0.9673 - val_weighted_accuracy: 0.9673\n",
            "Epoch 88/100\n",
            "1302/1302 [==============================] - 12s 9ms/step - loss: 0.0167 - accuracy: 0.9946 - weighted_accuracy: 0.9945 - val_loss: 0.1567 - val_accuracy: 0.9668 - val_weighted_accuracy: 0.9668\n",
            "Epoch 89/100\n",
            "1302/1302 [==============================] - 12s 9ms/step - loss: 0.0122 - accuracy: 0.9958 - weighted_accuracy: 0.9957 - val_loss: 0.1866 - val_accuracy: 0.9665 - val_weighted_accuracy: 0.9665\n",
            "Epoch 90/100\n",
            "1302/1302 [==============================] - 12s 9ms/step - loss: 0.0138 - accuracy: 0.9957 - weighted_accuracy: 0.9955 - val_loss: 0.1457 - val_accuracy: 0.9685 - val_weighted_accuracy: 0.9685\n",
            "Epoch 91/100\n",
            "1302/1302 [==============================] - 12s 9ms/step - loss: 0.0129 - accuracy: 0.9962 - weighted_accuracy: 0.9962 - val_loss: 0.1533 - val_accuracy: 0.9676 - val_weighted_accuracy: 0.9676\n",
            "Epoch 92/100\n",
            "1302/1302 [==============================] - 12s 9ms/step - loss: 0.0125 - accuracy: 0.9966 - weighted_accuracy: 0.9964 - val_loss: 0.1872 - val_accuracy: 0.9612 - val_weighted_accuracy: 0.9612\n",
            "Epoch 93/100\n",
            "1302/1302 [==============================] - 12s 9ms/step - loss: 0.0120 - accuracy: 0.9961 - weighted_accuracy: 0.9959 - val_loss: 0.1596 - val_accuracy: 0.9678 - val_weighted_accuracy: 0.9678\n",
            "Epoch 94/100\n",
            "1302/1302 [==============================] - 12s 9ms/step - loss: 0.0134 - accuracy: 0.9959 - weighted_accuracy: 0.9957 - val_loss: 0.1852 - val_accuracy: 0.9578 - val_weighted_accuracy: 0.9578\n",
            "Epoch 95/100\n",
            "1302/1302 [==============================] - 12s 9ms/step - loss: 0.0129 - accuracy: 0.9956 - weighted_accuracy: 0.9955 - val_loss: 0.1873 - val_accuracy: 0.9661 - val_weighted_accuracy: 0.9661\n",
            "Epoch 96/100\n",
            "1302/1302 [==============================] - 12s 9ms/step - loss: 0.0136 - accuracy: 0.9961 - weighted_accuracy: 0.9959 - val_loss: 0.1509 - val_accuracy: 0.9672 - val_weighted_accuracy: 0.9672\n",
            "Epoch 97/100\n",
            "1302/1302 [==============================] - 12s 9ms/step - loss: 0.0115 - accuracy: 0.9968 - weighted_accuracy: 0.9966 - val_loss: 0.1610 - val_accuracy: 0.9676 - val_weighted_accuracy: 0.9676\n",
            "Epoch 98/100\n",
            "1302/1302 [==============================] - 12s 9ms/step - loss: 0.0108 - accuracy: 0.9970 - weighted_accuracy: 0.9968 - val_loss: 0.1526 - val_accuracy: 0.9680 - val_weighted_accuracy: 0.9680\n",
            "Epoch 99/100\n",
            "1302/1302 [==============================] - 12s 9ms/step - loss: 0.0130 - accuracy: 0.9961 - weighted_accuracy: 0.9958 - val_loss: 0.1557 - val_accuracy: 0.9662 - val_weighted_accuracy: 0.9662\n",
            "Epoch 100/100\n",
            "1302/1302 [==============================] - 12s 9ms/step - loss: 0.0132 - accuracy: 0.9964 - weighted_accuracy: 0.9964 - val_loss: 0.1785 - val_accuracy: 0.9693 - val_weighted_accuracy: 0.9693\n"
          ]
        }
      ]
    },
    {
      "cell_type": "code",
      "source": [
        "score = model.evaluate(X_test, y_test, verbose=1)\n",
        "print('Test loss:', score[0])\n",
        "print('Test accuracy:', score[1])"
      ],
      "metadata": {
        "colab": {
          "base_uri": "https://localhost:8080/"
        },
        "id": "G4_WKhQApzXS",
        "outputId": "6edc2baf-4518-4c54-9683-0995d7e57e9f"
      },
      "execution_count": 82,
      "outputs": [
        {
          "output_type": "stream",
          "name": "stdout",
          "text": [
            "558/558 [==============================] - 2s 4ms/step - loss: 0.1785 - accuracy: 0.9693 - weighted_accuracy: 0.9693\n",
            "Test loss: 0.17850008606910706\n",
            "Test accuracy: 0.9693100452423096\n"
          ]
        }
      ]
    },
    {
      "cell_type": "code",
      "source": [
        "import matplotlib.pyplot as plt\n",
        "plt.plot(m.history['accuracy'])\n",
        "plt.plot(m.history['val_accuracy'])\n",
        "plt.title('model accuracy')\n",
        "plt.ylabel('accuracy')\n",
        "plt.xlabel('epoch')\n",
        "plt.legend(['train', 'test'], loc='upper left')\n",
        "plt.show()"
      ],
      "metadata": {
        "colab": {
          "base_uri": "https://localhost:8080/",
          "height": 295
        },
        "id": "FkxmcluMp21p",
        "outputId": "0ed4f9ef-9e58-4d96-b345-598f88bea2af"
      },
      "execution_count": 83,
      "outputs": [
        {
          "output_type": "display_data",
          "data": {
            "text/plain": [
              "<Figure size 432x288 with 1 Axes>"
            ],
            "image/png": "[encoded data removed]"
          },
          "metadata": {
            "needs_background": "light"
          }
        }
      ]
    },
    {
      "cell_type": "code",
      "source": [
        "plt.plot(m.history['loss'])\n",
        "plt.plot(m.history['val_loss'])\n",
        "plt.title('model loss')\n",
        "plt.ylabel('loss')\n",
        "plt.xlabel('epoch')\n",
        "plt.legend(['train', 'test'], loc='upper left')\n",
        "plt.show()"
      ],
      "metadata": {
        "colab": {
          "base_uri": "https://localhost:8080/",
          "height": 295
        },
        "id": "vk-TIPxhp64q",
        "outputId": "15d25535-e096-4a42-f974-c9e790296697"
      },
      "execution_count": 84,
      "outputs": [
        {
          "output_type": "display_data",
          "data": {
            "text/plain": [
              "<Figure size 432x288 with 1 Axes>"
            ],
            "image/png": "[encoded data removed]"
          },
          "metadata": {
            "needs_background": "light"
          }
        }
      ]
    }
  ]
}