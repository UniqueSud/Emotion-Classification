{
  "cells": [
    {
      "cell_type": "code",
      "execution_count": null,
      "metadata": {
        "id": "ls_Bi6wPXVkJ"
      },
      "outputs": [],
      "source": [
        "import scipy.io as sio\n",
        "import os\n",
        "import numpy as np\n",
        "import pandas as pd\n",
        "from scipy.signal import spectrogram\n",
        "\n",
        "from sklearn.model_selection import train_test_split\n",
        "from scipy import signal\n",
        "#mat = scipy.io.loadmat('file.mat')"
      ]
    },
    {
      "cell_type": "code",
      "execution_count": null,
      "metadata": {
        "colab": {
          "base_uri": "https://localhost:8080/"
        },
        "id": "Ztroxfpr6GF8",
        "outputId": "068925cb-3b7a-4a2f-e17a-437a7cf441ba"
      },
      "outputs": [
        {
          "output_type": "stream",
          "name": "stdout",
          "text": [
            "Mounted at /content/drive/\n"
          ]
        }
      ],
      "source": [
        "from google.colab import drive\n",
        "drive.mount('/content/drive/')"
      ]
    },
    {
      "cell_type": "code",
      "execution_count": null,
      "metadata": {
        "id": "5oV0snlG6TW6"
      },
      "outputs": [],
      "source": [
        "os.getcwd()\n",
        "os.chdir('/content/drive/My Drive')"
      ]
    },
    {
      "cell_type": "code",
      "execution_count": null,
      "metadata": {
        "id": "SAxGwSvy8N98"
      },
      "outputs": [],
      "source": [
        "#mat = sio.loadmat('/content/drive/My Drive/MTech_Thesis/DENS/Baseling/Baseline_mit123.mat')"
      ]
    },
    {
      "cell_type": "code",
      "execution_count": null,
      "metadata": {
        "id": "9jLbi4IRZmaj"
      },
      "outputs": [],
      "source": [
        "#mat"
      ]
    },
    {
      "cell_type": "code",
      "execution_count": null,
      "metadata": {
        "id": "BdBFc8Oa9HEH"
      },
      "outputs": [],
      "source": [
        "#data = mat.get('eegData')"
      ]
    },
    {
      "cell_type": "code",
      "execution_count": null,
      "metadata": {
        "id": "USFiP4ntZqLS"
      },
      "outputs": [],
      "source": [
        "#data"
      ]
    },
    {
      "cell_type": "code",
      "execution_count": null,
      "metadata": {
        "id": "rf4DXtshTvzz"
      },
      "outputs": [],
      "source": [
        "#data = np.array(data)"
      ]
    },
    {
      "cell_type": "code",
      "execution_count": null,
      "metadata": {
        "id": "rqItr0KaT5Vh"
      },
      "outputs": [],
      "source": [
        "#data.shape"
      ]
    },
    {
      "cell_type": "code",
      "execution_count": null,
      "metadata": {
        "id": "cdjrHzBctRis"
      },
      "outputs": [],
      "source": [
        "_,_, files = next(os.walk('/content/drive/My Drive/MTech_Thesis/DENS/Emotional'))\n",
        "files_count = len(files)"
      ]
    },
    {
      "cell_type": "code",
      "execution_count": null,
      "metadata": {
        "colab": {
          "base_uri": "https://localhost:8080/"
        },
        "id": "b7Wa1iRjINkB",
        "outputId": "de255508-0ccb-4479-8cb7-e9b64fe58834"
      },
      "outputs": [
        {
          "output_type": "execute_result",
          "data": {
            "text/plain": [
              "['Joyous_mit003Trial-2Click-1.mat',\n",
              " 'Afraid_mit003Trial-6Click-2.mat',\n",
              " 'Angry_mit003Trial-7Click-4.mat',\n",
              " 'Hate_mit003Trial-7Click-3.mat',\n",
              " 'Hate_mit003Trial-10Click-6.mat',\n",
              " 'Alarmed_mit003Trial-9Click-5.mat',\n",
              " 'Sad_mit003Trial-11Click-7.mat',\n",
              " 'Amused_mit004Trial-3Click-1.mat',\n",
              " 'Adventorous_mit004Trial-4Click-3.mat',\n",
              " 'Excited_mit004Trial-4Click-2.mat',\n",
              " 'Disgust_mit004Trial-5Click-4.mat',\n",
              " 'Disgust_mit004Trial-5Click-5.mat',\n",
              " 'Happy_mit004Trial-8Click-6.mat',\n",
              " 'Happy_mit004Trial-8Click-7.mat',\n",
              " 'Taken Aback_mit004Trial-11Click-9.mat',\n",
              " 'Distress_mit007Trial-3Click-2.mat',\n",
              " 'Miserable_mit007Trial-2Click-1.mat',\n",
              " 'Despondent_mit007Trial-4Click-4.mat',\n",
              " 'Miserable_mit007Trial-4Click-3.mat',\n",
              " 'Happy_mit007Trial-7Click-6.mat',\n",
              " 'Hate_mit007Trial-5Click-5.mat',\n",
              " 'Joyous_mit007Trial-7Click-7.mat',\n",
              " 'Calm_mit014Trial-1Click-1.mat',\n",
              " 'Pensive_mit014Trial-1Click-3.mat',\n",
              " 'Pensive_mit014Trial-1Click-2.mat',\n",
              " 'Amused_mit014Trial-2Click-4.mat',\n",
              " 'Excited_mit014Trial-2Click-5.mat',\n",
              " 'Amused_mit014Trial-3Click-7.mat',\n",
              " 'Distress_mit014Trial-2Click-6.mat',\n",
              " 'Disgust_mit014Trial-4Click-9.mat',\n",
              " 'Tense_mit014Trial-4Click-8.mat',\n",
              " 'Hate_mit014Trial-6Click-11.mat',\n",
              " 'Startled_mit014Trial-4Click-10.mat',\n",
              " 'Hate_mit014Trial-6Click-12.mat',\n",
              " 'Hate_mit014Trial-6Click-13.mat',\n",
              " 'Sad_mit014Trial-7Click-15.mat',\n",
              " 'Angry_mit014Trial-6Click-14.mat',\n",
              " 'Melancholic_mit014Trial-7Click-16.mat',\n",
              " 'Disgust_mit014Trial-8Click-17.mat',\n",
              " 'Distress_mit014Trial-9Click-18.mat',\n",
              " 'Distress_mit014Trial-9Click-19.mat',\n",
              " 'Calm_mit017Trial-1Click-1.mat',\n",
              " 'Startled_mit017Trial-2Click-2.mat',\n",
              " 'Miserable_mit017Trial-3Click-4.mat',\n",
              " 'Disgust_mit017Trial-3Click-5.mat',\n",
              " 'Calm_mit017Trial-3Click-3.mat',\n",
              " 'Taken Aback_mit017Trial-4Click-6.mat',\n",
              " 'Frustrated_mit017Trial-4Click-7.mat',\n",
              " 'Dissatisfied_mit017Trial-10Click-9.mat',\n",
              " 'Alarmed_mit017Trial-7Click-8.mat',\n",
              " 'Alarmed_mit017Trial-10Click-10.mat',\n",
              " 'Excited_mit022Trial-1Click-1.mat',\n",
              " 'Sad_mit022Trial-2Click-2.mat',\n",
              " 'Tense_mit022Trial-2Click-3.mat',\n",
              " 'Frustrated_mit022Trial-2Click-4.mat',\n",
              " 'Joyous_mit022Trial-3Click-5.mat',\n",
              " 'Happy_mit022Trial-3Click-6.mat',\n",
              " 'Happy_mit022Trial-3Click-7.mat',\n",
              " 'Happy_mit022Trial-3Click-8.mat',\n",
              " 'Afraid_mit022Trial-4Click-9.mat',\n",
              " 'Afraid_mit022Trial-6Click-12.mat',\n",
              " 'Hate_mit022Trial-4Click-11.mat',\n",
              " 'Hate_mit022Trial-4Click-10.mat',\n",
              " 'Afraid_mit022Trial-6Click-13.mat',\n",
              " 'Frustrated_mit022Trial-6Click-14.mat',\n",
              " 'Adventorous_mit022Trial-7Click-15.mat',\n",
              " 'Adventorous_mit022Trial-7Click-16.mat',\n",
              " 'Disgust_mit022Trial-8Click-17.mat',\n",
              " 'Tense_mit022Trial-9Click-20.mat',\n",
              " 'Tense_mit022Trial-8Click-18.mat',\n",
              " 'Disgust_mit022Trial-9Click-22.mat',\n",
              " 'Angry_mit022Trial-9Click-21.mat',\n",
              " 'Hate_mit022Trial-9Click-23.mat',\n",
              " 'Passionate_mit022Trial-10Click-24.mat',\n",
              " 'Alarmed_mit022Trial-11Click-26.mat',\n",
              " 'Alarmed_mit022Trial-11Click-25.mat',\n",
              " 'Disgust_mit022Trial-11Click-27.mat',\n",
              " 'Relaxed_mit023Trial-2Click-1.mat',\n",
              " 'Angry_mit023Trial-4Click-3.mat',\n",
              " 'Amused_mit023Trial-2Click-2.mat',\n",
              " 'Disgust_mit023Trial-5Click-5.mat',\n",
              " 'Disgust_mit023Trial-5Click-4.mat',\n",
              " 'Afraid_mit023Trial-8Click-8.mat',\n",
              " 'Frustrated_mit023Trial-6Click-7.mat',\n",
              " 'Afraid_mit023Trial-6Click-6.mat',\n",
              " 'Triumphant_mit023Trial-10Click-9.mat',\n",
              " 'Afraid_mit023Trial-11Click-10.mat',\n",
              " 'Sad_mit024Trial-7Click-1.mat',\n",
              " 'Sad_mit024Trial-7Click-2.mat',\n",
              " 'Adventorous_mit024Trial-9Click-4.mat',\n",
              " 'Happy_mit024Trial-9Click-3.mat',\n",
              " 'Despondent_mit024Trial-10Click-6.mat',\n",
              " 'Adventorous_mit024Trial-9Click-5.mat',\n",
              " 'Melancholic_mit024Trial-10Click-8.mat',\n",
              " 'Despondent_mit024Trial-10Click-7.mat',\n",
              " 'Angry_mit032Trial-3Click-1.mat',\n",
              " 'Angry_mit032Trial-3Click-2.mat',\n",
              " 'Startled_mit032Trial-5Click-3.mat',\n",
              " 'Hate_mit032Trial-5Click-4.mat',\n",
              " 'Sad_mit032Trial-7Click-5.mat',\n",
              " 'Sad_mit032Trial-7Click-6.mat',\n",
              " 'Sad_mit032Trial-8Click-7.mat',\n",
              " 'Aroused_mit032Trial-10Click-9.mat',\n",
              " 'Sad_mit032Trial-8Click-8.mat',\n",
              " 'Afraid_mit032Trial-11Click-10.mat',\n",
              " 'Disgust_mit035Trial-2Click-3.mat',\n",
              " 'Angry_mit035Trial-2Click-2.mat',\n",
              " 'Disgust_mit035Trial-2Click-4.mat',\n",
              " 'Disgust_mit035Trial-2Click-5.mat',\n",
              " 'Miserable_mit035Trial-3Click-6.mat',\n",
              " 'Despondent_mit035Trial-4Click-8.mat',\n",
              " 'Miserable_mit035Trial-3Click-7.mat',\n",
              " 'Miserable_mit035Trial-6Click-10.mat',\n",
              " 'Angry_mit035Trial-6Click-9.mat',\n",
              " 'Sad_mit035Trial-6Click-11.mat',\n",
              " 'Angry_mit035Trial-6Click-12.mat',\n",
              " 'Alarmed_mit035Trial-10Click-15.mat',\n",
              " 'Afraid_mit035Trial-7Click-13.mat',\n",
              " 'Adventorous_mit035Trial-11Click-17.mat',\n",
              " 'Startled_mit035Trial-10Click-16.mat',\n",
              " 'Excited_mit035Trial-11Click-18.mat',\n",
              " 'Adventorous_mit035Trial-11Click-19.mat',\n",
              " 'Angry_mit039Trial-3Click-3.mat',\n",
              " 'Disgust_mit039Trial-2Click-2.mat',\n",
              " 'Disgust_mit039Trial-2Click-1.mat',\n",
              " 'Disgust_mit039Trial-8Click-6.mat',\n",
              " 'Disgust_mit039Trial-7Click-5.mat',\n",
              " 'Afraid_mit039Trial-5Click-4.mat',\n",
              " 'Excited_mit040Trial-4Click-2.mat',\n",
              " 'Delighted_mit040Trial-4Click-3.mat',\n",
              " 'Joyous_mit040Trial-4Click-1.mat',\n",
              " 'Despondent_mit040Trial-11Click-5.mat',\n",
              " 'Sad_mit040Trial-9Click-4.mat',\n",
              " 'Happy_mit051Trial-2Click-1.mat',\n",
              " 'Despondent_mit051Trial-3Click-5.mat',\n",
              " 'Taken Aback_mit051Trial-3Click-4.mat',\n",
              " 'Alarmed_mit051Trial-4Click-7.mat',\n",
              " 'Miserable_mit051Trial-3Click-6.mat',\n",
              " 'Afraid_mit051Trial-4Click-8.mat',\n",
              " 'Sad_mit051Trial-5Click-11.mat',\n",
              " 'Sad_mit051Trial-5Click-12.mat',\n",
              " 'Angry_mit051Trial-6Click-13.mat',\n",
              " 'Angry_mit051Trial-6Click-14.mat',\n",
              " 'Excited_mit051Trial-9Click-16.mat',\n",
              " 'Delighted_mit051Trial-9Click-17.mat',\n",
              " 'Alarmed_mit051Trial-10Click-19.mat',\n",
              " 'Excited_mit052Trial-3Click-1.mat',\n",
              " 'Excited_mit052Trial-3Click-2.mat',\n",
              " 'Excited_mit052Trial-3Click-3.mat',\n",
              " 'Joyous_mit052Trial-4Click-4.mat',\n",
              " 'Amused_mit052Trial-4Click-5.mat',\n",
              " 'Amused_mit052Trial-4Click-7.mat',\n",
              " 'Amused_mit052Trial-4Click-6.mat',\n",
              " 'Angry_mit052Trial-5Click-9.mat',\n",
              " 'Angry_mit052Trial-5Click-10.mat',\n",
              " 'Startled_mit052Trial-5Click-8.mat',\n",
              " 'Angry_mit052Trial-5Click-12.mat',\n",
              " 'Startled_mit052Trial-5Click-11.mat',\n",
              " 'Dissatisfied_mit052Trial-6Click-15.mat',\n",
              " 'Sad_mit052Trial-6Click-14.mat',\n",
              " 'Sad_mit052Trial-6Click-13.mat',\n",
              " 'Angry_mit052Trial-7Click-17.mat',\n",
              " 'Depressed_mit052Trial-6Click-16.mat',\n",
              " 'Tense_mit052Trial-7Click-18.mat',\n",
              " 'Dissatisfied_mit052Trial-8Click-19.mat',\n",
              " 'Dissatisfied_mit052Trial-8Click-20.mat',\n",
              " 'Startled_mit052Trial-8Click-21.mat',\n",
              " 'Alarmed_mit052Trial-10Click-22.mat',\n",
              " 'Sad_mit052Trial-10Click-24.mat',\n",
              " 'Disgust_mit052Trial-10Click-23.mat',\n",
              " 'Angry_mit052Trial-10Click-25.mat',\n",
              " 'Lust_mit052Trial-11Click-28.mat',\n",
              " 'Lust_mit052Trial-11Click-27.mat',\n",
              " 'Aroused_mit052Trial-11Click-26.mat',\n",
              " 'Hate_mit054Trial-6Click-3.mat',\n",
              " 'Afraid_mit054Trial-4Click-1.mat',\n",
              " 'Afraid_mit054Trial-6Click-4.mat',\n",
              " 'Afraid_mit054Trial-9Click-6.mat',\n",
              " 'Afraid_mit054Trial-7Click-5.mat',\n",
              " 'Frustrated_mit054Trial-10Click-7.mat',\n",
              " 'Happy_mit061Trial-3Click-2.mat',\n",
              " 'Adventorous_mit061Trial-3Click-3.mat',\n",
              " 'Happy_mit061Trial-4Click-5.mat',\n",
              " 'Aroused_mit061Trial-4Click-4.mat',\n",
              " 'Aroused_mit061Trial-4Click-6.mat',\n",
              " 'Afraid_mit061Trial-5Click-7.mat',\n",
              " 'Joyous_mit061Trial-8Click-8.mat',\n",
              " 'Sad_mit061Trial-10Click-9.mat',\n",
              " 'Excited_mit061Trial-11Click-10.mat',\n",
              " 'Angry_mit067Trial-1Click-1.mat',\n",
              " 'Distress_mit067Trial-4Click-3.mat',\n",
              " 'Distress_mit067Trial-4Click-2.mat',\n",
              " 'Joyous_mit067Trial-8Click-5.mat',\n",
              " 'Angry_mit067Trial-9Click-6.mat',\n",
              " 'Angry_mit067Trial-6Click-4.mat',\n",
              " 'Hate_mit067Trial-10Click-7.mat',\n",
              " 'Adventorous_mit072Trial-1Click-1.mat',\n",
              " 'Alarmed_mit072Trial-1Click-2.mat',\n",
              " 'Happy_mit072Trial-2Click-4.mat',\n",
              " 'Adventorous_mit072Trial-1Click-3.mat',\n",
              " 'Joyous_mit072Trial-2Click-5.mat',\n",
              " 'Amused_mit072Trial-2Click-6.mat',\n",
              " 'Startled_mit072Trial-3Click-9.mat',\n",
              " 'Disgust_mit072Trial-3Click-8.mat',\n",
              " 'Joyous_mit072Trial-2Click-7.mat',\n",
              " 'Afraid_mit072Trial-3Click-11.mat',\n",
              " 'Angry_mit072Trial-3Click-10.mat',\n",
              " 'Alarmed_mit072Trial-3Click-12.mat',\n",
              " 'Despondent_mit072Trial-4Click-14.mat',\n",
              " 'Sad_mit072Trial-4Click-13.mat',\n",
              " 'Sad_mit072Trial-4Click-15.mat',\n",
              " 'Miserable_mit072Trial-4Click-16.mat',\n",
              " 'Alarmed_mit072Trial-5Click-17.mat',\n",
              " 'Afraid_mit072Trial-5Click-18.mat',\n",
              " 'Happy_mit072Trial-6Click-19.mat',\n",
              " 'Angry_mit072Trial-7Click-21.mat',\n",
              " 'Joyous_mit072Trial-6Click-20.mat',\n",
              " 'Distress_mit072Trial-7Click-23.mat',\n",
              " 'Disgust_mit072Trial-7Click-22.mat',\n",
              " 'Hate_mit072Trial-7Click-24.mat',\n",
              " 'Delighted_mit072Trial-9Click-26.mat',\n",
              " 'Excited_mit072Trial-9Click-25.mat',\n",
              " 'Adventorous_mit072Trial-10Click-27.mat',\n",
              " 'Excited_mit072Trial-10Click-28.mat',\n",
              " 'Adventorous_mit072Trial-10Click-29.mat',\n",
              " 'Alarmed_mit072Trial-11Click-31.mat',\n",
              " 'Angry_mit072Trial-11Click-30.mat',\n",
              " 'Despondent_mit072Trial-11Click-32.mat',\n",
              " 'Excited_mit074Trial-3Click-1.mat',\n",
              " 'Passionate_mit074Trial-3Click-2.mat',\n",
              " 'Adventorous_mit074Trial-5Click-5.mat',\n",
              " 'Adventorous_mit074Trial-5Click-4.mat',\n",
              " 'Alarmed_mit074Trial-5Click-3.mat',\n",
              " 'Hate_mit074Trial-6Click-7.mat',\n",
              " 'Disgust_mit074Trial-7Click-8.mat',\n",
              " 'Disgust_mit074Trial-6Click-6.mat',\n",
              " 'Hate_mit074Trial-7Click-9.mat',\n",
              " 'Disgust_mit074Trial-7Click-10.mat',\n",
              " 'Disgust_mit074Trial-8Click-11.mat',\n",
              " 'Hate_mit074Trial-8Click-12.mat',\n",
              " 'Despondent_mit074Trial-9Click-15.mat',\n",
              " 'Sad_mit074Trial-9Click-13.mat',\n",
              " 'Depressed_mit074Trial-9Click-14.mat',\n",
              " 'Disgust_mit074Trial-10Click-17.mat',\n",
              " 'Miserable_mit074Trial-10Click-18.mat',\n",
              " 'Hate_mit074Trial-10Click-16.mat',\n",
              " 'Disgust_mit074Trial-10Click-19.mat',\n",
              " 'Afraid_mit076Trial-4Click-4.mat',\n",
              " 'Afraid_mit076Trial-4Click-3.mat',\n",
              " 'Taken Aback_mit076Trial-4Click-2.mat',\n",
              " 'Melancholic_mit076Trial-8Click-5.mat',\n",
              " 'Startled_mit079Trial-1Click-1.mat',\n",
              " 'Distress_mit079Trial-1Click-3.mat',\n",
              " 'Distress_mit079Trial-1Click-2.mat',\n",
              " 'Frustrated_mit079Trial-2Click-4.mat',\n",
              " 'Triumphant_mit079Trial-3Click-8.mat',\n",
              " 'Delighted_mit079Trial-3Click-7.mat',\n",
              " 'Passionate_mit079Trial-5Click-9.mat',\n",
              " 'Lust_mit079Trial-5Click-10.mat',\n",
              " 'Delighted_mit079Trial-6Click-11.mat',\n",
              " 'Startled_mit079Trial-6Click-12.mat',\n",
              " 'Afraid_mit079Trial-6Click-13.mat',\n",
              " 'Tense_mit079Trial-7Click-14.mat',\n",
              " 'Afraid_mit079Trial-7Click-15.mat',\n",
              " 'Tense_mit079Trial-7Click-16.mat',\n",
              " 'Excited_mit079Trial-8Click-17.mat',\n",
              " 'Distress_mit079Trial-8Click-19.mat',\n",
              " 'Distress_mit079Trial-8Click-18.mat',\n",
              " 'Startled_mit079Trial-8Click-20.mat',\n",
              " 'Excited_mit079Trial-9Click-22.mat',\n",
              " 'Excited_mit079Trial-9Click-21.mat',\n",
              " 'Amused_mit079Trial-9Click-23.mat',\n",
              " 'Distress_mit079Trial-10Click-25.mat',\n",
              " 'Disgust_mit079Trial-10Click-24.mat',\n",
              " 'Disgust_mit079Trial-10Click-27.mat',\n",
              " 'Angry_mit079Trial-10Click-26.mat',\n",
              " 'Afraid_mit080Trial-2Click-1.mat',\n",
              " 'Afraid_mit080Trial-2Click-2.mat',\n",
              " 'Passionate_mit080Trial-3Click-3.mat',\n",
              " 'Disgust_mit080Trial-7Click-5.mat',\n",
              " 'Frustrated_mit080Trial-7Click-6.mat',\n",
              " 'Distress_mit080Trial-6Click-4.mat',\n",
              " 'Disgust_mit080Trial-11Click-7.mat',\n",
              " 'Sad_mit081Trial-3Click-1.mat',\n",
              " 'Happy_mit081Trial-7Click-3.mat',\n",
              " 'Afraid_mit081Trial-10Click-7.mat',\n",
              " 'Startled_mit081Trial-9Click-4.mat',\n",
              " 'Taken Aback_mit082Trial-1Click-1.mat',\n",
              " 'Afraid_mit082Trial-2Click-2.mat',\n",
              " 'Delighted_mit082Trial-3Click-4.mat',\n",
              " 'Tense_mit082Trial-2Click-3.mat',\n",
              " 'Disgust_mit082Trial-4Click-6.mat',\n",
              " 'Amused_mit082Trial-3Click-5.mat',\n",
              " 'Afraid_mit082Trial-4Click-7.mat',\n",
              " 'Angry_mit082Trial-4Click-8.mat',\n",
              " 'Angry_mit082Trial-4Click-9.mat',\n",
              " 'Frustrated_mit082Trial-5Click-10.mat',\n",
              " 'Sad_mit082Trial-5Click-11.mat',\n",
              " 'Distrustful_mit082Trial-5Click-13.mat',\n",
              " 'Sad_mit082Trial-5Click-12.mat',\n",
              " 'Melancholic_mit082Trial-7Click-16.mat',\n",
              " 'Miserable_mit082Trial-7Click-15.mat',\n",
              " 'Dissatisfied_mit082Trial-7Click-14.mat',\n",
              " 'Delighted_mit082Trial-9Click-17.mat',\n",
              " 'Afraid_mit082Trial-10Click-19.mat',\n",
              " 'Aroused_mit082Trial-9Click-18.mat',\n",
              " 'Startled_mit082Trial-10Click-20.mat',\n",
              " 'Distress_mit082Trial-10Click-21.mat',\n",
              " 'Alarmed_mit082Trial-11Click-23.mat',\n",
              " 'Startled_mit082Trial-11Click-24.mat',\n",
              " 'Distress_mit082Trial-11Click-22.mat',\n",
              " 'Afraid_mit082Trial-11Click-25.mat',\n",
              " 'Love_mit096Trial-2Click-1.mat',\n",
              " 'Compassionate_mit096Trial-5Click-3.mat',\n",
              " 'Aroused_mit096Trial-2Click-2.mat',\n",
              " 'Angry_mit096Trial-8Click-6.mat',\n",
              " 'Tense_mit096Trial-6Click-5.mat',\n",
              " 'Compassionate_mit096Trial-5Click-4.mat',\n",
              " 'Excited_mit096Trial-9Click-7.mat',\n",
              " 'Excited_mit096Trial-11Click-9.mat',\n",
              " 'Adventorous_mit097Trial-1Click-1.mat',\n",
              " 'Alarmed_mit097Trial-2Click-2.mat',\n",
              " 'Alarmed_mit097Trial-2Click-3.mat',\n",
              " 'Distress_mit097Trial-5Click-6.mat',\n",
              " 'Miserable_mit097Trial-3Click-5.mat',\n",
              " 'Depressed_mit097Trial-3Click-4.mat',\n",
              " 'Sad_mit097Trial-10Click-8.mat',\n",
              " 'Disgust_mit097Trial-9Click-7.mat',\n",
              " 'Pleased_mit097Trial-11Click-9.mat',\n",
              " 'Disgust_mit099Trial-1Click-2.mat',\n",
              " 'Tense_mit099Trial-1Click-1.mat',\n",
              " 'Afraid_mit099Trial-2Click-5.mat',\n",
              " 'Afraid_mit099Trial-2Click-4.mat',\n",
              " 'Afraid_mit099Trial-2Click-3.mat',\n",
              " 'Alarmed_mit099Trial-3Click-7.mat',\n",
              " 'Miserable_mit099Trial-3Click-6.mat',\n",
              " 'Distress_mit099Trial-4Click-10.mat',\n",
              " 'Taken Aback_mit099Trial-4Click-9.mat',\n",
              " 'Alarmed_mit099Trial-3Click-8.mat',\n",
              " 'Hate_mit099Trial-4Click-11.mat',\n",
              " 'Miserable_mit099Trial-5Click-12.mat',\n",
              " 'Passionate_mit099Trial-6Click-14.mat',\n",
              " 'Lust_mit099Trial-6Click-15.mat',\n",
              " 'Alarmed_mit099Trial-5Click-13.mat',\n",
              " 'Sad_mit099Trial-7Click-16.mat',\n",
              " 'Amused_mit099Trial-9Click-17.mat',\n",
              " 'Excited_mit099Trial-9Click-18.mat',\n",
              " 'Afraid_mit099Trial-10Click-20.mat',\n",
              " 'Sad_mit099Trial-10Click-21.mat',\n",
              " 'Sad_mit099Trial-10Click-22.mat',\n",
              " 'Joyous_mit104Trial-2Click-1.mat',\n",
              " 'Excited_mit104Trial-9Click-2.mat',\n",
              " 'Adventorous_mit104Trial-9Click-4.mat',\n",
              " 'Joyous_mit104Trial-9Click-3.mat',\n",
              " 'Sad_mit104Trial-10Click-5.mat',\n",
              " 'Dissatisfied_mit106Trial-5Click-2.mat',\n",
              " 'Hate_mit106Trial-3Click-1.mat',\n",
              " 'Sad_mit106Trial-6Click-5.mat',\n",
              " 'Sad_mit106Trial-5Click-3.mat',\n",
              " 'Dissatisfied_mit106Trial-6Click-4.mat',\n",
              " 'Happy_mit106Trial-9Click-7.mat',\n",
              " 'Passionate_mit106Trial-9Click-6.mat',\n",
              " 'Angry_mit106Trial-10Click-9.mat',\n",
              " 'Angry_mit106Trial-10Click-8.mat',\n",
              " 'Sad_mit107Trial-3Click-1.mat',\n",
              " 'Afraid_mit107Trial-4Click-2.mat',\n",
              " 'Despondent_mit107Trial-7Click-4.mat',\n",
              " 'Adventorous_mit107Trial-6Click-3.mat',\n",
              " 'Angry_mit107Trial-10Click-5.mat',\n",
              " 'Tense_mit108Trial-5Click-1.mat',\n",
              " 'Angry_mit108Trial-5Click-2.mat',\n",
              " 'Afraid_mit108Trial-8Click-5.mat',\n",
              " 'Dissatisfied_mit108Trial-8Click-4.mat',\n",
              " 'Delighted_mit108Trial-7Click-3.mat',\n",
              " 'Alarmed_mit108Trial-9Click-6.mat',\n",
              " 'Afraid_mit108Trial-9Click-7.mat',\n",
              " 'Miserable_mit108Trial-10Click-8.mat',\n",
              " 'Delighted_mit111Trial-4Click-2.mat',\n",
              " 'Joyous_mit111Trial-4Click-1.mat',\n",
              " 'Adventorous_mit111Trial-6Click-4.mat',\n",
              " 'Happy_mit111Trial-4Click-3.mat',\n",
              " 'Excited_mit111Trial-6Click-5.mat',\n",
              " 'Sad_mit111Trial-7Click-7.mat',\n",
              " 'Depressed_mit111Trial-7Click-6.mat',\n",
              " 'Afraid_mit111Trial-9Click-8.mat',\n",
              " 'Sad_mit111Trial-10Click-9.mat',\n",
              " 'Angry_mit111Trial-10Click-10.mat',\n",
              " 'Hate_mit111Trial-10Click-11.mat',\n",
              " 'Disgust_mit113Trial-5Click-2.mat',\n",
              " 'Amused_mit113Trial-2Click-1.mat',\n",
              " 'Startled_mit113Trial-6Click-3.mat',\n",
              " 'Triumphant_mit113Trial-8Click-4.mat',\n",
              " 'Disgust_mit113Trial-9Click-5.mat',\n",
              " 'Happy_mit113Trial-10Click-6.mat',\n",
              " 'Depressed_mit113Trial-11Click-7.mat',\n",
              " 'Startled_mit114Trial-2Click-4.mat',\n",
              " 'Hopeful_mit114Trial-1Click-1.mat',\n",
              " 'Joyous_mit114Trial-3Click-6.mat',\n",
              " 'Joyous_mit114Trial-3Click-7.mat',\n",
              " 'Excited_mit114Trial-2Click-5.mat',\n",
              " 'Distress_mit114Trial-4Click-8.mat',\n",
              " 'Alarmed_mit114Trial-4Click-11.mat',\n",
              " 'Love_mit114Trial-5Click-12.mat',\n",
              " 'Compassionate_mit114Trial-4Click-10.mat',\n",
              " 'Startled_mit114Trial-5Click-13.mat',\n",
              " 'Hate_mit114Trial-5Click-14.mat',\n",
              " 'Tense_mit114Trial-6Click-15.mat',\n",
              " 'Afraid_mit114Trial-6Click-16.mat',\n",
              " 'Dissatisfied_mit114Trial-7Click-19.mat',\n",
              " 'Angry_mit114Trial-7Click-20.mat',\n",
              " 'Sad_mit114Trial-7Click-21.mat',\n",
              " 'Sad_mit114Trial-7Click-22.mat',\n",
              " 'Afraid_mit114Trial-8Click-24.mat',\n",
              " 'Sad_mit114Trial-8Click-25.mat',\n",
              " 'Afraid_mit114Trial-8Click-23.mat',\n",
              " 'Alarmed_mit114Trial-8Click-26.mat',\n",
              " 'Afraid_mit114Trial-10Click-30.mat',\n",
              " 'Amused_mit114Trial-10Click-29.mat',\n",
              " 'Passionate_mit114Trial-11Click-32.mat',\n",
              " 'Adventorous_mit114Trial-10Click-31.mat',\n",
              " 'Lust_mit114Trial-11Click-34.mat',\n",
              " 'Lust_mit114Trial-11Click-33.mat',\n",
              " 'Pensive_mit116Trial-2Click-2.mat',\n",
              " 'Pensive_mit116Trial-2Click-1.mat',\n",
              " 'Joyous_mit116Trial-3Click-3.mat',\n",
              " 'Depressed_mit116Trial-6Click-5.mat',\n",
              " 'Sad_mit116Trial-4Click-4.mat',\n",
              " 'Sad_mit116Trial-6Click-6.mat',\n",
              " 'Miserable_mit116Trial-6Click-7.mat',\n",
              " 'Sad_mit116Trial-7Click-8.mat',\n",
              " 'Miserable_mit116Trial-9Click-9.mat',\n",
              " 'Dissatisfied_mit116Trial-9Click-10.mat',\n",
              " 'Excited_mit116Trial-10Click-12.mat',\n",
              " 'Taken Aback_mit116Trial-11Click-13.mat',\n",
              " 'Joyous_mit116Trial-10Click-11.mat',\n",
              " 'Distress_mit116Trial-11Click-14.mat',\n",
              " 'Joyous_mit117Trial-2Click-1.mat',\n",
              " 'Hate_mit117Trial-3Click-2.mat',\n",
              " 'Angry_mit117Trial-5Click-4.mat',\n",
              " 'Sad_mit117Trial-4Click-3.mat',\n",
              " 'Delighted_mit117Trial-10Click-5.mat',\n",
              " 'Distress_mit117Trial-11Click-6.mat',\n",
              " 'Excited_mit121Trial-1Click-1.mat',\n",
              " 'Joyous_mit121Trial-2Click-3.mat',\n",
              " 'Delighted_mit121Trial-2Click-2.mat',\n",
              " 'Sad_mit121Trial-3Click-4.mat',\n",
              " 'Taken Aback_mit121Trial-4Click-6.mat',\n",
              " 'Sad_mit121Trial-3Click-5.mat',\n",
              " 'Miserable_mit121Trial-4Click-8.mat',\n",
              " 'Miserable_mit121Trial-4Click-7.mat',\n",
              " 'Startled_mit121Trial-5Click-9.mat',\n",
              " 'Startled_mit121Trial-9Click-10.mat',\n",
              " 'Sad_mit121Trial-9Click-11.mat',\n",
              " 'Angry_mit121Trial-10Click-13.mat',\n",
              " 'Afraid_mit121Trial-11Click-14.mat',\n",
              " 'Angry_mit121Trial-10Click-12.mat',\n",
              " 'Alarmed_mit121Trial-11Click-15.mat',\n",
              " 'Amused_mit122Trial-1Click-1.mat',\n",
              " 'Miserable_mit122Trial-2Click-2.mat',\n",
              " 'Hate_mit122Trial-2Click-4.mat',\n",
              " 'Hate_mit122Trial-2Click-3.mat',\n",
              " 'Disgust_mit122Trial-3Click-6.mat',\n",
              " 'Afraid_mit122Trial-3Click-5.mat',\n",
              " 'Disgust_mit122Trial-4Click-7.mat',\n",
              " 'Angry_mit122Trial-6Click-9.mat',\n",
              " 'Hate_mit122Trial-6Click-8.mat',\n",
              " 'Afraid_mit122Trial-7Click-12.mat',\n",
              " 'Hate_mit122Trial-6Click-11.mat',\n",
              " 'Angry_mit122Trial-6Click-10.mat',\n",
              " 'Startled_mit122Trial-8Click-14.mat',\n",
              " 'Distress_mit122Trial-7Click-13.mat',\n",
              " 'Distress_mit122Trial-8Click-15.mat',\n",
              " 'Excited_mit122Trial-10Click-16.mat',\n",
              " 'Joyous_mit122Trial-11Click-17.mat',\n",
              " 'Happy_mit122Trial-11Click-18.mat',\n",
              " 'Afraid_mit123Trial-2Click-1.mat',\n",
              " 'Afraid_mit123Trial-2Click-2.mat',\n",
              " 'Taken Aback_mit123Trial-4Click-3.mat',\n",
              " 'Angry_mit123Trial-5Click-5.mat',\n",
              " 'Taken Aback_mit123Trial-4Click-4.mat',\n",
              " 'Angry_mit123Trial-5Click-6.mat',\n",
              " 'Alarmed_mit123Trial-8Click-8.mat',\n",
              " 'Tense_mit123Trial-8Click-7.mat',\n",
              " 'Alarmed_mit123Trial-9Click-10.mat',\n",
              " 'Alarmed_mit123Trial-9Click-9.mat',\n",
              " 'Melancholic_mitb2017007Trial-2Click-1.mat',\n",
              " 'Sad_mitb2017007Trial-6Click-3.mat',\n",
              " 'Sad_mitb2017007Trial-4Click-2.mat',\n",
              " 'Adventorous_mitb2017007Trial-7Click-4.mat',\n",
              " 'Excited_mitb2017007Trial-7Click-5.mat',\n",
              " 'Taken Aback_mitb2017007Trial-9Click-6.mat',\n",
              " 'Disgust_mitb2017007Trial-11Click-7.mat',\n",
              " 'Distrustful_mitb2017007Trial-11Click-8.mat']"
            ]
          },
          "metadata": {},
          "execution_count": 11
        }
      ],
      "source": [
        "files"
      ]
    },
    {
      "cell_type": "code",
      "execution_count": null,
      "metadata": {
        "id": "hXr3vHgCl9jh"
      },
      "outputs": [],
      "source": [
        "#len(files)"
      ]
    },
    {
      "cell_type": "code",
      "execution_count": null,
      "metadata": {
        "id": "z9IPNKWWmCl1"
      },
      "outputs": [],
      "source": [
        "rating = pd.read_csv('/content/drive/My Drive/MTech_Thesis/DENS/Rating/wholeFrequencyDependentDataWithVADLFR_ReFormattingWholeFrequencyVA - wholeFrequencyDependentDataWithVADLFR_ReFormattingWholeFrequencyVA.csv')"
      ]
    },
    {
      "cell_type": "code",
      "execution_count": null,
      "metadata": {
        "id": "Q2gm37SeqCqV"
      },
      "outputs": [],
      "source": [
        "#df = rating[rating[\"Subject\"].str.contains('Dissatisfied_mit114Trial-7Click-19')]"
      ]
    },
    {
      "cell_type": "code",
      "execution_count": null,
      "metadata": {
        "id": "X6hLhS16sm9f"
      },
      "outputs": [],
      "source": [
        "#df = df[['Subject','valence','arousal']]"
      ]
    },
    {
      "cell_type": "code",
      "execution_count": null,
      "metadata": {
        "id": "8C2i9tP0s9mW"
      },
      "outputs": [],
      "source": [
        "#df = df.drop_duplicates()"
      ]
    },
    {
      "cell_type": "code",
      "execution_count": null,
      "metadata": {
        "id": "wXjwM7gptTbm"
      },
      "outputs": [],
      "source": [
        "#valence = df['valence']\n",
        "#arousal = df['arousal']"
      ]
    },
    {
      "cell_type": "code",
      "execution_count": null,
      "metadata": {
        "id": "UP3rOTAttf_M"
      },
      "outputs": [],
      "source": [
        "#print(valence.values[0])\n",
        "#print(arousal)"
      ]
    },
    {
      "cell_type": "code",
      "execution_count": null,
      "metadata": {
        "id": "3SZD7T-ZMrGr"
      },
      "outputs": [],
      "source": [
        "eeg_data = []\n",
        "eeg_label = []"
      ]
    },
    {
      "cell_type": "code",
      "execution_count": null,
      "metadata": {
        "id": "qNgprMehwbq6"
      },
      "outputs": [],
      "source": [
        "def label_mapping(valence, arousal):\n",
        "    # HVHA, HVLA, LVHA, and LVLA\n",
        "    \n",
        "    if (valence > 5 and arousal > 5):\n",
        "        label = 0 \n",
        "    elif (valence > 5 and arousal <= 5):\n",
        "        label = 1 \n",
        "    elif (valence <= 5 and arousal > 5):\n",
        "        label = 2 \n",
        "    elif (valence <= 5 and arousal <= 5):\n",
        "        label = 3\n",
        "    \n",
        "    return label"
      ]
    },
    {
      "cell_type": "code",
      "execution_count": null,
      "metadata": {
        "id": "_v5jP3fsMCl8"
      },
      "outputs": [],
      "source": [
        "base_path = \"/content/drive/My Drive/MTech_Thesis/DENS/Emotional/\"\n",
        "for f in files:\n",
        "  if f.endswith(\".mat\"):\n",
        "    file_str = f[:-4]\n",
        "    df = rating[rating[\"Subject\"].str.contains(file_str)]\n",
        "    if not df.empty:\n",
        "      path = base_path + f\n",
        "      mat = sio.loadmat(path)\n",
        "      data = mat.get('eegData')\n",
        "      eeg_data.append(data)\n",
        "      df = df[['Subject','valence','arousal']]\n",
        "      df = df.drop_duplicates()\n",
        "      valence = df['valence']\n",
        "      arousal = df['arousal']\n",
        "      lab = label_mapping(valence.values[0], arousal.values[0])\n",
        "      eeg_label.append(lab)"
      ]
    },
    {
      "cell_type": "code",
      "execution_count": null,
      "metadata": {
        "id": "y1_zddLmODQy"
      },
      "outputs": [],
      "source": [
        "eeg_data = np.array(eeg_data)"
      ]
    },
    {
      "cell_type": "code",
      "execution_count": null,
      "metadata": {
        "colab": {
          "base_uri": "https://localhost:8080/"
        },
        "id": "mE62KOYIOINm",
        "outputId": "4539efdc-0d97-4525-eb26-131a235b32ea"
      },
      "outputs": [
        {
          "output_type": "execute_result",
          "data": {
            "text/plain": [
              "(465, 128, 1751)"
            ]
          },
          "metadata": {},
          "execution_count": 23
        }
      ],
      "source": [
        "eeg_data.shape"
      ]
    },
    {
      "cell_type": "code",
      "execution_count": null,
      "metadata": {
        "id": "aXiRiyzTA2P-"
      },
      "outputs": [],
      "source": [
        "eeg_label = np.array(eeg_label)"
      ]
    },
    {
      "cell_type": "code",
      "execution_count": null,
      "metadata": {
        "colab": {
          "base_uri": "https://localhost:8080/"
        },
        "id": "4wMyg9eHCCZ1",
        "outputId": "2881a0c8-211a-4185-bbb3-fc49658128ba"
      },
      "outputs": [
        {
          "output_type": "execute_result",
          "data": {
            "text/plain": [
              "(465,)"
            ]
          },
          "metadata": {},
          "execution_count": 25
        }
      ],
      "source": [
        "eeg_label.shape"
      ]
    },
    {
      "cell_type": "code",
      "execution_count": null,
      "metadata": {
        "id": "yrkIiv7XnBUA"
      },
      "outputs": [],
      "source": [
        "eeg_Label = []\n",
        "for i in eeg_label:\n",
        "    for j in range (0,128):\n",
        "        eeg_Label.append(i)"
      ]
    },
    {
      "cell_type": "code",
      "execution_count": null,
      "metadata": {
        "colab": {
          "base_uri": "https://localhost:8080/",
          "height": 53
        },
        "id": "57d12fLqujOj",
        "outputId": "95e4db66-bcaf-425a-9ec2-b3734141efbe"
      },
      "outputs": [
        {
          "output_type": "execute_result",
          "data": {
            "text/plain": [
              "'\\neeg_Label = np.array(eeg_Label)\\ncount0 = np.count_nonzero(eeg_Label == 0)\\ncount1 = np.count_nonzero(eeg_Label == 1)\\ncount2 = np.count_nonzero(eeg_Label == 2)\\ncount3 = np.count_nonzero(eeg_Label == 3)\\n'"
            ],
            "application/vnd.google.colaboratory.intrinsic+json": {
              "type": "string"
            }
          },
          "metadata": {},
          "execution_count": 27
        }
      ],
      "source": [
        "'''\n",
        "eeg_Label = np.array(eeg_Label)\n",
        "count0 = np.count_nonzero(eeg_Label == 0)\n",
        "count1 = np.count_nonzero(eeg_Label == 1)\n",
        "count2 = np.count_nonzero(eeg_Label == 2)\n",
        "count3 = np.count_nonzero(eeg_Label == 3)\n",
        "'''"
      ]
    },
    {
      "cell_type": "code",
      "execution_count": null,
      "metadata": {
        "colab": {
          "base_uri": "https://localhost:8080/",
          "height": 35
        },
        "id": "-SjzzcQPvBkG",
        "outputId": "6010583b-dbeb-4316-e7a2-0697ee62479e"
      },
      "outputs": [
        {
          "output_type": "execute_result",
          "data": {
            "text/plain": [
              "'\\nprint(count0)\\nprint(count1)\\nprint(count2)\\nprint(count3)\\n'"
            ],
            "application/vnd.google.colaboratory.intrinsic+json": {
              "type": "string"
            }
          },
          "metadata": {},
          "execution_count": 28
        }
      ],
      "source": [
        "'''\n",
        "print(count0)\n",
        "print(count1)\n",
        "print(count2)\n",
        "print(count3)\n",
        "'''"
      ]
    },
    {
      "cell_type": "code",
      "execution_count": null,
      "metadata": {
        "id": "0l25SFviCFX-"
      },
      "outputs": [],
      "source": [
        "from tensorflow.keras.utils import to_categorical \n",
        "y = to_categorical(eeg_Label)"
      ]
    },
    {
      "cell_type": "code",
      "execution_count": null,
      "metadata": {
        "colab": {
          "base_uri": "https://localhost:8080/"
        },
        "id": "budJyMi9mOme",
        "outputId": "e1575613-3e28-417c-e320-94ab25336ff0"
      },
      "outputs": [
        {
          "output_type": "execute_result",
          "data": {
            "text/plain": [
              "(59520, 4)"
            ]
          },
          "metadata": {},
          "execution_count": 30
        }
      ],
      "source": [
        "y.shape"
      ]
    },
    {
      "cell_type": "code",
      "execution_count": null,
      "metadata": {
        "id": "HM5lnt5fCNnq"
      },
      "outputs": [],
      "source": [
        "import functools\n",
        "def combine_dims(a, i=0, n=1):\n",
        "  s = list(a.shape)\n",
        "  combined = functools.reduce(lambda x,y: x*y, s[i:i+n+1])\n",
        "  return np.reshape(a, s[:i] + [combined] + s[i+n+1:])"
      ]
    },
    {
      "cell_type": "code",
      "execution_count": null,
      "metadata": {
        "id": "fqcsIrRJC97G"
      },
      "outputs": [],
      "source": [
        "eeg_Data = combine_dims(np.array(eeg_data), 0)"
      ]
    },
    {
      "cell_type": "code",
      "execution_count": null,
      "metadata": {
        "colab": {
          "base_uri": "https://localhost:8080/"
        },
        "id": "qb7O6M9IDE2D",
        "outputId": "066e2975-01be-499b-cf5d-7210343d9e48"
      },
      "outputs": [
        {
          "output_type": "execute_result",
          "data": {
            "text/plain": [
              "(59520, 1751)"
            ]
          },
          "metadata": {},
          "execution_count": 33
        }
      ],
      "source": [
        "eeg_Data.shape"
      ]
    },
    {
      "cell_type": "code",
      "execution_count": null,
      "metadata": {
        "id": "5Fg_Vk8FnjNi"
      },
      "outputs": [],
      "source": [
        "fs = 250\n",
        "\n",
        "size_dataset = len(eeg_Data)\n",
        "X_full = np.ndarray(shape=(size_dataset, 63, 26, 3))#Signal spectogram # 128 overlap\n",
        "X_test_Full = []               \n",
        "for i in range(0, size_dataset):\n",
        "  for j in range(0,3):\n",
        "    X = eeg_Data[i] \n",
        "    f, t, Sxx = spectrogram(X, fs, nperseg = 125, noverlap = 62.5, mode='psd')\n",
        "    X_full[i, :, :, j] = Sxx\n",
        "    #X_test_Full.append(Sxx)"
      ]
    },
    {
      "cell_type": "code",
      "execution_count": null,
      "metadata": {
        "id": "DECpBmzqoTik"
      },
      "outputs": [],
      "source": [
        "X_full = np.array(X_full)"
      ]
    },
    {
      "cell_type": "code",
      "execution_count": null,
      "metadata": {
        "colab": {
          "base_uri": "https://localhost:8080/"
        },
        "id": "81VnaPCCob3b",
        "outputId": "c1ea91aa-226f-45ee-c573-6b9f372e5976"
      },
      "outputs": [
        {
          "output_type": "execute_result",
          "data": {
            "text/plain": [
              "(59520, 63, 26, 3)"
            ]
          },
          "metadata": {},
          "execution_count": 36
        }
      ],
      "source": [
        "X_full.shape"
      ]
    },
    {
      "cell_type": "code",
      "execution_count": null,
      "metadata": {
        "id": "FDjtp987ozZo"
      },
      "outputs": [],
      "source": [
        "X_train, X_test, y_train, y_test = train_test_split(X_full, y, test_size=0.3, random_state=23)"
      ]
    },
    {
      "cell_type": "code",
      "execution_count": null,
      "metadata": {
        "id": "-9MCilC1o5zJ"
      },
      "outputs": [],
      "source": [
        "X_train /= 255\n",
        "X_test /= 255"
      ]
    },
    {
      "cell_type": "code",
      "execution_count": null,
      "metadata": {
        "id": "ux41izA4pBk2"
      },
      "outputs": [],
      "source": [
        "import pandas as pd\n",
        "import keras.backend as K\n",
        "import numpy as np\n",
        "\n",
        "import keras\n",
        "import tensorflow as tf\n",
        "from keras.models import Sequential\n",
        "from keras.layers import Dense\n",
        "from keras.layers.convolutional import Conv1D\n",
        "from keras.layers.convolutional import MaxPooling1D\n",
        "\n",
        "from keras.layers import Flatten\n",
        "from keras.layers import Dense\n",
        "import numpy as np\n",
        "import keras\n",
        "\n",
        "from keras.layers import Dense, Dropout, Flatten, Conv2D, MaxPooling2D, TimeDistributed, RepeatVector\n",
        "from keras.layers import LSTM, GRU, SimpleRNN\n",
        "from keras import backend as K\n",
        "from keras.models import Model\n",
        "import timeit\n",
        "\n",
        "\n",
        "#import cv2, numpy as np\n",
        "import warnings\n",
        "warnings.filterwarnings('ignore')\n",
        "\n",
        "import sys\n",
        "from keras.layers import Convolution1D, ZeroPadding1D, MaxPooling1D, BatchNormalization, Activation, Dropout, Flatten, Dense\n",
        "from keras.regularizers import l2"
      ]
    },
    {
      "cell_type": "code",
      "execution_count": null,
      "metadata": {
        "id": "wUAbEFeBpI7F"
      },
      "outputs": [],
      "source": [
        "batch_size = 32 \n",
        "num_classes = 4 \n",
        "epochs = 100 "
      ]
    },
    {
      "cell_type": "code",
      "execution_count": null,
      "metadata": {
        "colab": {
          "base_uri": "https://localhost:8080/"
        },
        "id": "zO9XwZfJpLTd",
        "outputId": "1d8f0336-351c-4492-fca9-13d6ceece94b"
      },
      "outputs": [
        {
          "output_type": "execute_result",
          "data": {
            "text/plain": [
              "(63, 26, 3)"
            ]
          },
          "metadata": {},
          "execution_count": 41
        }
      ],
      "source": [
        "input_shape = (X_train.shape[1],X_train.shape[2],X_train.shape[3])\n",
        "input_shape"
      ]
    },
    {
      "cell_type": "code",
      "execution_count": null,
      "metadata": {
        "id": "Yh6MWgodnKDf"
      },
      "outputs": [],
      "source": [
        "zero_weight = 0.95\n",
        "one_weight = 8.94\n",
        "two_weight = 0.48\n",
        "three_weight = 1.35"
      ]
    },
    {
      "cell_type": "code",
      "execution_count": null,
      "metadata": {
        "colab": {
          "base_uri": "https://localhost:8080/"
        },
        "id": "hzRfPC7GpPTw",
        "outputId": "767da725-df97-4a0f-8e54-5b657a14dba9"
      },
      "outputs": [
        {
          "output_type": "stream",
          "name": "stdout",
          "text": [
            "Model: \"sequential\"\n",
            "_________________________________________________________________\n",
            " Layer (type)                Output Shape              Param #   \n",
            "=================================================================\n",
            " conv2d (Conv2D)             (None, 61, 24, 32)        896       \n",
            "                                                                 \n",
            " max_pooling2d (MaxPooling2D  (None, 30, 12, 32)       0         \n",
            " )                                                               \n",
            "                                                                 \n",
            " conv2d_1 (Conv2D)           (None, 28, 10, 64)        18496     \n",
            "                                                                 \n",
            " max_pooling2d_1 (MaxPooling  (None, 14, 5, 64)        0         \n",
            " 2D)                                                             \n",
            "                                                                 \n",
            " dropout (Dropout)           (None, 14, 5, 64)         0         \n",
            "                                                                 \n",
            " flatten (Flatten)           (None, 4480)              0         \n",
            "                                                                 \n",
            " repeat_vector (RepeatVector  (None, 4, 4480)          0         \n",
            " )                                                               \n",
            "                                                                 \n",
            " lstm (LSTM)                 (None, 4, 256)            4850688   \n",
            "                                                                 \n",
            " dropout_1 (Dropout)         (None, 4, 256)            0         \n",
            "                                                                 \n",
            " lstm_1 (LSTM)               (None, 128)               197120    \n",
            "                                                                 \n",
            " dropout_2 (Dropout)         (None, 128)               0         \n",
            "                                                                 \n",
            " dense (Dense)               (None, 64)                8256      \n",
            "                                                                 \n",
            " dropout_3 (Dropout)         (None, 64)                0         \n",
            "                                                                 \n",
            " dense_1 (Dense)             (None, 4)                 260       \n",
            "                                                                 \n",
            "=================================================================\n",
            "Total params: 5,075,716\n",
            "Trainable params: 5,075,716\n",
            "Non-trainable params: 0\n",
            "_________________________________________________________________\n"
          ]
        }
      ],
      "source": [
        "model = Sequential()\n",
        "\n",
        "model.add(Conv2D(32, (3, 3), \n",
        "          strides=(1, 1),\n",
        "          activation='relu', \n",
        "          input_shape=input_shape))\n",
        "model.add(MaxPooling2D((2, 2), strides=(2, 2)))\n",
        "\n",
        "model.add(Conv2D(64, (3, 3), \n",
        "          activation='relu'))\n",
        "model.add(MaxPooling2D((2, 2)))\n",
        "model.add(Dropout(0.1))\n",
        "\n",
        "model.add(Flatten())\n",
        "\n",
        "model.add(RepeatVector(4))\n",
        "'''\n",
        "model.add(Bidirectional(LSTM(128, return_sequences=True)))\n",
        "model.add(Dropout(0.2))\n",
        "'''\n",
        "model.add(LSTM(256, return_sequences=True))\n",
        "model.add(Dropout(0.2))\n",
        "\n",
        "model.add(LSTM(128))\n",
        "model.add(Dropout(0.2))\n",
        "\n",
        "model.add(Dense(64, activation=\"relu\"))\n",
        "model.add(Dropout(0.2))\n",
        "\n",
        "\n",
        "model.add(Dense(num_classes, activation=\"softmax\"))\n",
        "\n",
        "model.compile(loss=\"sparse_categorical_crossentropy\",\n",
        "              optimizer=\"adam\", metrics=[\"accuracy\"])\n",
        "\n",
        "model.summary()"
      ]
    },
    {
      "cell_type": "code",
      "execution_count": null,
      "metadata": {
        "id": "qnk7zD5vDPSF"
      },
      "outputs": [],
      "source": [
        "'''\n",
        "from keras import backend as K\n",
        "\n",
        "def recall_m(y_true, y_pred):\n",
        "    true_positives = K.sum(K.round(K.clip(y_true * y_pred, 0, 1)))\n",
        "    possible_positives = K.sum(K.round(K.clip(y_true, 0, 1)))\n",
        "    recall = true_positives / (possible_positives + K.epsilon())\n",
        "    return recall\n",
        "\n",
        "def precision_m(y_true, y_pred):\n",
        "    true_positives = K.sum(K.round(K.clip(y_true * y_pred, 0, 1)))\n",
        "    predicted_positives = K.sum(K.round(K.clip(y_pred, 0, 1)))\n",
        "    precision = true_positives / (predicted_positives + K.epsilon())\n",
        "    return precision\n",
        "\n",
        "def f1_m(y_true, y_pred):\n",
        "    precision = precision_m(y_true, y_pred)\n",
        "    recall = recall_m(y_true, y_pred)\n",
        "    return 2*((precision*recall)/(precision+recall+K.epsilon()))\n",
        "'''"
      ]
    },
    {
      "cell_type": "code",
      "execution_count": null,
      "metadata": {
        "colab": {
          "base_uri": "https://localhost:8080/"
        },
        "id": "5xWY75FjpQL3",
        "outputId": "80a89092-9b9b-46d1-8fb2-b13e84f62d98"
      },
      "outputs": [
        {
          "output_type": "stream",
          "name": "stdout",
          "text": [
            "Epoch 1/100\n",
            "1302/1302 [==============================] - 23s 8ms/step - loss: 1.3839 - accuracy: 0.2305 - weighted_accuracy: 0.2550 - val_loss: 1.3948 - val_accuracy: 0.1070 - val_weighted_accuracy: 0.1070\n",
            "Epoch 2/100\n",
            "1302/1302 [==============================] - 10s 7ms/step - loss: 1.3341 - accuracy: 0.2846 - weighted_accuracy: 0.3265 - val_loss: 1.3329 - val_accuracy: 0.2838 - val_weighted_accuracy: 0.2838\n",
            "Epoch 3/100\n",
            "1302/1302 [==============================] - 9s 7ms/step - loss: 1.2555 - accuracy: 0.3353 - weighted_accuracy: 0.3979 - val_loss: 1.3293 - val_accuracy: 0.3541 - val_weighted_accuracy: 0.3541\n",
            "Epoch 4/100\n",
            "1302/1302 [==============================] - 10s 7ms/step - loss: 1.1488 - accuracy: 0.4010 - weighted_accuracy: 0.4617 - val_loss: 1.1033 - val_accuracy: 0.5161 - val_weighted_accuracy: 0.5161\n",
            "Epoch 5/100\n",
            "1302/1302 [==============================] - 10s 7ms/step - loss: 1.0089 - accuracy: 0.4681 - weighted_accuracy: 0.5456 - val_loss: 1.0403 - val_accuracy: 0.5077 - val_weighted_accuracy: 0.5077\n",
            "Epoch 6/100\n",
            "1302/1302 [==============================] - 10s 7ms/step - loss: 0.8799 - accuracy: 0.5156 - weighted_accuracy: 0.6076 - val_loss: 1.1118 - val_accuracy: 0.4621 - val_weighted_accuracy: 0.4621\n",
            "Epoch 7/100\n",
            "1302/1302 [==============================] - 10s 7ms/step - loss: 0.7801 - accuracy: 0.5613 - weighted_accuracy: 0.6550 - val_loss: 0.8853 - val_accuracy: 0.5855 - val_weighted_accuracy: 0.5855\n",
            "Epoch 8/100\n",
            "1302/1302 [==============================] - 10s 7ms/step - loss: 0.6792 - accuracy: 0.6178 - weighted_accuracy: 0.7084 - val_loss: 0.7450 - val_accuracy: 0.6610 - val_weighted_accuracy: 0.6610\n",
            "Epoch 9/100\n",
            "1302/1302 [==============================] - 10s 7ms/step - loss: 0.5827 - accuracy: 0.6680 - weighted_accuracy: 0.7523 - val_loss: 0.6529 - val_accuracy: 0.7132 - val_weighted_accuracy: 0.7132\n",
            "Epoch 10/100\n",
            "1302/1302 [==============================] - 10s 7ms/step - loss: 0.5151 - accuracy: 0.7094 - weighted_accuracy: 0.7843 - val_loss: 0.6342 - val_accuracy: 0.7205 - val_weighted_accuracy: 0.7205\n",
            "Epoch 11/100\n",
            "1302/1302 [==============================] - 10s 7ms/step - loss: 0.4541 - accuracy: 0.7441 - weighted_accuracy: 0.8121 - val_loss: 0.5215 - val_accuracy: 0.7767 - val_weighted_accuracy: 0.7767\n",
            "Epoch 12/100\n",
            "1302/1302 [==============================] - 9s 7ms/step - loss: 0.3876 - accuracy: 0.7844 - weighted_accuracy: 0.8429 - val_loss: 0.5281 - val_accuracy: 0.7858 - val_weighted_accuracy: 0.7858\n",
            "Epoch 13/100\n",
            "1302/1302 [==============================] - 10s 7ms/step - loss: 0.3524 - accuracy: 0.8014 - weighted_accuracy: 0.8571 - val_loss: 0.4366 - val_accuracy: 0.8202 - val_weighted_accuracy: 0.8202\n",
            "Epoch 14/100\n",
            "1302/1302 [==============================] - 10s 7ms/step - loss: 0.3060 - accuracy: 0.8336 - weighted_accuracy: 0.8799 - val_loss: 0.4253 - val_accuracy: 0.8268 - val_weighted_accuracy: 0.8268\n",
            "Epoch 15/100\n",
            "1302/1302 [==============================] - 10s 7ms/step - loss: 0.2603 - accuracy: 0.8582 - weighted_accuracy: 0.8982 - val_loss: 0.4275 - val_accuracy: 0.8318 - val_weighted_accuracy: 0.8318\n",
            "Epoch 16/100\n",
            "1302/1302 [==============================] - 10s 7ms/step - loss: 0.2357 - accuracy: 0.8696 - weighted_accuracy: 0.9074 - val_loss: 0.3859 - val_accuracy: 0.8539 - val_weighted_accuracy: 0.8539\n",
            "Epoch 17/100\n",
            "1302/1302 [==============================] - 9s 7ms/step - loss: 0.2004 - accuracy: 0.8938 - weighted_accuracy: 0.9243 - val_loss: 0.4090 - val_accuracy: 0.8425 - val_weighted_accuracy: 0.8425\n",
            "Epoch 18/100\n",
            "1302/1302 [==============================] - 10s 7ms/step - loss: 0.1810 - accuracy: 0.9035 - weighted_accuracy: 0.9314 - val_loss: 0.3191 - val_accuracy: 0.8805 - val_weighted_accuracy: 0.8805\n",
            "Epoch 19/100\n",
            "1302/1302 [==============================] - 10s 7ms/step - loss: 0.1517 - accuracy: 0.9195 - weighted_accuracy: 0.9435 - val_loss: 0.3046 - val_accuracy: 0.8928 - val_weighted_accuracy: 0.8928\n",
            "Epoch 20/100\n",
            "1302/1302 [==============================] - 9s 7ms/step - loss: 0.1615 - accuracy: 0.9199 - weighted_accuracy: 0.9424 - val_loss: 0.2691 - val_accuracy: 0.9057 - val_weighted_accuracy: 0.9057\n",
            "Epoch 21/100\n",
            "1302/1302 [==============================] - 9s 7ms/step - loss: 0.1333 - accuracy: 0.9301 - weighted_accuracy: 0.9500 - val_loss: 0.3210 - val_accuracy: 0.8850 - val_weighted_accuracy: 0.8850\n",
            "Epoch 22/100\n",
            "1302/1302 [==============================] - 10s 7ms/step - loss: 0.1250 - accuracy: 0.9366 - weighted_accuracy: 0.9547 - val_loss: 0.2890 - val_accuracy: 0.8954 - val_weighted_accuracy: 0.8954\n",
            "Epoch 23/100\n",
            "1302/1302 [==============================] - 10s 7ms/step - loss: 0.1205 - accuracy: 0.9391 - weighted_accuracy: 0.9558 - val_loss: 0.2578 - val_accuracy: 0.9158 - val_weighted_accuracy: 0.9158\n",
            "Epoch 24/100\n",
            "1302/1302 [==============================] - 9s 7ms/step - loss: 0.0962 - accuracy: 0.9512 - weighted_accuracy: 0.9653 - val_loss: 0.2522 - val_accuracy: 0.9181 - val_weighted_accuracy: 0.9181\n",
            "Epoch 25/100\n",
            "1302/1302 [==============================] - 9s 7ms/step - loss: 0.1112 - accuracy: 0.9470 - weighted_accuracy: 0.9614 - val_loss: 0.2679 - val_accuracy: 0.9220 - val_weighted_accuracy: 0.9220\n",
            "Epoch 26/100\n",
            "1302/1302 [==============================] - 10s 7ms/step - loss: 0.0865 - accuracy: 0.9577 - weighted_accuracy: 0.9699 - val_loss: 0.2597 - val_accuracy: 0.9234 - val_weighted_accuracy: 0.9234\n",
            "Epoch 27/100\n",
            "1302/1302 [==============================] - 9s 7ms/step - loss: 0.0637 - accuracy: 0.9685 - weighted_accuracy: 0.9779 - val_loss: 0.2315 - val_accuracy: 0.9280 - val_weighted_accuracy: 0.9280\n",
            "Epoch 28/100\n",
            "1302/1302 [==============================] - 10s 7ms/step - loss: 0.0908 - accuracy: 0.9588 - weighted_accuracy: 0.9699 - val_loss: 0.2686 - val_accuracy: 0.9172 - val_weighted_accuracy: 0.9172\n",
            "Epoch 29/100\n",
            "1302/1302 [==============================] - 9s 7ms/step - loss: 0.0748 - accuracy: 0.9645 - weighted_accuracy: 0.9741 - val_loss: 0.2701 - val_accuracy: 0.9235 - val_weighted_accuracy: 0.9235\n",
            "Epoch 30/100\n",
            "1302/1302 [==============================] - 9s 7ms/step - loss: 0.0588 - accuracy: 0.9710 - weighted_accuracy: 0.9793 - val_loss: 0.2425 - val_accuracy: 0.9357 - val_weighted_accuracy: 0.9357\n",
            "Epoch 31/100\n",
            "1302/1302 [==============================] - 10s 7ms/step - loss: 0.0651 - accuracy: 0.9698 - weighted_accuracy: 0.9773 - val_loss: 0.2471 - val_accuracy: 0.9234 - val_weighted_accuracy: 0.9234\n",
            "Epoch 32/100\n",
            "1302/1302 [==============================] - 10s 7ms/step - loss: 0.0579 - accuracy: 0.9724 - weighted_accuracy: 0.9800 - val_loss: 0.2463 - val_accuracy: 0.9308 - val_weighted_accuracy: 0.9308\n",
            "Epoch 33/100\n",
            "1302/1302 [==============================] - 10s 7ms/step - loss: 0.0573 - accuracy: 0.9734 - weighted_accuracy: 0.9801 - val_loss: 0.2716 - val_accuracy: 0.9275 - val_weighted_accuracy: 0.9275\n",
            "Epoch 34/100\n",
            "1302/1302 [==============================] - 10s 7ms/step - loss: 0.0393 - accuracy: 0.9796 - weighted_accuracy: 0.9857 - val_loss: 0.2381 - val_accuracy: 0.9381 - val_weighted_accuracy: 0.9381\n",
            "Epoch 35/100\n",
            "1302/1302 [==============================] - 9s 7ms/step - loss: 0.0637 - accuracy: 0.9696 - weighted_accuracy: 0.9779 - val_loss: 0.3021 - val_accuracy: 0.8970 - val_weighted_accuracy: 0.8970\n",
            "Epoch 36/100\n",
            "1302/1302 [==============================] - 10s 7ms/step - loss: 0.0646 - accuracy: 0.9736 - weighted_accuracy: 0.9804 - val_loss: 0.2621 - val_accuracy: 0.9313 - val_weighted_accuracy: 0.9313\n",
            "Epoch 37/100\n",
            "1302/1302 [==============================] - 9s 7ms/step - loss: 0.0448 - accuracy: 0.9793 - weighted_accuracy: 0.9850 - val_loss: 0.2413 - val_accuracy: 0.9301 - val_weighted_accuracy: 0.9301\n",
            "Epoch 38/100\n",
            "1302/1302 [==============================] - 10s 7ms/step - loss: 0.0334 - accuracy: 0.9838 - weighted_accuracy: 0.9890 - val_loss: 0.2457 - val_accuracy: 0.9368 - val_weighted_accuracy: 0.9368\n",
            "Epoch 39/100\n",
            "1302/1302 [==============================] - 10s 7ms/step - loss: 0.0631 - accuracy: 0.9736 - weighted_accuracy: 0.9797 - val_loss: 0.2685 - val_accuracy: 0.9334 - val_weighted_accuracy: 0.9334\n",
            "Epoch 40/100\n",
            "1302/1302 [==============================] - 10s 7ms/step - loss: 0.0294 - accuracy: 0.9870 - weighted_accuracy: 0.9907 - val_loss: 0.2517 - val_accuracy: 0.9388 - val_weighted_accuracy: 0.9388\n",
            "Epoch 41/100\n",
            "1302/1302 [==============================] - 10s 7ms/step - loss: 0.0296 - accuracy: 0.9869 - weighted_accuracy: 0.9907 - val_loss: 0.2426 - val_accuracy: 0.9390 - val_weighted_accuracy: 0.9390\n",
            "Epoch 42/100\n",
            "1302/1302 [==============================] - 10s 7ms/step - loss: 0.0781 - accuracy: 0.9711 - weighted_accuracy: 0.9770 - val_loss: 0.2817 - val_accuracy: 0.9241 - val_weighted_accuracy: 0.9241\n",
            "Epoch 43/100\n",
            "1302/1302 [==============================] - 10s 7ms/step - loss: 0.0393 - accuracy: 0.9813 - weighted_accuracy: 0.9866 - val_loss: 0.2493 - val_accuracy: 0.9421 - val_weighted_accuracy: 0.9421\n",
            "Epoch 44/100\n",
            "1302/1302 [==============================] - 10s 7ms/step - loss: 0.0246 - accuracy: 0.9893 - weighted_accuracy: 0.9924 - val_loss: 0.2431 - val_accuracy: 0.9414 - val_weighted_accuracy: 0.9414\n",
            "Epoch 45/100\n",
            "1302/1302 [==============================] - 10s 7ms/step - loss: 0.0329 - accuracy: 0.9854 - weighted_accuracy: 0.9893 - val_loss: 0.2327 - val_accuracy: 0.9437 - val_weighted_accuracy: 0.9437\n",
            "Epoch 46/100\n",
            "1302/1302 [==============================] - 10s 7ms/step - loss: 0.0997 - accuracy: 0.9608 - weighted_accuracy: 0.9685 - val_loss: 0.3363 - val_accuracy: 0.8818 - val_weighted_accuracy: 0.8818\n",
            "Epoch 47/100\n",
            "1302/1302 [==============================] - 10s 7ms/step - loss: 0.0343 - accuracy: 0.9854 - weighted_accuracy: 0.9897 - val_loss: 0.2358 - val_accuracy: 0.9429 - val_weighted_accuracy: 0.9429\n",
            "Epoch 48/100\n",
            "1302/1302 [==============================] - 10s 7ms/step - loss: 0.0648 - accuracy: 0.9743 - weighted_accuracy: 0.9799 - val_loss: 0.2558 - val_accuracy: 0.9320 - val_weighted_accuracy: 0.9320\n",
            "Epoch 49/100\n",
            "1302/1302 [==============================] - 10s 7ms/step - loss: 0.0279 - accuracy: 0.9884 - weighted_accuracy: 0.9913 - val_loss: 0.2507 - val_accuracy: 0.9358 - val_weighted_accuracy: 0.9358\n",
            "Epoch 50/100\n",
            "1302/1302 [==============================] - 10s 7ms/step - loss: 0.0169 - accuracy: 0.9921 - weighted_accuracy: 0.9945 - val_loss: 0.2684 - val_accuracy: 0.9440 - val_weighted_accuracy: 0.9440\n",
            "Epoch 51/100\n",
            "1302/1302 [==============================] - 10s 7ms/step - loss: 0.0303 - accuracy: 0.9869 - weighted_accuracy: 0.9902 - val_loss: 0.2841 - val_accuracy: 0.9369 - val_weighted_accuracy: 0.9369\n",
            "Epoch 52/100\n",
            "1302/1302 [==============================] - 10s 7ms/step - loss: 0.0261 - accuracy: 0.9887 - weighted_accuracy: 0.9916 - val_loss: 0.2976 - val_accuracy: 0.9297 - val_weighted_accuracy: 0.9297\n",
            "Epoch 53/100\n",
            "1302/1302 [==============================] - 10s 7ms/step - loss: 0.0699 - accuracy: 0.9732 - weighted_accuracy: 0.9788 - val_loss: 0.2268 - val_accuracy: 0.9418 - val_weighted_accuracy: 0.9418\n",
            "Epoch 54/100\n",
            "1302/1302 [==============================] - 10s 7ms/step - loss: 0.0256 - accuracy: 0.9897 - weighted_accuracy: 0.9923 - val_loss: 0.2588 - val_accuracy: 0.9391 - val_weighted_accuracy: 0.9391\n",
            "Epoch 55/100\n",
            "1302/1302 [==============================] - 10s 7ms/step - loss: 0.0295 - accuracy: 0.9880 - weighted_accuracy: 0.9908 - val_loss: 0.2237 - val_accuracy: 0.9455 - val_weighted_accuracy: 0.9455\n",
            "Epoch 56/100\n",
            "1302/1302 [==============================] - 10s 7ms/step - loss: 0.0232 - accuracy: 0.9900 - weighted_accuracy: 0.9926 - val_loss: 0.2305 - val_accuracy: 0.9415 - val_weighted_accuracy: 0.9415\n",
            "Epoch 57/100\n",
            "1302/1302 [==============================] - 10s 7ms/step - loss: 0.0217 - accuracy: 0.9915 - weighted_accuracy: 0.9939 - val_loss: 0.2948 - val_accuracy: 0.9373 - val_weighted_accuracy: 0.9373\n",
            "Epoch 58/100\n",
            "1302/1302 [==============================] - 9s 7ms/step - loss: 0.0838 - accuracy: 0.9683 - weighted_accuracy: 0.9746 - val_loss: 0.2325 - val_accuracy: 0.9459 - val_weighted_accuracy: 0.9459\n",
            "Epoch 59/100\n",
            "1302/1302 [==============================] - 10s 7ms/step - loss: 0.0152 - accuracy: 0.9930 - weighted_accuracy: 0.9950 - val_loss: 0.2474 - val_accuracy: 0.9446 - val_weighted_accuracy: 0.9446\n",
            "Epoch 60/100\n",
            "1302/1302 [==============================] - 10s 7ms/step - loss: 0.0258 - accuracy: 0.9905 - weighted_accuracy: 0.9928 - val_loss: 0.2488 - val_accuracy: 0.9374 - val_weighted_accuracy: 0.9374\n",
            "Epoch 61/100\n",
            "1302/1302 [==============================] - 10s 7ms/step - loss: 0.0410 - accuracy: 0.9829 - weighted_accuracy: 0.9868 - val_loss: 0.2465 - val_accuracy: 0.9396 - val_weighted_accuracy: 0.9396\n",
            "Epoch 62/100\n",
            "1302/1302 [==============================] - 10s 7ms/step - loss: 0.0460 - accuracy: 0.9824 - weighted_accuracy: 0.9857 - val_loss: 0.2380 - val_accuracy: 0.9423 - val_weighted_accuracy: 0.9423\n",
            "Epoch 63/100\n",
            "1302/1302 [==============================] - 10s 7ms/step - loss: 0.0206 - accuracy: 0.9914 - weighted_accuracy: 0.9933 - val_loss: 0.2194 - val_accuracy: 0.9471 - val_weighted_accuracy: 0.9471\n",
            "Epoch 64/100\n",
            "1302/1302 [==============================] - 10s 7ms/step - loss: 0.0337 - accuracy: 0.9863 - weighted_accuracy: 0.9894 - val_loss: 0.2487 - val_accuracy: 0.9328 - val_weighted_accuracy: 0.9328\n",
            "Epoch 65/100\n",
            "1302/1302 [==============================] - 10s 7ms/step - loss: 0.0214 - accuracy: 0.9909 - weighted_accuracy: 0.9934 - val_loss: 0.2653 - val_accuracy: 0.9437 - val_weighted_accuracy: 0.9437\n",
            "Epoch 66/100\n",
            "1302/1302 [==============================] - 10s 7ms/step - loss: 0.0337 - accuracy: 0.9863 - weighted_accuracy: 0.9894 - val_loss: 0.2251 - val_accuracy: 0.9484 - val_weighted_accuracy: 0.9484\n",
            "Epoch 67/100\n",
            "1302/1302 [==============================] - 10s 7ms/step - loss: 0.0193 - accuracy: 0.9931 - weighted_accuracy: 0.9948 - val_loss: 0.2581 - val_accuracy: 0.9435 - val_weighted_accuracy: 0.9435\n",
            "Epoch 68/100\n",
            "1302/1302 [==============================] - 10s 7ms/step - loss: 0.0246 - accuracy: 0.9904 - weighted_accuracy: 0.9927 - val_loss: 0.2499 - val_accuracy: 0.9482 - val_weighted_accuracy: 0.9482\n",
            "Epoch 69/100\n",
            "1302/1302 [==============================] - 10s 7ms/step - loss: 0.0253 - accuracy: 0.9914 - weighted_accuracy: 0.9936 - val_loss: 0.2377 - val_accuracy: 0.9441 - val_weighted_accuracy: 0.9441\n",
            "Epoch 70/100\n",
            "1302/1302 [==============================] - 10s 7ms/step - loss: 0.0152 - accuracy: 0.9928 - weighted_accuracy: 0.9950 - val_loss: 0.2556 - val_accuracy: 0.9482 - val_weighted_accuracy: 0.9482\n",
            "Epoch 71/100\n",
            "1302/1302 [==============================] - 10s 7ms/step - loss: 0.0282 - accuracy: 0.9884 - weighted_accuracy: 0.9910 - val_loss: 0.2263 - val_accuracy: 0.9393 - val_weighted_accuracy: 0.9393\n",
            "Epoch 72/100\n",
            "1302/1302 [==============================] - 10s 7ms/step - loss: 0.0180 - accuracy: 0.9930 - weighted_accuracy: 0.9946 - val_loss: 0.2956 - val_accuracy: 0.9392 - val_weighted_accuracy: 0.9392\n",
            "Epoch 73/100\n",
            "1302/1302 [==============================] - 10s 7ms/step - loss: 0.0220 - accuracy: 0.9924 - weighted_accuracy: 0.9942 - val_loss: 0.2629 - val_accuracy: 0.9480 - val_weighted_accuracy: 0.9480\n",
            "Epoch 74/100\n",
            "1302/1302 [==============================] - 10s 7ms/step - loss: 0.0424 - accuracy: 0.9851 - weighted_accuracy: 0.9879 - val_loss: 0.2429 - val_accuracy: 0.9387 - val_weighted_accuracy: 0.9387\n",
            "Epoch 75/100\n",
            "1302/1302 [==============================] - 10s 7ms/step - loss: 0.0180 - accuracy: 0.9933 - weighted_accuracy: 0.9948 - val_loss: 0.2666 - val_accuracy: 0.9460 - val_weighted_accuracy: 0.9460\n",
            "Epoch 76/100\n",
            "1302/1302 [==============================] - 10s 7ms/step - loss: 0.0307 - accuracy: 0.9889 - weighted_accuracy: 0.9913 - val_loss: 0.2449 - val_accuracy: 0.9504 - val_weighted_accuracy: 0.9504\n",
            "Epoch 77/100\n",
            "1302/1302 [==============================] - 10s 7ms/step - loss: 0.0208 - accuracy: 0.9918 - weighted_accuracy: 0.9936 - val_loss: 0.2518 - val_accuracy: 0.9465 - val_weighted_accuracy: 0.9465\n",
            "Epoch 78/100\n",
            "1302/1302 [==============================] - 10s 7ms/step - loss: 0.0103 - accuracy: 0.9952 - weighted_accuracy: 0.9968 - val_loss: 0.2678 - val_accuracy: 0.9472 - val_weighted_accuracy: 0.9472\n",
            "Epoch 79/100\n",
            "1302/1302 [==============================] - 9s 7ms/step - loss: 0.0189 - accuracy: 0.9921 - weighted_accuracy: 0.9938 - val_loss: 0.3004 - val_accuracy: 0.9266 - val_weighted_accuracy: 0.9266\n",
            "Epoch 80/100\n",
            "1302/1302 [==============================] - 10s 7ms/step - loss: 0.0146 - accuracy: 0.9932 - weighted_accuracy: 0.9954 - val_loss: 0.2973 - val_accuracy: 0.9469 - val_weighted_accuracy: 0.9469\n",
            "Epoch 81/100\n",
            "1302/1302 [==============================] - 10s 7ms/step - loss: 0.0408 - accuracy: 0.9875 - weighted_accuracy: 0.9894 - val_loss: 0.2804 - val_accuracy: 0.9301 - val_weighted_accuracy: 0.9301\n",
            "Epoch 82/100\n",
            "1302/1302 [==============================] - 10s 7ms/step - loss: 0.0205 - accuracy: 0.9930 - weighted_accuracy: 0.9945 - val_loss: 0.2554 - val_accuracy: 0.9476 - val_weighted_accuracy: 0.9476\n",
            "Epoch 83/100\n",
            "1302/1302 [==============================] - 10s 7ms/step - loss: 0.0331 - accuracy: 0.9887 - weighted_accuracy: 0.9909 - val_loss: 0.2420 - val_accuracy: 0.9434 - val_weighted_accuracy: 0.9434\n",
            "Epoch 84/100\n",
            "1302/1302 [==============================] - 10s 7ms/step - loss: 0.0180 - accuracy: 0.9920 - weighted_accuracy: 0.9939 - val_loss: 0.2246 - val_accuracy: 0.9508 - val_weighted_accuracy: 0.9508\n",
            "Epoch 85/100\n",
            "1302/1302 [==============================] - 10s 7ms/step - loss: 0.0201 - accuracy: 0.9913 - weighted_accuracy: 0.9934 - val_loss: 0.2932 - val_accuracy: 0.9303 - val_weighted_accuracy: 0.9303\n",
            "Epoch 86/100\n",
            "1302/1302 [==============================] - 10s 7ms/step - loss: 0.0162 - accuracy: 0.9937 - weighted_accuracy: 0.9953 - val_loss: 0.3090 - val_accuracy: 0.9357 - val_weighted_accuracy: 0.9357\n",
            "Epoch 87/100\n",
            "1302/1302 [==============================] - 10s 7ms/step - loss: 0.0297 - accuracy: 0.9905 - weighted_accuracy: 0.9923 - val_loss: 0.2447 - val_accuracy: 0.9457 - val_weighted_accuracy: 0.9457\n",
            "Epoch 88/100\n",
            "1302/1302 [==============================] - 9s 7ms/step - loss: 0.0298 - accuracy: 0.9903 - weighted_accuracy: 0.9920 - val_loss: 0.2253 - val_accuracy: 0.9351 - val_weighted_accuracy: 0.9351\n",
            "Epoch 89/100\n",
            "1302/1302 [==============================] - 10s 7ms/step - loss: 0.0142 - accuracy: 0.9945 - weighted_accuracy: 0.9957 - val_loss: 0.2276 - val_accuracy: 0.9492 - val_weighted_accuracy: 0.9492\n",
            "Epoch 90/100\n",
            "1302/1302 [==============================] - 10s 7ms/step - loss: 0.0142 - accuracy: 0.9939 - weighted_accuracy: 0.9956 - val_loss: 0.2803 - val_accuracy: 0.9393 - val_weighted_accuracy: 0.9393\n",
            "Epoch 91/100\n",
            "1302/1302 [==============================] - 10s 7ms/step - loss: 0.0173 - accuracy: 0.9927 - weighted_accuracy: 0.9949 - val_loss: 0.2715 - val_accuracy: 0.9469 - val_weighted_accuracy: 0.9469\n",
            "Epoch 92/100\n",
            "1302/1302 [==============================] - 10s 7ms/step - loss: 0.0764 - accuracy: 0.9739 - weighted_accuracy: 0.9778 - val_loss: 0.2383 - val_accuracy: 0.9462 - val_weighted_accuracy: 0.9462\n",
            "Epoch 93/100\n",
            "1302/1302 [==============================] - 10s 7ms/step - loss: 0.0106 - accuracy: 0.9960 - weighted_accuracy: 0.9971 - val_loss: 0.2677 - val_accuracy: 0.9465 - val_weighted_accuracy: 0.9465\n",
            "Epoch 94/100\n",
            "1302/1302 [==============================] - 10s 7ms/step - loss: 0.0169 - accuracy: 0.9938 - weighted_accuracy: 0.9948 - val_loss: 0.2228 - val_accuracy: 0.9529 - val_weighted_accuracy: 0.9529\n",
            "Epoch 95/100\n",
            "1302/1302 [==============================] - 10s 7ms/step - loss: 0.0199 - accuracy: 0.9934 - weighted_accuracy: 0.9945 - val_loss: 0.2977 - val_accuracy: 0.9399 - val_weighted_accuracy: 0.9399\n",
            "Epoch 96/100\n",
            "1302/1302 [==============================] - 10s 7ms/step - loss: 0.0238 - accuracy: 0.9910 - weighted_accuracy: 0.9927 - val_loss: 0.2545 - val_accuracy: 0.9375 - val_weighted_accuracy: 0.9375\n",
            "Epoch 97/100\n",
            "1302/1302 [==============================] - 10s 7ms/step - loss: 0.0142 - accuracy: 0.9946 - weighted_accuracy: 0.9959 - val_loss: 0.2511 - val_accuracy: 0.9528 - val_weighted_accuracy: 0.9528\n",
            "Epoch 98/100\n",
            "1302/1302 [==============================] - 10s 7ms/step - loss: 0.0154 - accuracy: 0.9939 - weighted_accuracy: 0.9954 - val_loss: 0.2209 - val_accuracy: 0.9532 - val_weighted_accuracy: 0.9532\n",
            "Epoch 99/100\n",
            "1302/1302 [==============================] - 10s 7ms/step - loss: 0.0234 - accuracy: 0.9909 - weighted_accuracy: 0.9929 - val_loss: 0.2308 - val_accuracy: 0.9375 - val_weighted_accuracy: 0.9375\n",
            "Epoch 100/100\n",
            "1302/1302 [==============================] - 10s 7ms/step - loss: 0.0141 - accuracy: 0.9941 - weighted_accuracy: 0.9957 - val_loss: 0.2697 - val_accuracy: 0.9511 - val_weighted_accuracy: 0.9511\n"
          ]
        }
      ],
      "source": [
        "#opt = tf.keras.optimizers.SGD(learning_rate=0.005)\n",
        "model.compile(optimizer =\"Adam\", loss =keras.losses.categorical_crossentropy,metrics=[\"accuracy\"], weighted_metrics=[\"accuracy\"])\n",
        "\n",
        "m=model.fit(X_train, y_train,epochs=100,batch_size=32,verbose=1,validation_data=(X_test, y_test),class_weight={0:zero_weight, 1:one_weight, 2: two_weight, 3:three_weight})"
      ]
    },
    {
      "cell_type": "code",
      "execution_count": null,
      "metadata": {
        "id": "G4_WKhQApzXS",
        "colab": {
          "base_uri": "https://localhost:8080/"
        },
        "outputId": "cf959911-feec-498b-c289-c41c2ae560ab"
      },
      "outputs": [
        {
          "output_type": "stream",
          "name": "stdout",
          "text": [
            "558/558 [==============================] - 2s 3ms/step - loss: 0.2697 - accuracy: 0.9511 - weighted_accuracy: 0.9511\n",
            "Test loss: 0.2696909010410309\n",
            "Test accuracy: 0.9511088728904724\n"
          ]
        }
      ],
      "source": [
        "score = model.evaluate(X_test, y_test, verbose=1)\n",
        "print('Test loss:', score[0])\n",
        "print('Test accuracy:', score[1])"
      ]
    },
    {
      "cell_type": "code",
      "execution_count": null,
      "metadata": {
        "id": "FkxmcluMp21p",
        "colab": {
          "base_uri": "https://localhost:8080/",
          "height": 295
        },
        "outputId": "2f1a9282-c8d4-4506-e5bb-11c6bef2ce1d"
      },
      "outputs": [
        {
          "output_type": "display_data",
          "data": {
            "text/plain": [
              "<Figure size 432x288 with 1 Axes>"
            ],
            "image/png": "[encoded data removed]"
          },
          "metadata": {
            "needs_background": "light"
          }
        }
      ],
      "source": [
        "import matplotlib.pyplot as plt\n",
        "plt.plot(m.history['accuracy'])\n",
        "plt.plot(m.history['val_accuracy'])\n",
        "plt.title('model accuracy')\n",
        "plt.ylabel('accuracy')\n",
        "plt.xlabel('epoch')\n",
        "plt.legend(['train', 'test'], loc='upper left')\n",
        "plt.show()"
      ]
    },
    {
      "cell_type": "code",
      "execution_count": null,
      "metadata": {
        "id": "vk-TIPxhp64q",
        "colab": {
          "base_uri": "https://localhost:8080/",
          "height": 295
        },
        "outputId": "49a19adc-e982-4272-e296-be76c58f8bf1"
      },
      "outputs": [
        {
          "output_type": "display_data",
          "data": {
            "text/plain": [
              "<Figure size 432x288 with 1 Axes>"
            ],
            "image/png": "[encoded data removed]"
          },
          "metadata": {
            "needs_background": "light"
          }
        }
      ],
      "source": [
        "plt.plot(m.history['loss'])\n",
        "plt.plot(m.history['val_loss'])\n",
        "plt.title('model loss')\n",
        "plt.ylabel('loss')\n",
        "plt.xlabel('epoch')\n",
        "plt.legend(['train', 'test'], loc='upper left')\n",
        "plt.show()"
      ]
    },
    {
      "cell_type": "code",
      "execution_count": null,
      "metadata": {
        "id": "AKtN-Ulr9loP"
      },
      "outputs": [],
      "source": [
        "from sklearn.metrics import confusion_matrix\n",
        "import seaborn as sns"
      ]
    },
    {
      "cell_type": "code",
      "execution_count": null,
      "metadata": {
        "id": "pEis3qzA9wMU"
      },
      "outputs": [],
      "source": [
        "y_pred=model.predict(X_test)"
      ]
    },
    {
      "cell_type": "code",
      "execution_count": null,
      "metadata": {
        "id": "yNX8vSH391_-",
        "colab": {
          "base_uri": "https://localhost:8080/"
        },
        "outputId": "a79d9d26-ed53-41fe-e0e6-10f88915b2ba"
      },
      "outputs": [
        {
          "output_type": "execute_result",
          "data": {
            "text/plain": [
              "array([0., 0., 1., 0.], dtype=float32)"
            ]
          },
          "metadata": {},
          "execution_count": 51
        }
      ],
      "source": [
        "y_test[1]"
      ]
    },
    {
      "cell_type": "code",
      "execution_count": null,
      "metadata": {
        "id": "uqzoTW8n94r5",
        "colab": {
          "base_uri": "https://localhost:8080/"
        },
        "outputId": "91a7ab2b-fb17-467a-fdc6-bb2ca63f0083"
      },
      "outputs": [
        {
          "output_type": "execute_result",
          "data": {
            "text/plain": [
              "array([2.1275787e-06, 1.4085014e-06, 9.9999523e-01, 1.2069653e-06],\n",
              "      dtype=float32)"
            ]
          },
          "metadata": {},
          "execution_count": 52
        }
      ],
      "source": [
        "y_pred[1]"
      ]
    },
    {
      "cell_type": "code",
      "execution_count": null,
      "metadata": {
        "id": "SAfEt3jw-AL4"
      },
      "outputs": [],
      "source": [
        "y_test1=np.argmax(y_test, axis=1)"
      ]
    },
    {
      "cell_type": "code",
      "execution_count": null,
      "metadata": {
        "id": "tQHnQ6_u-BmU"
      },
      "outputs": [],
      "source": [
        "y_pred=np.argmax(y_pred,axis=1)"
      ]
    },
    {
      "cell_type": "code",
      "execution_count": null,
      "metadata": {
        "id": "GdVhdJL8-Fbv",
        "colab": {
          "base_uri": "https://localhost:8080/"
        },
        "outputId": "f47a80bf-2e8e-4bbf-8190-b9dbe932be64"
      },
      "outputs": [
        {
          "output_type": "execute_result",
          "data": {
            "text/plain": [
              "2"
            ]
          },
          "metadata": {},
          "execution_count": 55
        }
      ],
      "source": [
        "y_test1[1]"
      ]
    },
    {
      "cell_type": "code",
      "execution_count": null,
      "metadata": {
        "id": "mjChuhfT-IGJ",
        "colab": {
          "base_uri": "https://localhost:8080/"
        },
        "outputId": "4a09f0d1-b193-4c04-d691-3222feee0ca7"
      },
      "outputs": [
        {
          "output_type": "execute_result",
          "data": {
            "text/plain": [
              "2"
            ]
          },
          "metadata": {},
          "execution_count": 56
        }
      ],
      "source": [
        "y_pred[1]"
      ]
    },
    {
      "cell_type": "code",
      "execution_count": null,
      "metadata": {
        "id": "IR5hzmFR-Kaw"
      },
      "outputs": [],
      "source": [
        "cf_matrix=confusion_matrix(y_test1, y_pred)"
      ]
    },
    {
      "cell_type": "code",
      "execution_count": null,
      "metadata": {
        "id": "gINq-yzA-Oqn",
        "colab": {
          "base_uri": "https://localhost:8080/",
          "height": 599
        },
        "outputId": "8dcc92ed-f53a-40b2-e83d-6db1ffe62a8c"
      },
      "outputs": [
        {
          "output_type": "display_data",
          "data": {
            "text/plain": [
              "<Figure size 576x576 with 2 Axes>"
            ],
            "image/png": "[encoded data removed]"
          },
          "metadata": {
            "needs_background": "light"
          }
        }
      ],
      "source": [
        "figure = plt.figure(figsize=(8, 8))\n",
        "sns.heatmap(cf_matrix, annot=True,cmap=plt.cm.Blues,fmt='.1f')\n",
        "plt.tight_layout()\n",
        "plt.ylabel('True label')\n",
        "plt.xlabel('Predicted label')\n",
        "plt.show()"
      ]
    },
    {
      "cell_type": "code",
      "execution_count": null,
      "metadata": {
        "id": "65FLK1Md3B-q",
        "colab": {
          "base_uri": "https://localhost:8080/"
        },
        "outputId": "72850854-30c3-4011-babb-488c4d9027ad"
      },
      "outputs": [
        {
          "output_type": "stream",
          "name": "stdout",
          "text": [
            "              precision    recall  f1-score   support\n",
            "\n",
            "           0       0.96      0.92      0.94      4768\n",
            "           1       0.97      0.96      0.96       497\n",
            "           2       0.95      0.97      0.96      9221\n",
            "           3       0.95      0.94      0.95      3370\n",
            "\n",
            "    accuracy                           0.95     17856\n",
            "   macro avg       0.96      0.95      0.95     17856\n",
            "weighted avg       0.95      0.95      0.95     17856\n",
            "\n"
          ]
        }
      ],
      "source": [
        "from sklearn import metrics\n",
        "print(metrics.classification_report(y_test1,y_pred))"
      ]
    }
  ],
  "metadata": {
    "colab": {
      "collapsed_sections": [],
      "name": "DENS_Test.ipynb",
      "provenance": [],
      "machine_shape": "hm"
    },
    "kernelspec": {
      "display_name": "Python 3",
      "name": "python3"
    },
    "language_info": {
      "name": "python"
    },
    "accelerator": "GPU"
  },
  "nbformat": 4,
  "nbformat_minor": 0
}