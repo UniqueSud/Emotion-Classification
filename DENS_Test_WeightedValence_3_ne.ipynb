{
  "nbformat": 4,
  "nbformat_minor": 0,
  "metadata": {
    "colab": {
      "name": "DENS_Test_WeightedValence_3.ipynb",
      "provenance": [],
      "machine_shape": "hm",
      "collapsed_sections": []
    },
    "kernelspec": {
      "name": "python3",
      "display_name": "Python 3"
    },
    "language_info": {
      "name": "python"
    },
    "accelerator": "GPU"
  },
  "cells": [
    {
      "cell_type": "code",
      "execution_count": 1,
      "metadata": {
        "id": "ls_Bi6wPXVkJ"
      },
      "outputs": [],
      "source": [
        "import scipy.io as sio\n",
        "import numpy as np\n",
        "import pickle as pickle\n",
        "import pandas as pd\n",
        "import seaborn as sns\n",
        "import matplotlib.pyplot as plt\n",
        "from sklearn.preprocessing import normalize\n",
        "from sklearn.metrics import confusion_matrix, classification_report, f1_score\n",
        "from scipy.signal import spectrogram\n",
        "from sklearn.model_selection import train_test_split\n",
        "from sklearn.utils import class_weight\n",
        "from scipy import signal\n",
        "import os"
      ]
    },
    {
      "cell_type": "code",
      "source": [
        "import tensorflow as tf\n",
        "import keras\n",
        "\n",
        "from tensorflow.keras.utils import to_categorical \n",
        "from keras.wrappers.scikit_learn import KerasClassifier\n",
        "import keras.backend as K\n",
        "from keras.models import Sequential, load_model\n",
        "from keras.layers import Activation, Dropout, Flatten, Dense, LSTM, Conv2D, MaxPooling2D, RepeatVector\n",
        "import warnings\n",
        "warnings.filterwarnings('ignore')"
      ],
      "metadata": {
        "id": "w03TC0XEA0lU"
      },
      "execution_count": 2,
      "outputs": []
    },
    {
      "cell_type": "code",
      "source": [
        "from google.colab import drive\n",
        "drive.mount('/content/drive/')"
      ],
      "metadata": {
        "colab": {
          "base_uri": "https://localhost:8080/"
        },
        "id": "Ztroxfpr6GF8",
        "outputId": "13dd8214-af20-4b16-fa95-38ca0354705d"
      },
      "execution_count": 3,
      "outputs": [
        {
          "output_type": "stream",
          "name": "stdout",
          "text": [
            "Mounted at /content/drive/\n"
          ]
        }
      ]
    },
    {
      "cell_type": "code",
      "source": [
        "os.getcwd()\n",
        "os.chdir('/content/drive/My Drive')"
      ],
      "metadata": {
        "id": "5oV0snlG6TW6"
      },
      "execution_count": 4,
      "outputs": []
    },
    {
      "cell_type": "code",
      "source": [
        "_,_, files = next(os.walk('/content/drive/My Drive/MTech_Thesis/DENS/Emotional'))\n",
        "files_count = len(files)"
      ],
      "metadata": {
        "id": "cdjrHzBctRis"
      },
      "execution_count": 5,
      "outputs": []
    },
    {
      "cell_type": "code",
      "source": [
        "_,_, files1 = next(os.walk('/content/drive/My Drive/MTech_Thesis/DENS/NonEmotional'))\n",
        "files_count = len(files1)"
      ],
      "metadata": {
        "id": "t1_VmXvGlMCU"
      },
      "execution_count": 6,
      "outputs": []
    },
    {
      "cell_type": "code",
      "source": [
        "files1"
      ],
      "metadata": {
        "colab": {
          "base_uri": "https://localhost:8080/"
        },
        "id": "EN-evGUclQb_",
        "outputId": "b5220ba4-9a51-41fe-8aa1-0d383c62fdc5"
      },
      "execution_count": 7,
      "outputs": [
        {
          "output_type": "execute_result",
          "data": {
            "text/plain": [
              "['Neutral_mit003Trial-Click-.mat',\n",
              " 'Neutral_mit004Trial-Click-.mat',\n",
              " 'Neutral_mit007Trial-Click-.mat',\n",
              " 'Neutral_mit014Trial-Click-.mat',\n",
              " 'Neutral_mit017Trial-Click-.mat',\n",
              " 'Neutral_mit022Trial-Click-.mat',\n",
              " 'Neutral_mit023Trial-Click-.mat',\n",
              " 'Neutral_mit024Trial-Click-.mat',\n",
              " 'Neutral_mit032Trial-Click-.mat',\n",
              " 'Neutral_mit035Trial-Click-.mat',\n",
              " 'Neutral_mit039Trial-Click-.mat',\n",
              " 'Neutral_mit040Trial-Click-.mat',\n",
              " 'Neutral_mit051Trial-Click-.mat',\n",
              " 'Neutral_mit052Trial-Click-.mat',\n",
              " 'Neutral_mit054Trial-Click-.mat',\n",
              " 'Neutral_mit061Trial-Click-.mat',\n",
              " 'Neutral_mit067Trial-Click-.mat',\n",
              " 'Neutral_mit072Trial-Click-.mat',\n",
              " 'Neutral_mit074Trial-Click-.mat',\n",
              " 'Neutral_mit076Trial-Click-.mat',\n",
              " 'Neutral_mit079Trial-Click-.mat',\n",
              " 'Neutral_mit080Trial-Click-.mat',\n",
              " 'Neutral_mit081Trial-Click-.mat',\n",
              " 'Neutral_mit082Trial-Click-.mat',\n",
              " 'Neutral_mit096Trial-Click-.mat',\n",
              " 'Neutral_mit097Trial-Click-.mat',\n",
              " 'Neutral_mit099Trial-Click-.mat',\n",
              " 'Neutral_mit106Trial-Click-.mat',\n",
              " 'Neutral_mit107Trial-Click-.mat',\n",
              " 'Neutral_mit108Trial-Click-.mat',\n",
              " 'Neutral_mit111Trial-Click-.mat',\n",
              " 'Neutral_mit113Trial-Click-.mat',\n",
              " 'Neutral_mit114Trial-Click-.mat',\n",
              " 'Neutral_mit116Trial-Click-.mat',\n",
              " 'Neutral_mit117Trial-Click-.mat',\n",
              " 'Neutral_mit121Trial-Click-.mat',\n",
              " 'Neutral_mit122Trial-Click-.mat',\n",
              " 'Neutral_mit123Trial-Click-.mat',\n",
              " 'Neutral_mitb2017007Trial-Click-.mat',\n",
              " 'Neutral_mit104Trial-Click-.mat']"
            ]
          },
          "metadata": {},
          "execution_count": 7
        }
      ]
    },
    {
      "cell_type": "code",
      "source": [
        "mat = sio.loadmat('/content/drive/My Drive/MTech_Thesis/DENS/NonEmotional/Neutral_mit104Trial-Click-.mat')\n",
        "data1 = mat.get('eegData')"
      ],
      "metadata": {
        "id": "7gTVouT7lfum"
      },
      "execution_count": 10,
      "outputs": []
    },
    {
      "cell_type": "code",
      "source": [
        "data1"
      ],
      "metadata": {
        "colab": {
          "base_uri": "https://localhost:8080/"
        },
        "id": "p-vjm75ClveM",
        "outputId": "30211781-6dd2-4f98-a3cc-557fb54ea893"
      },
      "execution_count": 11,
      "outputs": [
        {
          "output_type": "execute_result",
          "data": {
            "text/plain": [
              "array([[-0.7298584 , -0.853116  , -0.9761583 , ..., -1.5994216 ,\n",
              "        -0.81162405, -0.22604097],\n",
              "       [-0.09712679, -0.64489836, -1.1954851 , ..., -3.9191206 ,\n",
              "        -3.2197666 , -2.4169416 ],\n",
              "       [-0.22448984, -0.5714833 , -0.9429574 , ..., -4.141519  ,\n",
              "        -3.3947153 , -2.5204613 ],\n",
              "       ...,\n",
              "       [-1.0040041 , -1.2581973 , -1.4648337 , ...,  0.5265562 ,\n",
              "         1.1366749 ,  1.2002226 ],\n",
              "       [-1.2087811 , -1.5810384 , -2.045014  , ...,  0.45293802,\n",
              "         1.0603365 ,  0.9743938 ],\n",
              "       [-0.8256112 , -1.3815207 , -2.0916946 , ...,  0.26711658,\n",
              "         0.66468525,  0.45515677]], dtype=float32)"
            ]
          },
          "metadata": {},
          "execution_count": 11
        }
      ]
    },
    {
      "cell_type": "code",
      "source": [
        "files"
      ],
      "metadata": {
        "colab": {
          "base_uri": "https://localhost:8080/"
        },
        "id": "b7Wa1iRjINkB",
        "outputId": "43267f18-bb3c-4012-dc58-e04fa859a1bb"
      },
      "execution_count": 12,
      "outputs": [
        {
          "output_type": "execute_result",
          "data": {
            "text/plain": [
              "['Joyous_mit003Trial-2Click-1.mat',\n",
              " 'Afraid_mit003Trial-6Click-2.mat',\n",
              " 'Angry_mit003Trial-7Click-4.mat',\n",
              " 'Hate_mit003Trial-7Click-3.mat',\n",
              " 'Hate_mit003Trial-10Click-6.mat',\n",
              " 'Alarmed_mit003Trial-9Click-5.mat',\n",
              " 'Sad_mit003Trial-11Click-7.mat',\n",
              " 'Amused_mit004Trial-3Click-1.mat',\n",
              " 'Adventorous_mit004Trial-4Click-3.mat',\n",
              " 'Excited_mit004Trial-4Click-2.mat',\n",
              " 'Disgust_mit004Trial-5Click-4.mat',\n",
              " 'Disgust_mit004Trial-5Click-5.mat',\n",
              " 'Happy_mit004Trial-8Click-6.mat',\n",
              " 'Happy_mit004Trial-8Click-7.mat',\n",
              " 'Taken Aback_mit004Trial-11Click-9.mat',\n",
              " 'Distress_mit007Trial-3Click-2.mat',\n",
              " 'Miserable_mit007Trial-2Click-1.mat',\n",
              " 'Despondent_mit007Trial-4Click-4.mat',\n",
              " 'Miserable_mit007Trial-4Click-3.mat',\n",
              " 'Happy_mit007Trial-7Click-6.mat',\n",
              " 'Hate_mit007Trial-5Click-5.mat',\n",
              " 'Joyous_mit007Trial-7Click-7.mat',\n",
              " 'Calm_mit014Trial-1Click-1.mat',\n",
              " 'Pensive_mit014Trial-1Click-3.mat',\n",
              " 'Pensive_mit014Trial-1Click-2.mat',\n",
              " 'Amused_mit014Trial-2Click-4.mat',\n",
              " 'Excited_mit014Trial-2Click-5.mat',\n",
              " 'Amused_mit014Trial-3Click-7.mat',\n",
              " 'Distress_mit014Trial-2Click-6.mat',\n",
              " 'Disgust_mit014Trial-4Click-9.mat',\n",
              " 'Tense_mit014Trial-4Click-8.mat',\n",
              " 'Hate_mit014Trial-6Click-11.mat',\n",
              " 'Startled_mit014Trial-4Click-10.mat',\n",
              " 'Hate_mit014Trial-6Click-12.mat',\n",
              " 'Hate_mit014Trial-6Click-13.mat',\n",
              " 'Sad_mit014Trial-7Click-15.mat',\n",
              " 'Angry_mit014Trial-6Click-14.mat',\n",
              " 'Melancholic_mit014Trial-7Click-16.mat',\n",
              " 'Disgust_mit014Trial-8Click-17.mat',\n",
              " 'Distress_mit014Trial-9Click-18.mat',\n",
              " 'Distress_mit014Trial-9Click-19.mat',\n",
              " 'Calm_mit017Trial-1Click-1.mat',\n",
              " 'Startled_mit017Trial-2Click-2.mat',\n",
              " 'Miserable_mit017Trial-3Click-4.mat',\n",
              " 'Disgust_mit017Trial-3Click-5.mat',\n",
              " 'Calm_mit017Trial-3Click-3.mat',\n",
              " 'Taken Aback_mit017Trial-4Click-6.mat',\n",
              " 'Frustrated_mit017Trial-4Click-7.mat',\n",
              " 'Dissatisfied_mit017Trial-10Click-9.mat',\n",
              " 'Alarmed_mit017Trial-7Click-8.mat',\n",
              " 'Alarmed_mit017Trial-10Click-10.mat',\n",
              " 'Excited_mit022Trial-1Click-1.mat',\n",
              " 'Sad_mit022Trial-2Click-2.mat',\n",
              " 'Tense_mit022Trial-2Click-3.mat',\n",
              " 'Frustrated_mit022Trial-2Click-4.mat',\n",
              " 'Joyous_mit022Trial-3Click-5.mat',\n",
              " 'Happy_mit022Trial-3Click-6.mat',\n",
              " 'Happy_mit022Trial-3Click-7.mat',\n",
              " 'Happy_mit022Trial-3Click-8.mat',\n",
              " 'Afraid_mit022Trial-4Click-9.mat',\n",
              " 'Afraid_mit022Trial-6Click-12.mat',\n",
              " 'Hate_mit022Trial-4Click-11.mat',\n",
              " 'Hate_mit022Trial-4Click-10.mat',\n",
              " 'Afraid_mit022Trial-6Click-13.mat',\n",
              " 'Frustrated_mit022Trial-6Click-14.mat',\n",
              " 'Adventorous_mit022Trial-7Click-15.mat',\n",
              " 'Adventorous_mit022Trial-7Click-16.mat',\n",
              " 'Disgust_mit022Trial-8Click-17.mat',\n",
              " 'Tense_mit022Trial-9Click-20.mat',\n",
              " 'Tense_mit022Trial-8Click-18.mat',\n",
              " 'Disgust_mit022Trial-9Click-22.mat',\n",
              " 'Angry_mit022Trial-9Click-21.mat',\n",
              " 'Hate_mit022Trial-9Click-23.mat',\n",
              " 'Passionate_mit022Trial-10Click-24.mat',\n",
              " 'Alarmed_mit022Trial-11Click-26.mat',\n",
              " 'Alarmed_mit022Trial-11Click-25.mat',\n",
              " 'Disgust_mit022Trial-11Click-27.mat',\n",
              " 'Relaxed_mit023Trial-2Click-1.mat',\n",
              " 'Angry_mit023Trial-4Click-3.mat',\n",
              " 'Amused_mit023Trial-2Click-2.mat',\n",
              " 'Disgust_mit023Trial-5Click-5.mat',\n",
              " 'Disgust_mit023Trial-5Click-4.mat',\n",
              " 'Afraid_mit023Trial-8Click-8.mat',\n",
              " 'Frustrated_mit023Trial-6Click-7.mat',\n",
              " 'Afraid_mit023Trial-6Click-6.mat',\n",
              " 'Triumphant_mit023Trial-10Click-9.mat',\n",
              " 'Afraid_mit023Trial-11Click-10.mat',\n",
              " 'Sad_mit024Trial-7Click-1.mat',\n",
              " 'Sad_mit024Trial-7Click-2.mat',\n",
              " 'Adventorous_mit024Trial-9Click-4.mat',\n",
              " 'Happy_mit024Trial-9Click-3.mat',\n",
              " 'Despondent_mit024Trial-10Click-6.mat',\n",
              " 'Adventorous_mit024Trial-9Click-5.mat',\n",
              " 'Melancholic_mit024Trial-10Click-8.mat',\n",
              " 'Despondent_mit024Trial-10Click-7.mat',\n",
              " 'Angry_mit032Trial-3Click-1.mat',\n",
              " 'Angry_mit032Trial-3Click-2.mat',\n",
              " 'Startled_mit032Trial-5Click-3.mat',\n",
              " 'Hate_mit032Trial-5Click-4.mat',\n",
              " 'Sad_mit032Trial-7Click-5.mat',\n",
              " 'Sad_mit032Trial-7Click-6.mat',\n",
              " 'Sad_mit032Trial-8Click-7.mat',\n",
              " 'Aroused_mit032Trial-10Click-9.mat',\n",
              " 'Sad_mit032Trial-8Click-8.mat',\n",
              " 'Afraid_mit032Trial-11Click-10.mat',\n",
              " 'Disgust_mit035Trial-2Click-3.mat',\n",
              " 'Angry_mit035Trial-2Click-2.mat',\n",
              " 'Disgust_mit035Trial-2Click-4.mat',\n",
              " 'Disgust_mit035Trial-2Click-5.mat',\n",
              " 'Miserable_mit035Trial-3Click-6.mat',\n",
              " 'Despondent_mit035Trial-4Click-8.mat',\n",
              " 'Miserable_mit035Trial-3Click-7.mat',\n",
              " 'Miserable_mit035Trial-6Click-10.mat',\n",
              " 'Angry_mit035Trial-6Click-9.mat',\n",
              " 'Sad_mit035Trial-6Click-11.mat',\n",
              " 'Angry_mit035Trial-6Click-12.mat',\n",
              " 'Alarmed_mit035Trial-10Click-15.mat',\n",
              " 'Afraid_mit035Trial-7Click-13.mat',\n",
              " 'Adventorous_mit035Trial-11Click-17.mat',\n",
              " 'Startled_mit035Trial-10Click-16.mat',\n",
              " 'Excited_mit035Trial-11Click-18.mat',\n",
              " 'Adventorous_mit035Trial-11Click-19.mat',\n",
              " 'Angry_mit039Trial-3Click-3.mat',\n",
              " 'Disgust_mit039Trial-2Click-2.mat',\n",
              " 'Disgust_mit039Trial-2Click-1.mat',\n",
              " 'Disgust_mit039Trial-8Click-6.mat',\n",
              " 'Disgust_mit039Trial-7Click-5.mat',\n",
              " 'Afraid_mit039Trial-5Click-4.mat',\n",
              " 'Excited_mit040Trial-4Click-2.mat',\n",
              " 'Delighted_mit040Trial-4Click-3.mat',\n",
              " 'Joyous_mit040Trial-4Click-1.mat',\n",
              " 'Despondent_mit040Trial-11Click-5.mat',\n",
              " 'Sad_mit040Trial-9Click-4.mat',\n",
              " 'Happy_mit051Trial-2Click-1.mat',\n",
              " 'Despondent_mit051Trial-3Click-5.mat',\n",
              " 'Taken Aback_mit051Trial-3Click-4.mat',\n",
              " 'Alarmed_mit051Trial-4Click-7.mat',\n",
              " 'Miserable_mit051Trial-3Click-6.mat',\n",
              " 'Afraid_mit051Trial-4Click-8.mat',\n",
              " 'Sad_mit051Trial-5Click-11.mat',\n",
              " 'Sad_mit051Trial-5Click-12.mat',\n",
              " 'Angry_mit051Trial-6Click-13.mat',\n",
              " 'Angry_mit051Trial-6Click-14.mat',\n",
              " 'Excited_mit051Trial-9Click-16.mat',\n",
              " 'Delighted_mit051Trial-9Click-17.mat',\n",
              " 'Alarmed_mit051Trial-10Click-19.mat',\n",
              " 'Excited_mit052Trial-3Click-1.mat',\n",
              " 'Excited_mit052Trial-3Click-2.mat',\n",
              " 'Excited_mit052Trial-3Click-3.mat',\n",
              " 'Joyous_mit052Trial-4Click-4.mat',\n",
              " 'Amused_mit052Trial-4Click-5.mat',\n",
              " 'Amused_mit052Trial-4Click-7.mat',\n",
              " 'Amused_mit052Trial-4Click-6.mat',\n",
              " 'Angry_mit052Trial-5Click-9.mat',\n",
              " 'Angry_mit052Trial-5Click-10.mat',\n",
              " 'Startled_mit052Trial-5Click-8.mat',\n",
              " 'Angry_mit052Trial-5Click-12.mat',\n",
              " 'Startled_mit052Trial-5Click-11.mat',\n",
              " 'Dissatisfied_mit052Trial-6Click-15.mat',\n",
              " 'Sad_mit052Trial-6Click-14.mat',\n",
              " 'Sad_mit052Trial-6Click-13.mat',\n",
              " 'Angry_mit052Trial-7Click-17.mat',\n",
              " 'Depressed_mit052Trial-6Click-16.mat',\n",
              " 'Tense_mit052Trial-7Click-18.mat',\n",
              " 'Dissatisfied_mit052Trial-8Click-19.mat',\n",
              " 'Dissatisfied_mit052Trial-8Click-20.mat',\n",
              " 'Startled_mit052Trial-8Click-21.mat',\n",
              " 'Alarmed_mit052Trial-10Click-22.mat',\n",
              " 'Sad_mit052Trial-10Click-24.mat',\n",
              " 'Disgust_mit052Trial-10Click-23.mat',\n",
              " 'Angry_mit052Trial-10Click-25.mat',\n",
              " 'Lust_mit052Trial-11Click-28.mat',\n",
              " 'Lust_mit052Trial-11Click-27.mat',\n",
              " 'Aroused_mit052Trial-11Click-26.mat',\n",
              " 'Hate_mit054Trial-6Click-3.mat',\n",
              " 'Afraid_mit054Trial-4Click-1.mat',\n",
              " 'Afraid_mit054Trial-6Click-4.mat',\n",
              " 'Afraid_mit054Trial-9Click-6.mat',\n",
              " 'Afraid_mit054Trial-7Click-5.mat',\n",
              " 'Frustrated_mit054Trial-10Click-7.mat',\n",
              " 'Happy_mit061Trial-3Click-2.mat',\n",
              " 'Adventorous_mit061Trial-3Click-3.mat',\n",
              " 'Happy_mit061Trial-4Click-5.mat',\n",
              " 'Aroused_mit061Trial-4Click-4.mat',\n",
              " 'Aroused_mit061Trial-4Click-6.mat',\n",
              " 'Afraid_mit061Trial-5Click-7.mat',\n",
              " 'Joyous_mit061Trial-8Click-8.mat',\n",
              " 'Sad_mit061Trial-10Click-9.mat',\n",
              " 'Excited_mit061Trial-11Click-10.mat',\n",
              " 'Angry_mit067Trial-1Click-1.mat',\n",
              " 'Distress_mit067Trial-4Click-3.mat',\n",
              " 'Distress_mit067Trial-4Click-2.mat',\n",
              " 'Joyous_mit067Trial-8Click-5.mat',\n",
              " 'Angry_mit067Trial-9Click-6.mat',\n",
              " 'Angry_mit067Trial-6Click-4.mat',\n",
              " 'Hate_mit067Trial-10Click-7.mat',\n",
              " 'Adventorous_mit072Trial-1Click-1.mat',\n",
              " 'Alarmed_mit072Trial-1Click-2.mat',\n",
              " 'Happy_mit072Trial-2Click-4.mat',\n",
              " 'Adventorous_mit072Trial-1Click-3.mat',\n",
              " 'Joyous_mit072Trial-2Click-5.mat',\n",
              " 'Amused_mit072Trial-2Click-6.mat',\n",
              " 'Startled_mit072Trial-3Click-9.mat',\n",
              " 'Disgust_mit072Trial-3Click-8.mat',\n",
              " 'Joyous_mit072Trial-2Click-7.mat',\n",
              " 'Afraid_mit072Trial-3Click-11.mat',\n",
              " 'Angry_mit072Trial-3Click-10.mat',\n",
              " 'Alarmed_mit072Trial-3Click-12.mat',\n",
              " 'Despondent_mit072Trial-4Click-14.mat',\n",
              " 'Sad_mit072Trial-4Click-13.mat',\n",
              " 'Sad_mit072Trial-4Click-15.mat',\n",
              " 'Miserable_mit072Trial-4Click-16.mat',\n",
              " 'Alarmed_mit072Trial-5Click-17.mat',\n",
              " 'Afraid_mit072Trial-5Click-18.mat',\n",
              " 'Happy_mit072Trial-6Click-19.mat',\n",
              " 'Angry_mit072Trial-7Click-21.mat',\n",
              " 'Joyous_mit072Trial-6Click-20.mat',\n",
              " 'Distress_mit072Trial-7Click-23.mat',\n",
              " 'Disgust_mit072Trial-7Click-22.mat',\n",
              " 'Hate_mit072Trial-7Click-24.mat',\n",
              " 'Delighted_mit072Trial-9Click-26.mat',\n",
              " 'Excited_mit072Trial-9Click-25.mat',\n",
              " 'Adventorous_mit072Trial-10Click-27.mat',\n",
              " 'Excited_mit072Trial-10Click-28.mat',\n",
              " 'Adventorous_mit072Trial-10Click-29.mat',\n",
              " 'Alarmed_mit072Trial-11Click-31.mat',\n",
              " 'Angry_mit072Trial-11Click-30.mat',\n",
              " 'Despondent_mit072Trial-11Click-32.mat',\n",
              " 'Excited_mit074Trial-3Click-1.mat',\n",
              " 'Passionate_mit074Trial-3Click-2.mat',\n",
              " 'Adventorous_mit074Trial-5Click-5.mat',\n",
              " 'Adventorous_mit074Trial-5Click-4.mat',\n",
              " 'Alarmed_mit074Trial-5Click-3.mat',\n",
              " 'Hate_mit074Trial-6Click-7.mat',\n",
              " 'Disgust_mit074Trial-7Click-8.mat',\n",
              " 'Disgust_mit074Trial-6Click-6.mat',\n",
              " 'Hate_mit074Trial-7Click-9.mat',\n",
              " 'Disgust_mit074Trial-7Click-10.mat',\n",
              " 'Disgust_mit074Trial-8Click-11.mat',\n",
              " 'Hate_mit074Trial-8Click-12.mat',\n",
              " 'Despondent_mit074Trial-9Click-15.mat',\n",
              " 'Sad_mit074Trial-9Click-13.mat',\n",
              " 'Depressed_mit074Trial-9Click-14.mat',\n",
              " 'Disgust_mit074Trial-10Click-17.mat',\n",
              " 'Miserable_mit074Trial-10Click-18.mat',\n",
              " 'Hate_mit074Trial-10Click-16.mat',\n",
              " 'Disgust_mit074Trial-10Click-19.mat',\n",
              " 'Afraid_mit076Trial-4Click-4.mat',\n",
              " 'Afraid_mit076Trial-4Click-3.mat',\n",
              " 'Taken Aback_mit076Trial-4Click-2.mat',\n",
              " 'Melancholic_mit076Trial-8Click-5.mat',\n",
              " 'Startled_mit079Trial-1Click-1.mat',\n",
              " 'Distress_mit079Trial-1Click-3.mat',\n",
              " 'Distress_mit079Trial-1Click-2.mat',\n",
              " 'Frustrated_mit079Trial-2Click-4.mat',\n",
              " 'Triumphant_mit079Trial-3Click-8.mat',\n",
              " 'Delighted_mit079Trial-3Click-7.mat',\n",
              " 'Passionate_mit079Trial-5Click-9.mat',\n",
              " 'Lust_mit079Trial-5Click-10.mat',\n",
              " 'Delighted_mit079Trial-6Click-11.mat',\n",
              " 'Startled_mit079Trial-6Click-12.mat',\n",
              " 'Afraid_mit079Trial-6Click-13.mat',\n",
              " 'Tense_mit079Trial-7Click-14.mat',\n",
              " 'Afraid_mit079Trial-7Click-15.mat',\n",
              " 'Tense_mit079Trial-7Click-16.mat',\n",
              " 'Excited_mit079Trial-8Click-17.mat',\n",
              " 'Distress_mit079Trial-8Click-19.mat',\n",
              " 'Distress_mit079Trial-8Click-18.mat',\n",
              " 'Startled_mit079Trial-8Click-20.mat',\n",
              " 'Excited_mit079Trial-9Click-22.mat',\n",
              " 'Excited_mit079Trial-9Click-21.mat',\n",
              " 'Amused_mit079Trial-9Click-23.mat',\n",
              " 'Distress_mit079Trial-10Click-25.mat',\n",
              " 'Disgust_mit079Trial-10Click-24.mat',\n",
              " 'Disgust_mit079Trial-10Click-27.mat',\n",
              " 'Angry_mit079Trial-10Click-26.mat',\n",
              " 'Afraid_mit080Trial-2Click-1.mat',\n",
              " 'Afraid_mit080Trial-2Click-2.mat',\n",
              " 'Passionate_mit080Trial-3Click-3.mat',\n",
              " 'Disgust_mit080Trial-7Click-5.mat',\n",
              " 'Frustrated_mit080Trial-7Click-6.mat',\n",
              " 'Distress_mit080Trial-6Click-4.mat',\n",
              " 'Disgust_mit080Trial-11Click-7.mat',\n",
              " 'Sad_mit081Trial-3Click-1.mat',\n",
              " 'Happy_mit081Trial-7Click-3.mat',\n",
              " 'Afraid_mit081Trial-10Click-7.mat',\n",
              " 'Startled_mit081Trial-9Click-4.mat',\n",
              " 'Taken Aback_mit082Trial-1Click-1.mat',\n",
              " 'Afraid_mit082Trial-2Click-2.mat',\n",
              " 'Delighted_mit082Trial-3Click-4.mat',\n",
              " 'Tense_mit082Trial-2Click-3.mat',\n",
              " 'Disgust_mit082Trial-4Click-6.mat',\n",
              " 'Amused_mit082Trial-3Click-5.mat',\n",
              " 'Afraid_mit082Trial-4Click-7.mat',\n",
              " 'Angry_mit082Trial-4Click-8.mat',\n",
              " 'Angry_mit082Trial-4Click-9.mat',\n",
              " 'Frustrated_mit082Trial-5Click-10.mat',\n",
              " 'Sad_mit082Trial-5Click-11.mat',\n",
              " 'Distrustful_mit082Trial-5Click-13.mat',\n",
              " 'Sad_mit082Trial-5Click-12.mat',\n",
              " 'Melancholic_mit082Trial-7Click-16.mat',\n",
              " 'Miserable_mit082Trial-7Click-15.mat',\n",
              " 'Dissatisfied_mit082Trial-7Click-14.mat',\n",
              " 'Delighted_mit082Trial-9Click-17.mat',\n",
              " 'Afraid_mit082Trial-10Click-19.mat',\n",
              " 'Aroused_mit082Trial-9Click-18.mat',\n",
              " 'Startled_mit082Trial-10Click-20.mat',\n",
              " 'Distress_mit082Trial-10Click-21.mat',\n",
              " 'Alarmed_mit082Trial-11Click-23.mat',\n",
              " 'Startled_mit082Trial-11Click-24.mat',\n",
              " 'Distress_mit082Trial-11Click-22.mat',\n",
              " 'Afraid_mit082Trial-11Click-25.mat',\n",
              " 'Love_mit096Trial-2Click-1.mat',\n",
              " 'Compassionate_mit096Trial-5Click-3.mat',\n",
              " 'Aroused_mit096Trial-2Click-2.mat',\n",
              " 'Angry_mit096Trial-8Click-6.mat',\n",
              " 'Tense_mit096Trial-6Click-5.mat',\n",
              " 'Compassionate_mit096Trial-5Click-4.mat',\n",
              " 'Excited_mit096Trial-9Click-7.mat',\n",
              " 'Excited_mit096Trial-11Click-9.mat',\n",
              " 'Adventorous_mit097Trial-1Click-1.mat',\n",
              " 'Alarmed_mit097Trial-2Click-2.mat',\n",
              " 'Alarmed_mit097Trial-2Click-3.mat',\n",
              " 'Distress_mit097Trial-5Click-6.mat',\n",
              " 'Miserable_mit097Trial-3Click-5.mat',\n",
              " 'Depressed_mit097Trial-3Click-4.mat',\n",
              " 'Sad_mit097Trial-10Click-8.mat',\n",
              " 'Disgust_mit097Trial-9Click-7.mat',\n",
              " 'Pleased_mit097Trial-11Click-9.mat',\n",
              " 'Disgust_mit099Trial-1Click-2.mat',\n",
              " 'Tense_mit099Trial-1Click-1.mat',\n",
              " 'Afraid_mit099Trial-2Click-5.mat',\n",
              " 'Afraid_mit099Trial-2Click-4.mat',\n",
              " 'Afraid_mit099Trial-2Click-3.mat',\n",
              " 'Alarmed_mit099Trial-3Click-7.mat',\n",
              " 'Miserable_mit099Trial-3Click-6.mat',\n",
              " 'Distress_mit099Trial-4Click-10.mat',\n",
              " 'Taken Aback_mit099Trial-4Click-9.mat',\n",
              " 'Alarmed_mit099Trial-3Click-8.mat',\n",
              " 'Hate_mit099Trial-4Click-11.mat',\n",
              " 'Miserable_mit099Trial-5Click-12.mat',\n",
              " 'Passionate_mit099Trial-6Click-14.mat',\n",
              " 'Lust_mit099Trial-6Click-15.mat',\n",
              " 'Alarmed_mit099Trial-5Click-13.mat',\n",
              " 'Sad_mit099Trial-7Click-16.mat',\n",
              " 'Amused_mit099Trial-9Click-17.mat',\n",
              " 'Excited_mit099Trial-9Click-18.mat',\n",
              " 'Afraid_mit099Trial-10Click-20.mat',\n",
              " 'Sad_mit099Trial-10Click-21.mat',\n",
              " 'Sad_mit099Trial-10Click-22.mat',\n",
              " 'Joyous_mit104Trial-2Click-1.mat',\n",
              " 'Excited_mit104Trial-9Click-2.mat',\n",
              " 'Adventorous_mit104Trial-9Click-4.mat',\n",
              " 'Joyous_mit104Trial-9Click-3.mat',\n",
              " 'Sad_mit104Trial-10Click-5.mat',\n",
              " 'Dissatisfied_mit106Trial-5Click-2.mat',\n",
              " 'Hate_mit106Trial-3Click-1.mat',\n",
              " 'Sad_mit106Trial-6Click-5.mat',\n",
              " 'Sad_mit106Trial-5Click-3.mat',\n",
              " 'Dissatisfied_mit106Trial-6Click-4.mat',\n",
              " 'Happy_mit106Trial-9Click-7.mat',\n",
              " 'Passionate_mit106Trial-9Click-6.mat',\n",
              " 'Angry_mit106Trial-10Click-9.mat',\n",
              " 'Angry_mit106Trial-10Click-8.mat',\n",
              " 'Sad_mit107Trial-3Click-1.mat',\n",
              " 'Afraid_mit107Trial-4Click-2.mat',\n",
              " 'Despondent_mit107Trial-7Click-4.mat',\n",
              " 'Adventorous_mit107Trial-6Click-3.mat',\n",
              " 'Angry_mit107Trial-10Click-5.mat',\n",
              " 'Tense_mit108Trial-5Click-1.mat',\n",
              " 'Angry_mit108Trial-5Click-2.mat',\n",
              " 'Afraid_mit108Trial-8Click-5.mat',\n",
              " 'Dissatisfied_mit108Trial-8Click-4.mat',\n",
              " 'Delighted_mit108Trial-7Click-3.mat',\n",
              " 'Alarmed_mit108Trial-9Click-6.mat',\n",
              " 'Afraid_mit108Trial-9Click-7.mat',\n",
              " 'Miserable_mit108Trial-10Click-8.mat',\n",
              " 'Delighted_mit111Trial-4Click-2.mat',\n",
              " 'Joyous_mit111Trial-4Click-1.mat',\n",
              " 'Adventorous_mit111Trial-6Click-4.mat',\n",
              " 'Happy_mit111Trial-4Click-3.mat',\n",
              " 'Excited_mit111Trial-6Click-5.mat',\n",
              " 'Sad_mit111Trial-7Click-7.mat',\n",
              " 'Depressed_mit111Trial-7Click-6.mat',\n",
              " 'Afraid_mit111Trial-9Click-8.mat',\n",
              " 'Sad_mit111Trial-10Click-9.mat',\n",
              " 'Angry_mit111Trial-10Click-10.mat',\n",
              " 'Hate_mit111Trial-10Click-11.mat',\n",
              " 'Disgust_mit113Trial-5Click-2.mat',\n",
              " 'Amused_mit113Trial-2Click-1.mat',\n",
              " 'Startled_mit113Trial-6Click-3.mat',\n",
              " 'Triumphant_mit113Trial-8Click-4.mat',\n",
              " 'Disgust_mit113Trial-9Click-5.mat',\n",
              " 'Happy_mit113Trial-10Click-6.mat',\n",
              " 'Depressed_mit113Trial-11Click-7.mat',\n",
              " 'Startled_mit114Trial-2Click-4.mat',\n",
              " 'Hopeful_mit114Trial-1Click-1.mat',\n",
              " 'Joyous_mit114Trial-3Click-6.mat',\n",
              " 'Joyous_mit114Trial-3Click-7.mat',\n",
              " 'Excited_mit114Trial-2Click-5.mat',\n",
              " 'Distress_mit114Trial-4Click-8.mat',\n",
              " 'Alarmed_mit114Trial-4Click-11.mat',\n",
              " 'Love_mit114Trial-5Click-12.mat',\n",
              " 'Compassionate_mit114Trial-4Click-10.mat',\n",
              " 'Startled_mit114Trial-5Click-13.mat',\n",
              " 'Hate_mit114Trial-5Click-14.mat',\n",
              " 'Tense_mit114Trial-6Click-15.mat',\n",
              " 'Afraid_mit114Trial-6Click-16.mat',\n",
              " 'Dissatisfied_mit114Trial-7Click-19.mat',\n",
              " 'Angry_mit114Trial-7Click-20.mat',\n",
              " 'Sad_mit114Trial-7Click-21.mat',\n",
              " 'Sad_mit114Trial-7Click-22.mat',\n",
              " 'Afraid_mit114Trial-8Click-24.mat',\n",
              " 'Sad_mit114Trial-8Click-25.mat',\n",
              " 'Afraid_mit114Trial-8Click-23.mat',\n",
              " 'Alarmed_mit114Trial-8Click-26.mat',\n",
              " 'Afraid_mit114Trial-10Click-30.mat',\n",
              " 'Amused_mit114Trial-10Click-29.mat',\n",
              " 'Passionate_mit114Trial-11Click-32.mat',\n",
              " 'Adventorous_mit114Trial-10Click-31.mat',\n",
              " 'Lust_mit114Trial-11Click-34.mat',\n",
              " 'Lust_mit114Trial-11Click-33.mat',\n",
              " 'Pensive_mit116Trial-2Click-2.mat',\n",
              " 'Pensive_mit116Trial-2Click-1.mat',\n",
              " 'Joyous_mit116Trial-3Click-3.mat',\n",
              " 'Depressed_mit116Trial-6Click-5.mat',\n",
              " 'Sad_mit116Trial-4Click-4.mat',\n",
              " 'Sad_mit116Trial-6Click-6.mat',\n",
              " 'Miserable_mit116Trial-6Click-7.mat',\n",
              " 'Sad_mit116Trial-7Click-8.mat',\n",
              " 'Miserable_mit116Trial-9Click-9.mat',\n",
              " 'Dissatisfied_mit116Trial-9Click-10.mat',\n",
              " 'Excited_mit116Trial-10Click-12.mat',\n",
              " 'Taken Aback_mit116Trial-11Click-13.mat',\n",
              " 'Joyous_mit116Trial-10Click-11.mat',\n",
              " 'Distress_mit116Trial-11Click-14.mat',\n",
              " 'Joyous_mit117Trial-2Click-1.mat',\n",
              " 'Hate_mit117Trial-3Click-2.mat',\n",
              " 'Angry_mit117Trial-5Click-4.mat',\n",
              " 'Sad_mit117Trial-4Click-3.mat',\n",
              " 'Delighted_mit117Trial-10Click-5.mat',\n",
              " 'Distress_mit117Trial-11Click-6.mat',\n",
              " 'Excited_mit121Trial-1Click-1.mat',\n",
              " 'Joyous_mit121Trial-2Click-3.mat',\n",
              " 'Delighted_mit121Trial-2Click-2.mat',\n",
              " 'Sad_mit121Trial-3Click-4.mat',\n",
              " 'Taken Aback_mit121Trial-4Click-6.mat',\n",
              " 'Sad_mit121Trial-3Click-5.mat',\n",
              " 'Miserable_mit121Trial-4Click-8.mat',\n",
              " 'Miserable_mit121Trial-4Click-7.mat',\n",
              " 'Startled_mit121Trial-5Click-9.mat',\n",
              " 'Startled_mit121Trial-9Click-10.mat',\n",
              " 'Sad_mit121Trial-9Click-11.mat',\n",
              " 'Angry_mit121Trial-10Click-13.mat',\n",
              " 'Afraid_mit121Trial-11Click-14.mat',\n",
              " 'Angry_mit121Trial-10Click-12.mat',\n",
              " 'Alarmed_mit121Trial-11Click-15.mat',\n",
              " 'Amused_mit122Trial-1Click-1.mat',\n",
              " 'Miserable_mit122Trial-2Click-2.mat',\n",
              " 'Hate_mit122Trial-2Click-4.mat',\n",
              " 'Hate_mit122Trial-2Click-3.mat',\n",
              " 'Disgust_mit122Trial-3Click-6.mat',\n",
              " 'Afraid_mit122Trial-3Click-5.mat',\n",
              " 'Disgust_mit122Trial-4Click-7.mat',\n",
              " 'Angry_mit122Trial-6Click-9.mat',\n",
              " 'Hate_mit122Trial-6Click-8.mat',\n",
              " 'Afraid_mit122Trial-7Click-12.mat',\n",
              " 'Hate_mit122Trial-6Click-11.mat',\n",
              " 'Angry_mit122Trial-6Click-10.mat',\n",
              " 'Startled_mit122Trial-8Click-14.mat',\n",
              " 'Distress_mit122Trial-7Click-13.mat',\n",
              " 'Distress_mit122Trial-8Click-15.mat',\n",
              " 'Excited_mit122Trial-10Click-16.mat',\n",
              " 'Joyous_mit122Trial-11Click-17.mat',\n",
              " 'Happy_mit122Trial-11Click-18.mat',\n",
              " 'Afraid_mit123Trial-2Click-1.mat',\n",
              " 'Afraid_mit123Trial-2Click-2.mat',\n",
              " 'Taken Aback_mit123Trial-4Click-3.mat',\n",
              " 'Angry_mit123Trial-5Click-5.mat',\n",
              " 'Taken Aback_mit123Trial-4Click-4.mat',\n",
              " 'Angry_mit123Trial-5Click-6.mat',\n",
              " 'Alarmed_mit123Trial-8Click-8.mat',\n",
              " 'Tense_mit123Trial-8Click-7.mat',\n",
              " 'Alarmed_mit123Trial-9Click-10.mat',\n",
              " 'Alarmed_mit123Trial-9Click-9.mat',\n",
              " 'Melancholic_mitb2017007Trial-2Click-1.mat',\n",
              " 'Sad_mitb2017007Trial-6Click-3.mat',\n",
              " 'Sad_mitb2017007Trial-4Click-2.mat',\n",
              " 'Adventorous_mitb2017007Trial-7Click-4.mat',\n",
              " 'Excited_mitb2017007Trial-7Click-5.mat',\n",
              " 'Taken Aback_mitb2017007Trial-9Click-6.mat',\n",
              " 'Disgust_mitb2017007Trial-11Click-7.mat',\n",
              " 'Distrustful_mitb2017007Trial-11Click-8.mat']"
            ]
          },
          "metadata": {},
          "execution_count": 12
        }
      ]
    },
    {
      "cell_type": "code",
      "source": [
        "rating = pd.read_csv('/content/drive/My Drive/MTech_Thesis/DENS/Rating/wholeFrequencyDependentDataWithVADLFR_ReFormattingWholeFrequencyVA - wholeFrequencyDependentDataWithVADLFR_ReFormattingWholeFrequencyVA.csv')"
      ],
      "metadata": {
        "id": "z9IPNKWWmCl1"
      },
      "execution_count": 8,
      "outputs": []
    },
    {
      "cell_type": "code",
      "source": [
        "eeg_data = []\n",
        "eeg_label = []"
      ],
      "metadata": {
        "id": "3SZD7T-ZMrGr"
      },
      "execution_count": 24,
      "outputs": []
    },
    {
      "cell_type": "code",
      "source": [
        "def label_mapping(valence, arousal):\n",
        "    # HVHA, HVLA, LVHA, and LVLA\n",
        "    \n",
        "    if (valence <= 4.5):\n",
        "        label = 0 \n",
        "    elif (valence > 4.5 and valence < 5.5):\n",
        "        label = -1\n",
        "    elif (valence >= 5.5):\n",
        "        label = 2\n",
        "    \n",
        "    return label"
      ],
      "metadata": {
        "id": "qNgprMehwbq6"
      },
      "execution_count": 25,
      "outputs": []
    },
    {
      "cell_type": "code",
      "source": [
        "base_path = \"/content/drive/My Drive/MTech_Thesis/DENS/Emotional/\"\n",
        "for f in files:\n",
        "  if f.endswith(\".mat\"):\n",
        "    file_str = f[:-4]\n",
        "    df = rating[rating[\"Subject\"].str.contains(file_str)]\n",
        "    if not df.empty:\n",
        "      path = base_path + f\n",
        "      mat = sio.loadmat(path)\n",
        "      data = mat.get('eegData')\n",
        "      df = df[['Subject','valence','arousal']]\n",
        "      df = df.drop_duplicates()\n",
        "      valence = df['valence']\n",
        "      arousal = df['arousal']\n",
        "      lab = label_mapping(valence.values[0], arousal.values[0])\n",
        "      if lab != -1:\n",
        "        eeg_data.append(data)\n",
        "        eeg_label.append(lab)"
      ],
      "metadata": {
        "id": "_v5jP3fsMCl8"
      },
      "execution_count": 26,
      "outputs": []
    },
    {
      "cell_type": "code",
      "source": [
        "base_path_n = \"/content/drive/My Drive/MTech_Thesis/DENS/NonEmotional/\"\n",
        "for f in files1:\n",
        "  if f.endswith(\".mat\"):\n",
        "    file_str = f[:-4]\n",
        "    path = base_path_n + f\n",
        "    mat = sio.loadmat(path)\n",
        "    data = mat.get('eegData')\n",
        "    eeg_data.append(data)\n",
        "    eeg_label.append('1')"
      ],
      "metadata": {
        "id": "Lj3uuBE4e8-U"
      },
      "execution_count": 27,
      "outputs": []
    },
    {
      "cell_type": "code",
      "source": [
        "eeg_data = np.array(eeg_data)"
      ],
      "metadata": {
        "id": "y1_zddLmODQy"
      },
      "execution_count": 30,
      "outputs": []
    },
    {
      "cell_type": "code",
      "source": [
        "eeg_data.shape"
      ],
      "metadata": {
        "colab": {
          "base_uri": "https://localhost:8080/"
        },
        "id": "mE62KOYIOINm",
        "outputId": "f5f5b0d3-c5a7-41da-fde9-de62726124fd"
      },
      "execution_count": 31,
      "outputs": [
        {
          "output_type": "execute_result",
          "data": {
            "text/plain": [
              "(487, 128, 1751)"
            ]
          },
          "metadata": {},
          "execution_count": 31
        }
      ]
    },
    {
      "cell_type": "code",
      "source": [
        "eeg_label = np.array(eeg_label)"
      ],
      "metadata": {
        "id": "aXiRiyzTA2P-"
      },
      "execution_count": 32,
      "outputs": []
    },
    {
      "cell_type": "code",
      "source": [
        "eeg_label"
      ],
      "metadata": {
        "colab": {
          "base_uri": "https://localhost:8080/"
        },
        "id": "Xr0QukD_u43J",
        "outputId": "c817b045-b848-4ce3-8b1e-b67fc3f3fb6a"
      },
      "execution_count": 37,
      "outputs": [
        {
          "output_type": "execute_result",
          "data": {
            "text/plain": [
              "array(['2', '0', '0', '0', '0', '0', '0', '2', '2', '2', '0', '0', '2',\n",
              "       '2', '0', '0', '0', '0', '0', '2', '0', '2', '2', '2', '2', '0',\n",
              "       '0', '0', '0', '0', '0', '0', '0', '0', '0', '0', '0', '0', '0',\n",
              "       '0', '0', '0', '0', '0', '0', '0', '0', '2', '2', '2', '2', '0',\n",
              "       '0', '0', '0', '0', '2', '2', '0', '0', '0', '0', '0', '0', '2',\n",
              "       '0', '0', '0', '0', '2', '0', '0', '0', '0', '0', '0', '0', '2',\n",
              "       '2', '0', '2', '0', '0', '0', '0', '0', '0', '0', '0', '0', '0',\n",
              "       '0', '0', '0', '0', '0', '0', '0', '0', '0', '0', '0', '0', '0',\n",
              "       '2', '0', '2', '2', '2', '2', '0', '0', '0', '0', '0', '0', '2',\n",
              "       '2', '2', '0', '0', '2', '0', '0', '0', '0', '0', '0', '0', '0',\n",
              "       '0', '2', '2', '0', '2', '2', '2', '2', '2', '2', '2', '0', '0',\n",
              "       '0', '0', '0', '0', '0', '0', '0', '0', '0', '0', '0', '0', '0',\n",
              "       '0', '0', '0', '2', '2', '2', '0', '0', '0', '0', '0', '2', '2',\n",
              "       '2', '2', '2', '2', '2', '0', '0', '0', '0', '2', '0', '0', '0',\n",
              "       '0', '2', '2', '2', '0', '0', '2', '0', '0', '0', '0', '0', '0',\n",
              "       '0', '0', '0', '2', '0', '2', '0', '0', '0', '2', '2', '2', '0',\n",
              "       '0', '0', '2', '2', '2', '2', '2', '0', '0', '0', '0', '0', '0',\n",
              "       '0', '0', '0', '0', '0', '0', '0', '0', '0', '0', '0', '0', '0',\n",
              "       '0', '0', '2', '2', '2', '2', '0', '2', '2', '2', '0', '0', '0',\n",
              "       '2', '2', '2', '0', '0', '0', '0', '0', '0', '0', '0', '0', '2',\n",
              "       '0', '0', '0', '0', '2', '0', '0', '2', '0', '0', '0', '0', '0',\n",
              "       '0', '0', '0', '2', '0', '2', '0', '0', '0', '0', '0', '0', '2',\n",
              "       '0', '0', '2', '0', '0', '0', '0', '0', '0', '0', '2', '2', '0',\n",
              "       '0', '0', '0', '0', '0', '0', '0', '0', '0', '2', '2', '0', '0',\n",
              "       '2', '2', '0', '0', '0', '2', '2', '2', '2', '0', '0', '2', '0',\n",
              "       '0', '0', '2', '2', '2', '2', '0', '0', '0', '2', '0', '0', '0',\n",
              "       '0', '0', '2', '0', '0', '0', '2', '2', '2', '2', '2', '0', '0',\n",
              "       '0', '0', '0', '0', '0', '2', '0', '0', '2', '0', '2', '2', '2',\n",
              "       '2', '0', '0', '2', '0', '0', '0', '0', '0', '0', '0', '0', '0',\n",
              "       '0', '0', '2', '2', '2', '2', '2', '2', '0', '0', '0', '0', '0',\n",
              "       '0', '0', '2', '0', '2', '0', '2', '0', '0', '0', '2', '0', '2',\n",
              "       '2', '2', '0', '0', '0', '0', '0', '0', '2', '0', '2', '2', '0',\n",
              "       '0', '0', '0', '0', '0', '0', '0', '0', '0', '0', '0', '0', '0',\n",
              "       '2', '2', '2', '0', '0', '0', '0', '0', '0', '0', '0', '0', '0',\n",
              "       '0', '0', '0', '0', '0', '1', '1', '1', '1', '1', '1', '1', '1',\n",
              "       '1', '1', '1', '1', '1', '1', '1', '1', '1', '1', '1', '1', '1',\n",
              "       '1', '1', '1', '1', '1', '1', '1', '1', '1', '1', '1', '1', '1',\n",
              "       '1', '1', '1', '1', '1', '1'], dtype='<U21')"
            ]
          },
          "metadata": {},
          "execution_count": 37
        }
      ]
    },
    {
      "cell_type": "code",
      "source": [
        "eeg_Label = []\n",
        "for i in eeg_label:\n",
        "    for j in range (0,128):\n",
        "        eeg_Label.append(i)"
      ],
      "metadata": {
        "id": "yrkIiv7XnBUA"
      },
      "execution_count": 38,
      "outputs": []
    },
    {
      "cell_type": "code",
      "source": [
        "eeg_Label = np.array(eeg_Label)"
      ],
      "metadata": {
        "id": "IZaYw98NvNqT"
      },
      "execution_count": 40,
      "outputs": []
    },
    {
      "cell_type": "code",
      "source": [
        "eeg_Label.shape"
      ],
      "metadata": {
        "colab": {
          "base_uri": "https://localhost:8080/"
        },
        "id": "QJiZlFoVvPU4",
        "outputId": "26d10946-c831-4feb-a26f-809d538c35fa"
      },
      "execution_count": 41,
      "outputs": [
        {
          "output_type": "execute_result",
          "data": {
            "text/plain": [
              "(62336,)"
            ]
          },
          "metadata": {},
          "execution_count": 41
        }
      ]
    },
    {
      "cell_type": "code",
      "source": [
        "eeg_Label = eeg_Label.astype('int32')"
      ],
      "metadata": {
        "id": "rbS-f4dWv4KU"
      },
      "execution_count": 49,
      "outputs": []
    },
    {
      "cell_type": "code",
      "source": [
        "count0 = np.count_nonzero(eeg_Label == 0)\n",
        "count1 = np.count_nonzero(eeg_Label == 1)\n",
        "count2 = np.count_nonzero(eeg_Label == 2)"
      ],
      "metadata": {
        "id": "57d12fLqujOj"
      },
      "execution_count": 50,
      "outputs": []
    },
    {
      "cell_type": "code",
      "source": [
        "print(count0)\n",
        "print(count1)\n",
        "print(count2)"
      ],
      "metadata": {
        "colab": {
          "base_uri": "https://localhost:8080/"
        },
        "id": "-SjzzcQPvBkG",
        "outputId": "1221aba2-658d-4266-e596-730ef54f2f41"
      },
      "execution_count": 51,
      "outputs": [
        {
          "output_type": "stream",
          "name": "stdout",
          "text": [
            "40576\n",
            "5120\n",
            "16640\n"
          ]
        }
      ]
    },
    {
      "cell_type": "code",
      "source": [
        "zero_weight = 0.51\n",
        "one_weight = 4.06\n",
        "two_weight = 1.25"
      ],
      "metadata": {
        "id": "3Mms1zzCDr0r"
      },
      "execution_count": 62,
      "outputs": []
    },
    {
      "cell_type": "code",
      "source": [
        "from tensorflow.keras.utils import to_categorical \n",
        "y = to_categorical(eeg_Label)"
      ],
      "metadata": {
        "id": "0l25SFviCFX-"
      },
      "execution_count": 52,
      "outputs": []
    },
    {
      "cell_type": "code",
      "source": [
        "y.shape"
      ],
      "metadata": {
        "colab": {
          "base_uri": "https://localhost:8080/"
        },
        "id": "budJyMi9mOme",
        "outputId": "6f418091-fee6-4b93-e182-04e46620a496"
      },
      "execution_count": 53,
      "outputs": [
        {
          "output_type": "execute_result",
          "data": {
            "text/plain": [
              "(62336, 3)"
            ]
          },
          "metadata": {},
          "execution_count": 53
        }
      ]
    },
    {
      "cell_type": "code",
      "source": [
        "import functools\n",
        "def combine_dims(a, i=0, n=1):\n",
        "  s = list(a.shape)\n",
        "  combined = functools.reduce(lambda x,y: x*y, s[i:i+n+1])\n",
        "  return np.reshape(a, s[:i] + [combined] + s[i+n+1:])"
      ],
      "metadata": {
        "id": "HM5lnt5fCNnq"
      },
      "execution_count": 42,
      "outputs": []
    },
    {
      "cell_type": "code",
      "source": [
        "eeg_Data = combine_dims(np.array(eeg_data), 0)"
      ],
      "metadata": {
        "id": "fqcsIrRJC97G"
      },
      "execution_count": 43,
      "outputs": []
    },
    {
      "cell_type": "code",
      "source": [
        "eeg_Data.shape"
      ],
      "metadata": {
        "id": "qb7O6M9IDE2D",
        "outputId": "55e60939-a693-47e9-c1e4-92f0b036371e",
        "colab": {
          "base_uri": "https://localhost:8080/"
        }
      },
      "execution_count": 44,
      "outputs": [
        {
          "output_type": "execute_result",
          "data": {
            "text/plain": [
              "(62336, 1751)"
            ]
          },
          "metadata": {},
          "execution_count": 44
        }
      ]
    },
    {
      "cell_type": "code",
      "source": [
        "fs = 250\n",
        "\n",
        "size_dataset = len(eeg_Data)\n",
        "nperseg = 125\n",
        "noverlap = 62\n",
        "f_size = int((nperseg + 1)/2)\n",
        "t_size = int((eeg_Data[0].size - noverlap ) / (nperseg - noverlap))\n",
        "X_full = np.ndarray(shape=(size_dataset, f_size, t_size, 3))                     \n",
        "for i in range(0, size_dataset):\n",
        "  for j in range(0,3):\n",
        "    X = eeg_Data[i] \n",
        "    f, t, Sxx = spectrogram(X, fs, nperseg = nperseg, noverlap = noverlap, mode='psd')\n",
        "    X_full[i, :, :, j] = Sxx"
      ],
      "metadata": {
        "id": "5Fg_Vk8FnjNi"
      },
      "execution_count": 54,
      "outputs": []
    },
    {
      "cell_type": "code",
      "source": [
        "X_full = np.array(X_full)"
      ],
      "metadata": {
        "id": "DECpBmzqoTik"
      },
      "execution_count": 55,
      "outputs": []
    },
    {
      "cell_type": "code",
      "source": [
        "X_train, X_test, y_train, y_test = train_test_split(X_full, y, test_size=0.2, random_state=23)"
      ],
      "metadata": {
        "id": "FDjtp987ozZo"
      },
      "execution_count": 56,
      "outputs": []
    },
    {
      "cell_type": "code",
      "source": [
        "X_train /= 255\n",
        "X_test /= 255"
      ],
      "metadata": {
        "id": "-9MCilC1o5zJ"
      },
      "execution_count": 57,
      "outputs": []
    },
    {
      "cell_type": "code",
      "source": [
        "num_classes = 3 "
      ],
      "metadata": {
        "id": "LKIo3LHSGX_-"
      },
      "execution_count": 58,
      "outputs": []
    },
    {
      "cell_type": "code",
      "source": [
        "input_shape = (X_train.shape[1],X_train.shape[2],X_train.shape[3])\n",
        "input_shape"
      ],
      "metadata": {
        "colab": {
          "base_uri": "https://localhost:8080/"
        },
        "id": "zO9XwZfJpLTd",
        "outputId": "22fea87c-e795-4873-a1a8-8e5875d3e92e"
      },
      "execution_count": 59,
      "outputs": [
        {
          "output_type": "execute_result",
          "data": {
            "text/plain": [
              "(63, 26, 3)"
            ]
          },
          "metadata": {},
          "execution_count": 59
        }
      ]
    },
    {
      "cell_type": "code",
      "source": [
        "model = Sequential()\n",
        "\n",
        "model.add(Conv2D(32, (3, 3), \n",
        "          strides=(1, 1),\n",
        "          activation='relu', \n",
        "          input_shape=input_shape))\n",
        "model.add(MaxPooling2D((2, 2), strides=(2, 2)))\n",
        "\n",
        "model.add(Conv2D(64, (3, 3), \n",
        "          activation='relu'))\n",
        "model.add(MaxPooling2D((2, 2)))\n",
        "model.add(Dropout(0.1))\n",
        "\n",
        "model.add(Flatten())\n",
        "\n",
        "model.add(RepeatVector(3))\n",
        "\n",
        "model.add(LSTM(256, return_sequences=True))\n",
        "model.add(Dropout(0.2))\n",
        "\n",
        "model.add(LSTM(128))\n",
        "model.add(Dropout(0.2))\n",
        "\n",
        "model.add(Dense(64, activation=\"relu\"))\n",
        "model.add(Dropout(0.2))\n",
        "\n",
        "\n",
        "model.add(Dense(num_classes, activation=\"softmax\"))\n",
        "\n",
        "model.summary()"
      ],
      "metadata": {
        "colab": {
          "base_uri": "https://localhost:8080/"
        },
        "id": "hzRfPC7GpPTw",
        "outputId": "36f9b8e0-82da-406a-d37e-55d3279a0974"
      },
      "execution_count": 60,
      "outputs": [
        {
          "output_type": "stream",
          "name": "stdout",
          "text": [
            "Model: \"sequential\"\n",
            "_________________________________________________________________\n",
            " Layer (type)                Output Shape              Param #   \n",
            "=================================================================\n",
            " conv2d (Conv2D)             (None, 61, 24, 32)        896       \n",
            "                                                                 \n",
            " max_pooling2d (MaxPooling2D  (None, 30, 12, 32)       0         \n",
            " )                                                               \n",
            "                                                                 \n",
            " conv2d_1 (Conv2D)           (None, 28, 10, 64)        18496     \n",
            "                                                                 \n",
            " max_pooling2d_1 (MaxPooling  (None, 14, 5, 64)        0         \n",
            " 2D)                                                             \n",
            "                                                                 \n",
            " dropout (Dropout)           (None, 14, 5, 64)         0         \n",
            "                                                                 \n",
            " flatten (Flatten)           (None, 4480)              0         \n",
            "                                                                 \n",
            " repeat_vector (RepeatVector  (None, 3, 4480)          0         \n",
            " )                                                               \n",
            "                                                                 \n",
            " lstm (LSTM)                 (None, 3, 256)            4850688   \n",
            "                                                                 \n",
            " dropout_1 (Dropout)         (None, 3, 256)            0         \n",
            "                                                                 \n",
            " lstm_1 (LSTM)               (None, 128)               197120    \n",
            "                                                                 \n",
            " dropout_2 (Dropout)         (None, 128)               0         \n",
            "                                                                 \n",
            " dense (Dense)               (None, 64)                8256      \n",
            "                                                                 \n",
            " dropout_3 (Dropout)         (None, 64)                0         \n",
            "                                                                 \n",
            " dense_1 (Dense)             (None, 3)                 195       \n",
            "                                                                 \n",
            "=================================================================\n",
            "Total params: 5,075,651\n",
            "Trainable params: 5,075,651\n",
            "Non-trainable params: 0\n",
            "_________________________________________________________________\n"
          ]
        }
      ]
    },
    {
      "cell_type": "code",
      "source": [
        "es = tf.keras.callbacks.EarlyStopping(monitor='val_loss', mode='min', verbose=1, patience=30)\n",
        "mc = tf.keras.callbacks.ModelCheckpoint('best_model.h5', monitor='val_accuracy', mode='max', verbose=1, save_best_only=True)\n",
        "model.compile(optimizer =\"Adam\", loss =keras.losses.categorical_crossentropy, metrics=['accuracy'])\n",
        "\n",
        "m=model.fit(X_train, y_train,epochs=100,batch_size=256,verbose=1,validation_data=(X_test, y_test),class_weight={0:zero_weight, 1:one_weight, 2: two_weight}, callbacks =[es, mc])"
      ],
      "metadata": {
        "colab": {
          "base_uri": "https://localhost:8080/"
        },
        "id": "5xWY75FjpQL3",
        "outputId": "4f1d7c60-2313-4329-8483-e68a4d5aa2ff"
      },
      "execution_count": 63,
      "outputs": [
        {
          "output_type": "stream",
          "name": "stdout",
          "text": [
            "Epoch 1/100\n",
            "195/195 [==============================] - ETA: 0s - loss: 1.0884 - accuracy: 0.3189\n",
            "Epoch 1: val_accuracy improved from -inf to 0.61742, saving model to best_model.h5\n",
            "195/195 [==============================] - 29s 71ms/step - loss: 1.0884 - accuracy: 0.3189 - val_loss: 1.0293 - val_accuracy: 0.6174\n",
            "Epoch 2/100\n",
            "193/195 [============================>.] - ETA: 0s - loss: 1.0219 - accuracy: 0.4238\n",
            "Epoch 2: val_accuracy did not improve from 0.61742\n",
            "195/195 [==============================] - 4s 19ms/step - loss: 1.0216 - accuracy: 0.4241 - val_loss: 0.9699 - val_accuracy: 0.5293\n",
            "Epoch 3/100\n",
            "193/195 [============================>.] - ETA: 0s - loss: 0.9518 - accuracy: 0.4822\n",
            "Epoch 3: val_accuracy did not improve from 0.61742\n",
            "195/195 [==============================] - 4s 19ms/step - loss: 0.9518 - accuracy: 0.4831 - val_loss: 0.9921 - val_accuracy: 0.4838\n",
            "Epoch 4/100\n",
            "193/195 [============================>.] - ETA: 0s - loss: 0.8932 - accuracy: 0.5067\n",
            "Epoch 4: val_accuracy did not improve from 0.61742\n",
            "195/195 [==============================] - 4s 19ms/step - loss: 0.8938 - accuracy: 0.5069 - val_loss: 1.0336 - val_accuracy: 0.4447\n",
            "Epoch 5/100\n",
            "192/195 [============================>.] - ETA: 0s - loss: 0.8372 - accuracy: 0.5391\n",
            "Epoch 5: val_accuracy did not improve from 0.61742\n",
            "195/195 [==============================] - 4s 19ms/step - loss: 0.8363 - accuracy: 0.5400 - val_loss: 0.8458 - val_accuracy: 0.5536\n",
            "Epoch 6/100\n",
            "194/195 [============================>.] - ETA: 0s - loss: 0.7823 - accuracy: 0.5679\n",
            "Epoch 6: val_accuracy did not improve from 0.61742\n",
            "195/195 [==============================] - 4s 19ms/step - loss: 0.7828 - accuracy: 0.5680 - val_loss: 0.8205 - val_accuracy: 0.5569\n",
            "Epoch 7/100\n",
            "192/195 [============================>.] - ETA: 0s - loss: 0.7346 - accuracy: 0.5908\n",
            "Epoch 7: val_accuracy did not improve from 0.61742\n",
            "195/195 [==============================] - 4s 19ms/step - loss: 0.7354 - accuracy: 0.5908 - val_loss: 0.7913 - val_accuracy: 0.5970\n",
            "Epoch 8/100\n",
            "194/195 [============================>.] - ETA: 0s - loss: 0.6884 - accuracy: 0.6209\n",
            "Epoch 8: val_accuracy did not improve from 0.61742\n",
            "195/195 [==============================] - 4s 19ms/step - loss: 0.6880 - accuracy: 0.6208 - val_loss: 0.7576 - val_accuracy: 0.6019\n",
            "Epoch 9/100\n",
            "193/195 [============================>.] - ETA: 0s - loss: 0.6553 - accuracy: 0.6364\n",
            "Epoch 9: val_accuracy improved from 0.61742 to 0.63491, saving model to best_model.h5\n",
            "195/195 [==============================] - 5s 26ms/step - loss: 0.6554 - accuracy: 0.6364 - val_loss: 0.7293 - val_accuracy: 0.6349\n",
            "Epoch 10/100\n",
            "192/195 [============================>.] - ETA: 0s - loss: 0.6086 - accuracy: 0.6632\n",
            "Epoch 10: val_accuracy did not improve from 0.63491\n",
            "195/195 [==============================] - 4s 20ms/step - loss: 0.6095 - accuracy: 0.6626 - val_loss: 0.7489 - val_accuracy: 0.6220\n",
            "Epoch 11/100\n",
            "193/195 [============================>.] - ETA: 0s - loss: 0.5575 - accuracy: 0.6969\n",
            "Epoch 11: val_accuracy improved from 0.63491 to 0.67156, saving model to best_model.h5\n",
            "195/195 [==============================] - 4s 21ms/step - loss: 0.5572 - accuracy: 0.6970 - val_loss: 0.6584 - val_accuracy: 0.6716\n",
            "Epoch 12/100\n",
            "192/195 [============================>.] - ETA: 0s - loss: 0.5207 - accuracy: 0.7144\n",
            "Epoch 12: val_accuracy improved from 0.67156 to 0.75241, saving model to best_model.h5\n",
            "195/195 [==============================] - 4s 21ms/step - loss: 0.5203 - accuracy: 0.7149 - val_loss: 0.5323 - val_accuracy: 0.7524\n",
            "Epoch 13/100\n",
            "192/195 [============================>.] - ETA: 0s - loss: 0.4751 - accuracy: 0.7388\n",
            "Epoch 13: val_accuracy did not improve from 0.75241\n",
            "195/195 [==============================] - 4s 19ms/step - loss: 0.4757 - accuracy: 0.7388 - val_loss: 0.5335 - val_accuracy: 0.7468\n",
            "Epoch 14/100\n",
            "192/195 [============================>.] - ETA: 0s - loss: 0.4381 - accuracy: 0.7607\n",
            "Epoch 14: val_accuracy did not improve from 0.75241\n",
            "195/195 [==============================] - 4s 19ms/step - loss: 0.4381 - accuracy: 0.7611 - val_loss: 0.5582 - val_accuracy: 0.7395\n",
            "Epoch 15/100\n",
            "194/195 [============================>.] - ETA: 0s - loss: 0.4000 - accuracy: 0.7831\n",
            "Epoch 15: val_accuracy improved from 0.75241 to 0.79949, saving model to best_model.h5\n",
            "195/195 [==============================] - 5s 24ms/step - loss: 0.4000 - accuracy: 0.7831 - val_loss: 0.4495 - val_accuracy: 0.7995\n",
            "Epoch 16/100\n",
            "194/195 [============================>.] - ETA: 0s - loss: 0.3690 - accuracy: 0.7993\n",
            "Epoch 16: val_accuracy improved from 0.79949 to 0.80278, saving model to best_model.h5\n",
            "195/195 [==============================] - 4s 21ms/step - loss: 0.3688 - accuracy: 0.7994 - val_loss: 0.4444 - val_accuracy: 0.8028\n",
            "Epoch 17/100\n",
            "194/195 [============================>.] - ETA: 0s - loss: 0.3335 - accuracy: 0.8185\n",
            "Epoch 17: val_accuracy improved from 0.80278 to 0.84456, saving model to best_model.h5\n",
            "195/195 [==============================] - 4s 20ms/step - loss: 0.3335 - accuracy: 0.8185 - val_loss: 0.3589 - val_accuracy: 0.8446\n",
            "Epoch 18/100\n",
            "194/195 [============================>.] - ETA: 0s - loss: 0.3063 - accuracy: 0.8333\n",
            "Epoch 18: val_accuracy improved from 0.84456 to 0.86574, saving model to best_model.h5\n",
            "195/195 [==============================] - 4s 21ms/step - loss: 0.3060 - accuracy: 0.8335 - val_loss: 0.3228 - val_accuracy: 0.8657\n",
            "Epoch 19/100\n",
            "193/195 [============================>.] - ETA: 0s - loss: 0.2788 - accuracy: 0.8475\n",
            "Epoch 19: val_accuracy improved from 0.86574 to 0.86951, saving model to best_model.h5\n",
            "195/195 [==============================] - 4s 21ms/step - loss: 0.2786 - accuracy: 0.8475 - val_loss: 0.3066 - val_accuracy: 0.8695\n",
            "Epoch 20/100\n",
            "194/195 [============================>.] - ETA: 0s - loss: 0.2603 - accuracy: 0.8594\n",
            "Epoch 20: val_accuracy improved from 0.86951 to 0.87215, saving model to best_model.h5\n",
            "195/195 [==============================] - 4s 21ms/step - loss: 0.2601 - accuracy: 0.8596 - val_loss: 0.2956 - val_accuracy: 0.8722\n",
            "Epoch 21/100\n",
            "195/195 [==============================] - ETA: 0s - loss: 0.2402 - accuracy: 0.8713\n",
            "Epoch 21: val_accuracy improved from 0.87215 to 0.88017, saving model to best_model.h5\n",
            "195/195 [==============================] - 4s 21ms/step - loss: 0.2402 - accuracy: 0.8713 - val_loss: 0.2949 - val_accuracy: 0.8802\n",
            "Epoch 22/100\n",
            "195/195 [==============================] - ETA: 0s - loss: 0.2193 - accuracy: 0.8821\n",
            "Epoch 22: val_accuracy improved from 0.88017 to 0.88426, saving model to best_model.h5\n",
            "195/195 [==============================] - 4s 21ms/step - loss: 0.2193 - accuracy: 0.8821 - val_loss: 0.2717 - val_accuracy: 0.8843\n",
            "Epoch 23/100\n",
            "193/195 [============================>.] - ETA: 0s - loss: 0.2034 - accuracy: 0.8921\n",
            "Epoch 23: val_accuracy improved from 0.88426 to 0.90143, saving model to best_model.h5\n",
            "195/195 [==============================] - 4s 20ms/step - loss: 0.2033 - accuracy: 0.8920 - val_loss: 0.2428 - val_accuracy: 0.9014\n",
            "Epoch 24/100\n",
            "193/195 [============================>.] - ETA: 0s - loss: 0.1848 - accuracy: 0.8995\n",
            "Epoch 24: val_accuracy improved from 0.90143 to 0.90319, saving model to best_model.h5\n",
            "195/195 [==============================] - 4s 21ms/step - loss: 0.1846 - accuracy: 0.8995 - val_loss: 0.2393 - val_accuracy: 0.9032\n",
            "Epoch 25/100\n",
            "193/195 [============================>.] - ETA: 0s - loss: 0.1644 - accuracy: 0.9112\n",
            "Epoch 25: val_accuracy improved from 0.90319 to 0.91570, saving model to best_model.h5\n",
            "195/195 [==============================] - 4s 21ms/step - loss: 0.1648 - accuracy: 0.9111 - val_loss: 0.2144 - val_accuracy: 0.9157\n",
            "Epoch 26/100\n",
            "193/195 [============================>.] - ETA: 0s - loss: 0.1543 - accuracy: 0.9181\n",
            "Epoch 26: val_accuracy did not improve from 0.91570\n",
            "195/195 [==============================] - 4s 19ms/step - loss: 0.1543 - accuracy: 0.9179 - val_loss: 0.2259 - val_accuracy: 0.9107\n",
            "Epoch 27/100\n",
            "195/195 [==============================] - ETA: 0s - loss: 0.1421 - accuracy: 0.9246\n",
            "Epoch 27: val_accuracy improved from 0.91570 to 0.92966, saving model to best_model.h5\n",
            "195/195 [==============================] - 4s 21ms/step - loss: 0.1421 - accuracy: 0.9246 - val_loss: 0.1940 - val_accuracy: 0.9297\n",
            "Epoch 28/100\n",
            "192/195 [============================>.] - ETA: 0s - loss: 0.1271 - accuracy: 0.9327\n",
            "Epoch 28: val_accuracy improved from 0.92966 to 0.93527, saving model to best_model.h5\n",
            "195/195 [==============================] - 4s 21ms/step - loss: 0.1270 - accuracy: 0.9329 - val_loss: 0.1757 - val_accuracy: 0.9353\n",
            "Epoch 29/100\n",
            "194/195 [============================>.] - ETA: 0s - loss: 0.1195 - accuracy: 0.9385\n",
            "Epoch 29: val_accuracy did not improve from 0.93527\n",
            "195/195 [==============================] - 4s 19ms/step - loss: 0.1195 - accuracy: 0.9385 - val_loss: 0.2129 - val_accuracy: 0.9179\n",
            "Epoch 30/100\n",
            "192/195 [============================>.] - ETA: 0s - loss: 0.1103 - accuracy: 0.9432\n",
            "Epoch 30: val_accuracy did not improve from 0.93527\n",
            "195/195 [==============================] - 4s 19ms/step - loss: 0.1104 - accuracy: 0.9433 - val_loss: 0.1881 - val_accuracy: 0.9275\n",
            "Epoch 31/100\n",
            "194/195 [============================>.] - ETA: 0s - loss: 0.0967 - accuracy: 0.9497\n",
            "Epoch 31: val_accuracy improved from 0.93527 to 0.93904, saving model to best_model.h5\n",
            "195/195 [==============================] - 4s 21ms/step - loss: 0.0965 - accuracy: 0.9498 - val_loss: 0.1742 - val_accuracy: 0.9390\n",
            "Epoch 32/100\n",
            "194/195 [============================>.] - ETA: 0s - loss: 0.0902 - accuracy: 0.9529\n",
            "Epoch 32: val_accuracy improved from 0.93904 to 0.94346, saving model to best_model.h5\n",
            "195/195 [==============================] - 4s 21ms/step - loss: 0.0901 - accuracy: 0.9531 - val_loss: 0.1610 - val_accuracy: 0.9435\n",
            "Epoch 33/100\n",
            "193/195 [============================>.] - ETA: 0s - loss: 0.0862 - accuracy: 0.9548\n",
            "Epoch 33: val_accuracy did not improve from 0.94346\n",
            "195/195 [==============================] - 4s 19ms/step - loss: 0.0861 - accuracy: 0.9548 - val_loss: 0.1755 - val_accuracy: 0.9353\n",
            "Epoch 34/100\n",
            "194/195 [============================>.] - ETA: 0s - loss: 0.0759 - accuracy: 0.9606\n",
            "Epoch 34: val_accuracy did not improve from 0.94346\n",
            "195/195 [==============================] - 4s 20ms/step - loss: 0.0760 - accuracy: 0.9605 - val_loss: 0.1629 - val_accuracy: 0.9419\n",
            "Epoch 35/100\n",
            "194/195 [============================>.] - ETA: 0s - loss: 0.0816 - accuracy: 0.9592\n",
            "Epoch 35: val_accuracy did not improve from 0.94346\n",
            "195/195 [==============================] - 4s 19ms/step - loss: 0.0815 - accuracy: 0.9592 - val_loss: 0.1765 - val_accuracy: 0.9333\n",
            "Epoch 36/100\n",
            "193/195 [============================>.] - ETA: 0s - loss: 0.0702 - accuracy: 0.9650\n",
            "Epoch 36: val_accuracy improved from 0.94346 to 0.95011, saving model to best_model.h5\n",
            "195/195 [==============================] - 5s 25ms/step - loss: 0.0704 - accuracy: 0.9650 - val_loss: 0.1470 - val_accuracy: 0.9501\n",
            "Epoch 37/100\n",
            "195/195 [==============================] - ETA: 0s - loss: 0.0650 - accuracy: 0.9680\n",
            "Epoch 37: val_accuracy did not improve from 0.95011\n",
            "195/195 [==============================] - 4s 19ms/step - loss: 0.0650 - accuracy: 0.9680 - val_loss: 0.1441 - val_accuracy: 0.9487\n",
            "Epoch 38/100\n",
            "192/195 [============================>.] - ETA: 0s - loss: 0.0581 - accuracy: 0.9706\n",
            "Epoch 38: val_accuracy improved from 0.95011 to 0.95364, saving model to best_model.h5\n",
            "195/195 [==============================] - 4s 21ms/step - loss: 0.0581 - accuracy: 0.9706 - val_loss: 0.1349 - val_accuracy: 0.9536\n",
            "Epoch 39/100\n",
            "192/195 [============================>.] - ETA: 0s - loss: 0.0533 - accuracy: 0.9721\n",
            "Epoch 39: val_accuracy improved from 0.95364 to 0.95645, saving model to best_model.h5\n",
            "195/195 [==============================] - 4s 20ms/step - loss: 0.0533 - accuracy: 0.9722 - val_loss: 0.1389 - val_accuracy: 0.9564\n",
            "Epoch 40/100\n",
            "193/195 [============================>.] - ETA: 0s - loss: 0.0475 - accuracy: 0.9756\n",
            "Epoch 40: val_accuracy improved from 0.95645 to 0.95661, saving model to best_model.h5\n",
            "195/195 [==============================] - 4s 20ms/step - loss: 0.0474 - accuracy: 0.9756 - val_loss: 0.1393 - val_accuracy: 0.9566\n",
            "Epoch 41/100\n",
            "195/195 [==============================] - ETA: 0s - loss: 0.0556 - accuracy: 0.9733\n",
            "Epoch 41: val_accuracy improved from 0.95661 to 0.95829, saving model to best_model.h5\n",
            "195/195 [==============================] - 4s 21ms/step - loss: 0.0556 - accuracy: 0.9733 - val_loss: 0.1331 - val_accuracy: 0.9583\n",
            "Epoch 42/100\n",
            "193/195 [============================>.] - ETA: 0s - loss: 0.0521 - accuracy: 0.9750\n",
            "Epoch 42: val_accuracy did not improve from 0.95829\n",
            "195/195 [==============================] - 4s 20ms/step - loss: 0.0521 - accuracy: 0.9749 - val_loss: 0.1901 - val_accuracy: 0.9353\n",
            "Epoch 43/100\n",
            "195/195 [==============================] - ETA: 0s - loss: 0.0430 - accuracy: 0.9788\n",
            "Epoch 43: val_accuracy did not improve from 0.95829\n",
            "195/195 [==============================] - 4s 19ms/step - loss: 0.0430 - accuracy: 0.9788 - val_loss: 0.1422 - val_accuracy: 0.9583\n",
            "Epoch 44/100\n",
            "192/195 [============================>.] - ETA: 0s - loss: 0.0508 - accuracy: 0.9762\n",
            "Epoch 44: val_accuracy did not improve from 0.95829\n",
            "195/195 [==============================] - 4s 20ms/step - loss: 0.0507 - accuracy: 0.9763 - val_loss: 0.1393 - val_accuracy: 0.9551\n",
            "Epoch 45/100\n",
            "195/195 [==============================] - ETA: 0s - loss: 0.0359 - accuracy: 0.9819\n",
            "Epoch 45: val_accuracy improved from 0.95829 to 0.96086, saving model to best_model.h5\n",
            "195/195 [==============================] - 5s 25ms/step - loss: 0.0359 - accuracy: 0.9819 - val_loss: 0.1315 - val_accuracy: 0.9609\n",
            "Epoch 46/100\n",
            "194/195 [============================>.] - ETA: 0s - loss: 0.0335 - accuracy: 0.9831\n",
            "Epoch 46: val_accuracy did not improve from 0.96086\n",
            "195/195 [==============================] - 4s 19ms/step - loss: 0.0335 - accuracy: 0.9831 - val_loss: 0.1319 - val_accuracy: 0.9584\n",
            "Epoch 47/100\n",
            "194/195 [============================>.] - ETA: 0s - loss: 0.0349 - accuracy: 0.9832\n",
            "Epoch 47: val_accuracy did not improve from 0.96086\n",
            "195/195 [==============================] - 4s 20ms/step - loss: 0.0349 - accuracy: 0.9832 - val_loss: 0.1469 - val_accuracy: 0.9558\n",
            "Epoch 48/100\n",
            "194/195 [============================>.] - ETA: 0s - loss: 0.0318 - accuracy: 0.9845\n",
            "Epoch 48: val_accuracy improved from 0.96086 to 0.96447, saving model to best_model.h5\n",
            "195/195 [==============================] - 4s 21ms/step - loss: 0.0318 - accuracy: 0.9844 - val_loss: 0.1198 - val_accuracy: 0.9645\n",
            "Epoch 49/100\n",
            "192/195 [============================>.] - ETA: 0s - loss: 0.0328 - accuracy: 0.9852\n",
            "Epoch 49: val_accuracy did not improve from 0.96447\n",
            "195/195 [==============================] - 4s 19ms/step - loss: 0.0326 - accuracy: 0.9852 - val_loss: 0.1244 - val_accuracy: 0.9635\n",
            "Epoch 50/100\n",
            "193/195 [============================>.] - ETA: 0s - loss: 0.0379 - accuracy: 0.9825\n",
            "Epoch 50: val_accuracy did not improve from 0.96447\n",
            "195/195 [==============================] - 4s 20ms/step - loss: 0.0378 - accuracy: 0.9826 - val_loss: 0.1232 - val_accuracy: 0.9644\n",
            "Epoch 51/100\n",
            "194/195 [============================>.] - ETA: 0s - loss: 0.0283 - accuracy: 0.9863\n",
            "Epoch 51: val_accuracy improved from 0.96447 to 0.96583, saving model to best_model.h5\n",
            "195/195 [==============================] - 4s 21ms/step - loss: 0.0283 - accuracy: 0.9863 - val_loss: 0.1281 - val_accuracy: 0.9658\n",
            "Epoch 52/100\n",
            "194/195 [============================>.] - ETA: 0s - loss: 0.0216 - accuracy: 0.9892\n",
            "Epoch 52: val_accuracy improved from 0.96583 to 0.96928, saving model to best_model.h5\n",
            "195/195 [==============================] - 4s 21ms/step - loss: 0.0216 - accuracy: 0.9893 - val_loss: 0.1200 - val_accuracy: 0.9693\n",
            "Epoch 53/100\n",
            "195/195 [==============================] - ETA: 0s - loss: 0.0271 - accuracy: 0.9869\n",
            "Epoch 53: val_accuracy did not improve from 0.96928\n",
            "195/195 [==============================] - 4s 20ms/step - loss: 0.0271 - accuracy: 0.9869 - val_loss: 0.1298 - val_accuracy: 0.9642\n",
            "Epoch 54/100\n",
            "192/195 [============================>.] - ETA: 0s - loss: 0.0259 - accuracy: 0.9877\n",
            "Epoch 54: val_accuracy did not improve from 0.96928\n",
            "195/195 [==============================] - 4s 20ms/step - loss: 0.0261 - accuracy: 0.9876 - val_loss: 0.1348 - val_accuracy: 0.9593\n",
            "Epoch 55/100\n",
            "192/195 [============================>.] - ETA: 0s - loss: 0.0236 - accuracy: 0.9889\n",
            "Epoch 55: val_accuracy did not improve from 0.96928\n",
            "195/195 [==============================] - 4s 19ms/step - loss: 0.0237 - accuracy: 0.9888 - val_loss: 0.1255 - val_accuracy: 0.9654\n",
            "Epoch 56/100\n",
            "194/195 [============================>.] - ETA: 0s - loss: 0.0251 - accuracy: 0.9887\n",
            "Epoch 56: val_accuracy did not improve from 0.96928\n",
            "195/195 [==============================] - 4s 20ms/step - loss: 0.0251 - accuracy: 0.9887 - val_loss: 0.1311 - val_accuracy: 0.9679\n",
            "Epoch 57/100\n",
            "192/195 [============================>.] - ETA: 0s - loss: 0.0234 - accuracy: 0.9897\n",
            "Epoch 57: val_accuracy did not improve from 0.96928\n",
            "195/195 [==============================] - 4s 19ms/step - loss: 0.0232 - accuracy: 0.9898 - val_loss: 0.1290 - val_accuracy: 0.9665\n",
            "Epoch 58/100\n",
            "195/195 [==============================] - ETA: 0s - loss: 0.0196 - accuracy: 0.9905\n",
            "Epoch 58: val_accuracy did not improve from 0.96928\n",
            "195/195 [==============================] - 4s 20ms/step - loss: 0.0196 - accuracy: 0.9905 - val_loss: 0.1173 - val_accuracy: 0.9673\n",
            "Epoch 59/100\n",
            "195/195 [==============================] - ETA: 0s - loss: 0.0181 - accuracy: 0.9915\n",
            "Epoch 59: val_accuracy did not improve from 0.96928\n",
            "195/195 [==============================] - 4s 20ms/step - loss: 0.0181 - accuracy: 0.9915 - val_loss: 0.1659 - val_accuracy: 0.9569\n",
            "Epoch 60/100\n",
            "192/195 [============================>.] - ETA: 0s - loss: 0.0211 - accuracy: 0.9903\n",
            "Epoch 60: val_accuracy improved from 0.96928 to 0.96960, saving model to best_model.h5\n",
            "195/195 [==============================] - 5s 25ms/step - loss: 0.0210 - accuracy: 0.9904 - val_loss: 0.1181 - val_accuracy: 0.9696\n",
            "Epoch 61/100\n",
            "193/195 [============================>.] - ETA: 0s - loss: 0.0243 - accuracy: 0.9895\n",
            "Epoch 61: val_accuracy did not improve from 0.96960\n",
            "195/195 [==============================] - 4s 20ms/step - loss: 0.0243 - accuracy: 0.9895 - val_loss: 0.1132 - val_accuracy: 0.9668\n",
            "Epoch 62/100\n",
            "194/195 [============================>.] - ETA: 0s - loss: 0.0176 - accuracy: 0.9921\n",
            "Epoch 62: val_accuracy did not improve from 0.96960\n",
            "195/195 [==============================] - 4s 20ms/step - loss: 0.0176 - accuracy: 0.9921 - val_loss: 0.1193 - val_accuracy: 0.9687\n",
            "Epoch 63/100\n",
            "194/195 [============================>.] - ETA: 0s - loss: 0.0220 - accuracy: 0.9904\n",
            "Epoch 63: val_accuracy improved from 0.96960 to 0.97032, saving model to best_model.h5\n",
            "195/195 [==============================] - 4s 21ms/step - loss: 0.0220 - accuracy: 0.9904 - val_loss: 0.1148 - val_accuracy: 0.9703\n",
            "Epoch 64/100\n",
            "194/195 [============================>.] - ETA: 0s - loss: 0.0151 - accuracy: 0.9932\n",
            "Epoch 64: val_accuracy did not improve from 0.97032\n",
            "195/195 [==============================] - 4s 20ms/step - loss: 0.0151 - accuracy: 0.9932 - val_loss: 0.1589 - val_accuracy: 0.9636\n",
            "Epoch 65/100\n",
            "195/195 [==============================] - ETA: 0s - loss: 0.0223 - accuracy: 0.9905\n",
            "Epoch 65: val_accuracy did not improve from 0.97032\n",
            "195/195 [==============================] - 4s 20ms/step - loss: 0.0223 - accuracy: 0.9905 - val_loss: 0.1245 - val_accuracy: 0.9692\n",
            "Epoch 66/100\n",
            "193/195 [============================>.] - ETA: 0s - loss: 0.0154 - accuracy: 0.9930\n",
            "Epoch 66: val_accuracy did not improve from 0.97032\n",
            "195/195 [==============================] - 4s 20ms/step - loss: 0.0155 - accuracy: 0.9929 - val_loss: 0.1653 - val_accuracy: 0.9574\n",
            "Epoch 67/100\n",
            "193/195 [============================>.] - ETA: 0s - loss: 0.0145 - accuracy: 0.9932\n",
            "Epoch 67: val_accuracy improved from 0.97032 to 0.97297, saving model to best_model.h5\n",
            "195/195 [==============================] - 5s 25ms/step - loss: 0.0145 - accuracy: 0.9932 - val_loss: 0.1165 - val_accuracy: 0.9730\n",
            "Epoch 68/100\n",
            "193/195 [============================>.] - ETA: 0s - loss: 0.0249 - accuracy: 0.9896\n",
            "Epoch 68: val_accuracy did not improve from 0.97297\n",
            "195/195 [==============================] - 4s 20ms/step - loss: 0.0251 - accuracy: 0.9896 - val_loss: 0.1408 - val_accuracy: 0.9605\n",
            "Epoch 69/100\n",
            "193/195 [============================>.] - ETA: 0s - loss: 0.0158 - accuracy: 0.9925\n",
            "Epoch 69: val_accuracy improved from 0.97297 to 0.97401, saving model to best_model.h5\n",
            "195/195 [==============================] - 4s 21ms/step - loss: 0.0157 - accuracy: 0.9925 - val_loss: 0.1115 - val_accuracy: 0.9740\n",
            "Epoch 70/100\n",
            "193/195 [============================>.] - ETA: 0s - loss: 0.0180 - accuracy: 0.9919\n",
            "Epoch 70: val_accuracy did not improve from 0.97401\n",
            "195/195 [==============================] - 4s 19ms/step - loss: 0.0180 - accuracy: 0.9919 - val_loss: 0.1144 - val_accuracy: 0.9698\n",
            "Epoch 71/100\n",
            "195/195 [==============================] - ETA: 0s - loss: 0.0092 - accuracy: 0.9953\n",
            "Epoch 71: val_accuracy did not improve from 0.97401\n",
            "195/195 [==============================] - 4s 20ms/step - loss: 0.0092 - accuracy: 0.9953 - val_loss: 0.1240 - val_accuracy: 0.9735\n",
            "Epoch 72/100\n",
            "195/195 [==============================] - ETA: 0s - loss: 0.0291 - accuracy: 0.9885\n",
            "Epoch 72: val_accuracy did not improve from 0.97401\n",
            "195/195 [==============================] - 4s 20ms/step - loss: 0.0291 - accuracy: 0.9885 - val_loss: 0.1045 - val_accuracy: 0.9727\n",
            "Epoch 73/100\n",
            "193/195 [============================>.] - ETA: 0s - loss: 0.0110 - accuracy: 0.9950\n",
            "Epoch 73: val_accuracy did not improve from 0.97401\n",
            "195/195 [==============================] - 4s 20ms/step - loss: 0.0109 - accuracy: 0.9950 - val_loss: 0.1171 - val_accuracy: 0.9726\n",
            "Epoch 74/100\n",
            "193/195 [============================>.] - ETA: 0s - loss: 0.0149 - accuracy: 0.9938\n",
            "Epoch 74: val_accuracy did not improve from 0.97401\n",
            "195/195 [==============================] - 4s 20ms/step - loss: 0.0148 - accuracy: 0.9938 - val_loss: 0.1118 - val_accuracy: 0.9710\n",
            "Epoch 75/100\n",
            "194/195 [============================>.] - ETA: 0s - loss: 0.0100 - accuracy: 0.9959\n",
            "Epoch 75: val_accuracy did not improve from 0.97401\n",
            "195/195 [==============================] - 4s 20ms/step - loss: 0.0101 - accuracy: 0.9959 - val_loss: 0.1057 - val_accuracy: 0.9726\n",
            "Epoch 76/100\n",
            "194/195 [============================>.] - ETA: 0s - loss: 0.0242 - accuracy: 0.9907\n",
            "Epoch 76: val_accuracy did not improve from 0.97401\n",
            "195/195 [==============================] - 4s 19ms/step - loss: 0.0241 - accuracy: 0.9907 - val_loss: 0.1219 - val_accuracy: 0.9676\n",
            "Epoch 77/100\n",
            "193/195 [============================>.] - ETA: 0s - loss: 0.0100 - accuracy: 0.9954\n",
            "Epoch 77: val_accuracy did not improve from 0.97401\n",
            "195/195 [==============================] - 4s 20ms/step - loss: 0.0100 - accuracy: 0.9954 - val_loss: 0.1229 - val_accuracy: 0.9711\n",
            "Epoch 78/100\n",
            "195/195 [==============================] - ETA: 0s - loss: 0.0099 - accuracy: 0.9955\n",
            "Epoch 78: val_accuracy improved from 0.97401 to 0.97506, saving model to best_model.h5\n",
            "195/195 [==============================] - 5s 25ms/step - loss: 0.0099 - accuracy: 0.9955 - val_loss: 0.1157 - val_accuracy: 0.9751\n",
            "Epoch 79/100\n",
            "194/195 [============================>.] - ETA: 0s - loss: 0.0100 - accuracy: 0.9955\n",
            "Epoch 79: val_accuracy did not improve from 0.97506\n",
            "195/195 [==============================] - 4s 20ms/step - loss: 0.0099 - accuracy: 0.9955 - val_loss: 0.1109 - val_accuracy: 0.9746\n",
            "Epoch 80/100\n",
            "195/195 [==============================] - ETA: 0s - loss: 0.0127 - accuracy: 0.9945\n",
            "Epoch 80: val_accuracy did not improve from 0.97506\n",
            "195/195 [==============================] - 4s 20ms/step - loss: 0.0127 - accuracy: 0.9945 - val_loss: 0.1153 - val_accuracy: 0.9706\n",
            "Epoch 81/100\n",
            "193/195 [============================>.] - ETA: 0s - loss: 0.0084 - accuracy: 0.9967\n",
            "Epoch 81: val_accuracy did not improve from 0.97506\n",
            "195/195 [==============================] - 4s 20ms/step - loss: 0.0085 - accuracy: 0.9967 - val_loss: 0.1325 - val_accuracy: 0.9710\n",
            "Epoch 82/100\n",
            "193/195 [============================>.] - ETA: 0s - loss: 0.0099 - accuracy: 0.9953\n",
            "Epoch 82: val_accuracy did not improve from 0.97506\n",
            "195/195 [==============================] - 4s 21ms/step - loss: 0.0099 - accuracy: 0.9953 - val_loss: 0.1203 - val_accuracy: 0.9726\n",
            "Epoch 83/100\n",
            "195/195 [==============================] - ETA: 0s - loss: 0.0111 - accuracy: 0.9950\n",
            "Epoch 83: val_accuracy did not improve from 0.97506\n",
            "195/195 [==============================] - 4s 20ms/step - loss: 0.0111 - accuracy: 0.9950 - val_loss: 0.1134 - val_accuracy: 0.9732\n",
            "Epoch 84/100\n",
            "195/195 [==============================] - ETA: 0s - loss: 0.0079 - accuracy: 0.9963\n",
            "Epoch 84: val_accuracy did not improve from 0.97506\n",
            "195/195 [==============================] - 4s 20ms/step - loss: 0.0079 - accuracy: 0.9963 - val_loss: 0.1150 - val_accuracy: 0.9726\n",
            "Epoch 85/100\n",
            "194/195 [============================>.] - ETA: 0s - loss: 0.0106 - accuracy: 0.9957\n",
            "Epoch 85: val_accuracy did not improve from 0.97506\n",
            "195/195 [==============================] - 4s 20ms/step - loss: 0.0106 - accuracy: 0.9957 - val_loss: 0.1225 - val_accuracy: 0.9720\n",
            "Epoch 86/100\n",
            "194/195 [============================>.] - ETA: 0s - loss: 0.0215 - accuracy: 0.9912\n",
            "Epoch 86: val_accuracy did not improve from 0.97506\n",
            "195/195 [==============================] - 4s 20ms/step - loss: 0.0214 - accuracy: 0.9912 - val_loss: 0.1059 - val_accuracy: 0.9735\n",
            "Epoch 87/100\n",
            "194/195 [============================>.] - ETA: 0s - loss: 0.0128 - accuracy: 0.9948\n",
            "Epoch 87: val_accuracy improved from 0.97506 to 0.97578, saving model to best_model.h5\n",
            "195/195 [==============================] - 5s 28ms/step - loss: 0.0128 - accuracy: 0.9948 - val_loss: 0.0990 - val_accuracy: 0.9758\n",
            "Epoch 88/100\n",
            "194/195 [============================>.] - ETA: 0s - loss: 0.0098 - accuracy: 0.9962\n",
            "Epoch 88: val_accuracy did not improve from 0.97578\n",
            "195/195 [==============================] - 4s 19ms/step - loss: 0.0098 - accuracy: 0.9961 - val_loss: 0.1136 - val_accuracy: 0.9747\n",
            "Epoch 89/100\n",
            "194/195 [============================>.] - ETA: 0s - loss: 0.0059 - accuracy: 0.9974\n",
            "Epoch 89: val_accuracy did not improve from 0.97578\n",
            "195/195 [==============================] - 4s 20ms/step - loss: 0.0059 - accuracy: 0.9974 - val_loss: 0.1263 - val_accuracy: 0.9734\n",
            "Epoch 90/100\n",
            "193/195 [============================>.] - ETA: 0s - loss: 0.0119 - accuracy: 0.9952\n",
            "Epoch 90: val_accuracy did not improve from 0.97578\n",
            "195/195 [==============================] - 4s 20ms/step - loss: 0.0118 - accuracy: 0.9952 - val_loss: 0.1106 - val_accuracy: 0.9757\n",
            "Epoch 91/100\n",
            "194/195 [============================>.] - ETA: 0s - loss: 0.0091 - accuracy: 0.9958\n",
            "Epoch 91: val_accuracy did not improve from 0.97578\n",
            "195/195 [==============================] - 4s 19ms/step - loss: 0.0092 - accuracy: 0.9958 - val_loss: 0.1019 - val_accuracy: 0.9726\n",
            "Epoch 92/100\n",
            "193/195 [============================>.] - ETA: 0s - loss: 0.0106 - accuracy: 0.9954\n",
            "Epoch 92: val_accuracy improved from 0.97578 to 0.97650, saving model to best_model.h5\n",
            "195/195 [==============================] - 5s 27ms/step - loss: 0.0106 - accuracy: 0.9954 - val_loss: 0.1049 - val_accuracy: 0.9765\n",
            "Epoch 93/100\n",
            "194/195 [============================>.] - ETA: 0s - loss: 0.0093 - accuracy: 0.9962\n",
            "Epoch 93: val_accuracy did not improve from 0.97650\n",
            "195/195 [==============================] - 4s 20ms/step - loss: 0.0094 - accuracy: 0.9961 - val_loss: 0.1139 - val_accuracy: 0.9739\n",
            "Epoch 94/100\n",
            "195/195 [==============================] - ETA: 0s - loss: 0.0074 - accuracy: 0.9968\n",
            "Epoch 94: val_accuracy did not improve from 0.97650\n",
            "195/195 [==============================] - 4s 20ms/step - loss: 0.0074 - accuracy: 0.9968 - val_loss: 0.1112 - val_accuracy: 0.9761\n",
            "Epoch 95/100\n",
            "193/195 [============================>.] - ETA: 0s - loss: 0.0068 - accuracy: 0.9971\n",
            "Epoch 95: val_accuracy did not improve from 0.97650\n",
            "195/195 [==============================] - 4s 20ms/step - loss: 0.0069 - accuracy: 0.9970 - val_loss: 0.1167 - val_accuracy: 0.9706\n",
            "Epoch 96/100\n",
            "195/195 [==============================] - ETA: 0s - loss: 0.0174 - accuracy: 0.9926\n",
            "Epoch 96: val_accuracy did not improve from 0.97650\n",
            "195/195 [==============================] - 4s 20ms/step - loss: 0.0174 - accuracy: 0.9926 - val_loss: 0.1105 - val_accuracy: 0.9725\n",
            "Epoch 97/100\n",
            "195/195 [==============================] - ETA: 0s - loss: 0.0123 - accuracy: 0.9952\n",
            "Epoch 97: val_accuracy did not improve from 0.97650\n",
            "195/195 [==============================] - 4s 20ms/step - loss: 0.0123 - accuracy: 0.9952 - val_loss: 0.1099 - val_accuracy: 0.9729\n",
            "Epoch 98/100\n",
            "195/195 [==============================] - ETA: 0s - loss: 0.0047 - accuracy: 0.9980\n",
            "Epoch 98: val_accuracy did not improve from 0.97650\n",
            "195/195 [==============================] - 4s 20ms/step - loss: 0.0047 - accuracy: 0.9980 - val_loss: 0.1065 - val_accuracy: 0.9765\n",
            "Epoch 99/100\n",
            "193/195 [============================>.] - ETA: 0s - loss: 0.0051 - accuracy: 0.9979\n",
            "Epoch 99: val_accuracy did not improve from 0.97650\n",
            "195/195 [==============================] - 4s 20ms/step - loss: 0.0051 - accuracy: 0.9979 - val_loss: 0.1102 - val_accuracy: 0.9759\n",
            "Epoch 100/100\n",
            "193/195 [============================>.] - ETA: 0s - loss: 0.0178 - accuracy: 0.9941\n",
            "Epoch 100: val_accuracy did not improve from 0.97650\n",
            "195/195 [==============================] - 4s 20ms/step - loss: 0.0177 - accuracy: 0.9941 - val_loss: 0.1275 - val_accuracy: 0.9690\n"
          ]
        }
      ]
    },
    {
      "cell_type": "code",
      "source": [
        "saved_model = load_model('best_model.h5')"
      ],
      "metadata": {
        "id": "G4_WKhQApzXS"
      },
      "execution_count": 64,
      "outputs": []
    },
    {
      "cell_type": "code",
      "source": [
        "_, train_f1 = saved_model.evaluate(X_train, y_train, verbose=0)\n",
        "_, test_f1 = saved_model.evaluate(X_test, y_test, verbose=0)"
      ],
      "metadata": {
        "id": "4NpU1HWjHGxN"
      },
      "execution_count": 65,
      "outputs": []
    },
    {
      "cell_type": "code",
      "source": [
        "print(test_f1)"
      ],
      "metadata": {
        "colab": {
          "base_uri": "https://localhost:8080/"
        },
        "id": "MXbhwyYQHLeD",
        "outputId": "050894fd-8aa0-40bf-e4a4-a4acbbd96dad"
      },
      "execution_count": 66,
      "outputs": [
        {
          "output_type": "stream",
          "name": "stdout",
          "text": [
            "0.9764998555183411\n"
          ]
        }
      ]
    },
    {
      "cell_type": "code",
      "source": [
        "y_pred_saved = saved_model.predict(X_test)"
      ],
      "metadata": {
        "id": "u34ba5swHPga"
      },
      "execution_count": 67,
      "outputs": []
    },
    {
      "cell_type": "code",
      "source": [
        "import matplotlib.pyplot as plt\n",
        "plt.plot(m.history['accuracy'])\n",
        "plt.plot(m.history['val_accuracy'])\n",
        "plt.title('model accuracy')\n",
        "plt.ylabel('accuracy')\n",
        "plt.xlabel('epoch')\n",
        "plt.legend(['train', 'test'], loc='best')\n",
        "plt.show()"
      ],
      "metadata": {
        "id": "FkxmcluMp21p",
        "colab": {
          "base_uri": "https://localhost:8080/",
          "height": 295
        },
        "outputId": "c9dccec7-830d-485c-f4a9-da56da9f9208"
      },
      "execution_count": 68,
      "outputs": [
        {
          "output_type": "display_data",
          "data": {
            "text/plain": [
              "<Figure size 432x288 with 1 Axes>"
            ],
            "image/png": "[encoded data removed]"
          },
          "metadata": {
            "needs_background": "light"
          }
        }
      ]
    },
    {
      "cell_type": "code",
      "source": [
        "y_test1=np.argmax(y_test, axis=1)\n",
        "y_pred_saved=np.argmax(y_pred_saved,axis=1)"
      ],
      "metadata": {
        "id": "-Wm8LyUrISCo"
      },
      "execution_count": 69,
      "outputs": []
    },
    {
      "cell_type": "code",
      "source": [
        "f_score = f1_score(y_test1,y_pred_saved, average = 'weighted')"
      ],
      "metadata": {
        "id": "G7wsSexRIVbT"
      },
      "execution_count": 70,
      "outputs": []
    },
    {
      "cell_type": "code",
      "source": [
        "print(f_score)"
      ],
      "metadata": {
        "colab": {
          "base_uri": "https://localhost:8080/"
        },
        "id": "OP6-6EYFIhwq",
        "outputId": "8a78fe35-fa22-4b30-e078-1fa32cd3bc62"
      },
      "execution_count": 71,
      "outputs": [
        {
          "output_type": "stream",
          "name": "stdout",
          "text": [
            "0.9764398769153928\n"
          ]
        }
      ]
    },
    {
      "cell_type": "code",
      "source": [
        "cf_matrix=confusion_matrix(y_test1, y_pred_saved)"
      ],
      "metadata": {
        "id": "mR61ArAPIoAY"
      },
      "execution_count": 72,
      "outputs": []
    },
    {
      "cell_type": "code",
      "source": [
        "import matplotlib.font_manager as fm\n",
        "import matplotlib.pyplot as plt\n",
        "import numpy as np\n",
        "import seaborn as sn\n",
        "from matplotlib.collections import QuadMesh\n",
        "\n",
        "\n",
        "def get_new_fig(fn, figsize=[8, 8]):\n",
        "    \"\"\"Init graphics\"\"\"\n",
        "    fig1 = plt.figure(fn, figsize)\n",
        "    ax1 = fig1.gca()  # Get Current Axis\n",
        "    ax1.cla()  # clear existing plot\n",
        "    return fig1, ax1\n",
        "\n",
        "\n",
        "def configcell_text_and_colors(\n",
        "    array_df, lin, col, oText, facecolors, posi, fz, fmt, show_null_values=0\n",
        "):\n",
        "    \"\"\"\n",
        "    config cell text and colors\n",
        "    and return text elements to add and to dell\n",
        "    @TODO: use fmt\n",
        "    \"\"\"\n",
        "    text_add = []\n",
        "    text_del = []\n",
        "    cell_val = array_df[lin][col]\n",
        "    tot_all = array_df[-1][-1]\n",
        "    per = (float(cell_val) / tot_all) * 100\n",
        "    curr_column = array_df[:, col]\n",
        "    ccl = len(curr_column)\n",
        "    \n",
        "    # last line  and/or last column\n",
        "    if (col == (ccl - 1)) or (lin == (ccl - 1)):\n",
        "        # tots and percents\n",
        "        if cell_val != 0:\n",
        "            if (col == ccl - 1) and (lin == ccl - 1):\n",
        "                tot_rig = 0\n",
        "                for i in range(array_df.shape[0] - 1):\n",
        "                    tot_rig += array_df[i][i]\n",
        "                per_ok = (float(tot_rig) / cell_val) * 100\n",
        "            elif col == ccl - 1:\n",
        "                tot_rig = array_df[lin][lin]\n",
        "                per_ok = (float(tot_rig) / cell_val) * 100\n",
        "            \n",
        "            elif lin == ccl - 1:\n",
        "                tot_rig = array_df[col][col]\n",
        "                per_ok = (float(tot_rig) / cell_val) * 100\n",
        "            #per_err = 100 - per_ok\n",
        "            \n",
        "        else:\n",
        "            per_ok = 0\n",
        "            #per_ok = per_err = 0\n",
        "            \n",
        "\n",
        "        per_ok_s = [\"%.2f%%\" % (per_ok), \"100%\"][per_ok == 100]\n",
        "\n",
        "        # text to DEL\n",
        "        text_del.append(oText)\n",
        "\n",
        "        # text to ADD\n",
        "        font_prop = fm.FontProperties(weight=\"bold\", size=22)\n",
        "        text_kwargs = dict(\n",
        "            color=\"w\",\n",
        "            ha=\"center\",\n",
        "            va=\"center\",\n",
        "            gid=\"sum\",\n",
        "            fontproperties=font_prop,\n",
        "        )\n",
        "        #lis_txt = [\"%d\" % (cell_val), per_ok_s, \"%.2f%%\" % (per_err)]\n",
        "        lis_txt = [\"%d\" % (cell_val), per_ok_s]\n",
        "        lis_kwa = [text_kwargs]\n",
        "        dic = text_kwargs.copy()\n",
        "        dic[\"color\"] = \"w\"\n",
        "        lis_kwa.append(dic)\n",
        "        dic = text_kwargs.copy()\n",
        "        dic[\"color\"] = \"w\"\n",
        "        lis_kwa.append(dic)\n",
        "        '''\n",
        "        lis_pos = [\n",
        "            (oText._x, oText._y - 0.3),\n",
        "            (oText._x, oText._y),\n",
        "            (oText._x, oText._y + 0.3),\n",
        "        ]\n",
        "        '''\n",
        "        lis_pos = [\n",
        "            (oText._x, oText._y - 0.1),\n",
        "            (oText._x, oText._y + 0.1),\n",
        "        ]\n",
        "        for i in range(len(lis_txt)):\n",
        "            newText = dict(\n",
        "                x=lis_pos[i][0],\n",
        "                y=lis_pos[i][1],\n",
        "                text=lis_txt[i],\n",
        "                kw=lis_kwa[i],\n",
        "            )\n",
        "            text_add.append(newText)\n",
        "\n",
        "        # set background color for sum cells (last line and last column)\n",
        "        carr = [0.27, 0.30, 0.27, 1.0]\n",
        "        if (col == ccl - 1) and (lin == ccl - 1):\n",
        "            carr = [0.17, 0.20, 0.17, 1.0]\n",
        "        facecolors[posi] = carr\n",
        "\n",
        "    else:\n",
        "        if per > 0:\n",
        "            txt = \"%s\\n%.2f%%\" % (cell_val, per)\n",
        "        else:\n",
        "            if show_null_values == 0:\n",
        "                txt = \"0\\n0.0%\"\n",
        "            elif show_null_values == 1:\n",
        "                txt = \"0\"\n",
        "            else:\n",
        "                txt = \"0\\n0.0%\"\n",
        "        oText.set_text(txt)\n",
        "\n",
        "        # main diagonal\n",
        "        if col == lin:\n",
        "            # set color of the textin the diagonal to white\n",
        "            oText.set_color(\"w\")\n",
        "            # set background color in the diagonal to blue\n",
        "            facecolors[posi] = [0.35, 0.8, 0.55, 1.0]\n",
        "        else:\n",
        "            oText.set_color(\"r\")\n",
        "\n",
        "    return text_add, text_del\n",
        "\n",
        "\n",
        "def insert_totals(df_cm):\n",
        "    \"\"\"insert total column and line (the last ones)\"\"\"\n",
        "    sum_col = []\n",
        "    for c in df_cm.columns:\n",
        "        sum_col.append(df_cm[c].sum())\n",
        "    sum_lin = []\n",
        "    for item_line in df_cm.iterrows():\n",
        "        sum_lin.append(item_line[1].sum())\n",
        "    df_cm[\"sum_lin\"] = sum_lin\n",
        "    sum_col.append(np.sum(sum_lin))\n",
        "    df_cm.loc[\"sum_col\"] = sum_col\n",
        "\n",
        "\n",
        "def pp_matrix_tej(\n",
        "    df_cm,\n",
        "    annot=True,\n",
        "    cmap=\"Oranges\",\n",
        "    fmt=\".2f\",\n",
        "    fz=22,\n",
        "    lw=0.5,\n",
        "    cbar=False,\n",
        "    figsize=[12, 12],\n",
        "    show_null_values=0,\n",
        "    pred_val_axis=\"y\",\n",
        "):\n",
        "    \"\"\"\n",
        "    print conf matrix with default layout (like matlab)\n",
        "    params:\n",
        "      df_cm          dataframe (pandas) without totals\n",
        "      annot          print text in each cell\n",
        "      cmap           Oranges,Oranges_r,YlGnBu,Blues,RdBu, ... see:\n",
        "      fz             fontsize\n",
        "      lw             linewidth\n",
        "      pred_val_axis  where to show the prediction values (x or y axis)\n",
        "                      'col' or 'x': show predicted values in columns (x axis) instead lines\n",
        "                      'lin' or 'y': show predicted values in lines   (y axis)\n",
        "    \"\"\"\n",
        "    if pred_val_axis in (\"col\", \"x\"):\n",
        "        xlbl = \"Predicted\"\n",
        "        ylbl = \"Actual\"\n",
        "    else:\n",
        "        xlbl = \"Actual\"\n",
        "        ylbl = \"Predicted\"\n",
        "        df_cm = df_cm.T\n",
        "\n",
        "    # create \"Total\" column\n",
        "    insert_totals(df_cm)\n",
        "\n",
        "    # this is for print allways in the same window\n",
        "    fig, ax1 = get_new_fig(\"Conf matrix default\", figsize)\n",
        "\n",
        "    ax = sn.heatmap(\n",
        "        df_cm,\n",
        "        annot=annot,\n",
        "        annot_kws={\"size\": 22, \"weight\": \"bold\"},\n",
        "        linewidths=lw,\n",
        "        ax=ax1,\n",
        "        cbar=cbar,\n",
        "        cmap=cmap,\n",
        "        linecolor=\"w\",\n",
        "        fmt=fmt,\n",
        "    )\n",
        "\n",
        "    # set ticklabels rotation\n",
        "    ax.set_xticklabels(ax.get_xticklabels(), rotation=0, fontsize=22, fontweight = \"bold\")\n",
        "    ax.set_yticklabels(ax.get_yticklabels(), rotation=90, fontsize=22, fontweight = \"bold\")\n",
        "\n",
        "    # Turn off all the ticks\n",
        "    for t in ax.xaxis.get_major_ticks():\n",
        "        t.tick1On = False\n",
        "        t.tick2On = False\n",
        "    for t in ax.yaxis.get_major_ticks():\n",
        "        t.tick1On = False\n",
        "        t.tick2On = False\n",
        "\n",
        "    # face colors list\n",
        "    quadmesh = ax.findobj(QuadMesh)[0]\n",
        "    facecolors = quadmesh.get_facecolors()\n",
        "\n",
        "    # iter in text elements\n",
        "    array_df = np.array(df_cm.to_records(index=False).tolist())\n",
        "    text_add = []\n",
        "    text_del = []\n",
        "    posi = -1  # from left to right, bottom to top.\n",
        "    for t in ax.collections[0].axes.texts:  # ax.texts:\n",
        "        pos = np.array(t.get_position()) - [0.5, 0.5]\n",
        "        lin = int(pos[1])\n",
        "        col = int(pos[0])\n",
        "        posi += 1\n",
        "        #print(t)\n",
        "        #print(pos)\n",
        "        # set text\n",
        "        txt_res = configcell_text_and_colors(\n",
        "            array_df, lin, col, t, facecolors, posi, fz, fmt, show_null_values\n",
        "        )\n",
        "        #print(txt_res)\n",
        "        text_add.extend(txt_res[0])\n",
        "        text_del.extend(txt_res[1])\n",
        "\n",
        "    # remove the old ones\n",
        "    for item in text_del:\n",
        "        item.remove()\n",
        "    # append the new ones\n",
        "    for item in text_add:\n",
        "        ax.text(item[\"x\"], item[\"y\"], item[\"text\"], **item[\"kw\"])\n",
        "\n",
        "    # titles and legends\n",
        "    ax.set_title(\"Confusion matrix\", fontsize=22, fontweight = \"bold\")\n",
        "    ax.set_xlabel(xlbl, fontsize=22, labelpad=1, fontweight = \"bold\")\n",
        "    ax.set_ylabel(ylbl, fontsize=22, labelpad=1, fontweight = \"bold\")\n",
        "    #plt.tight_layout()  # set layout slim\n",
        "    plt.savefig('dens_confusion_3val_ne.pdf', dpi=300)\n",
        "    plt.show()\n",
        "\n",
        "\n",
        "def pp_matrix_from_data(\n",
        "    y_test,\n",
        "    predictions,\n",
        "    columns=None,\n",
        "    annot=True,\n",
        "    cmap=\"Oranges\",\n",
        "    fmt=\".2f\",\n",
        "    fz=22,\n",
        "    lw=0.5,\n",
        "    cbar=False,\n",
        "    figsize=[8, 8],\n",
        "    show_null_values=0,\n",
        "    pred_val_axis=\"lin\",\n",
        "):\n",
        "    \"\"\"\n",
        "    plot confusion matrix function with y_test (actual values) and predictions (predic),\n",
        "    whitout a confusion matrix yet\n",
        "    \"\"\"\n",
        "    from pandas import DataFrame\n",
        "    from sklearn.metrics import confusion_matrix\n",
        "\n",
        "    # data\n",
        "    if not columns:\n",
        "        from string import ascii_uppercase\n",
        "\n",
        "        columns = [\n",
        "            \"class %s\" % (i)\n",
        "            for i in list(ascii_uppercase)[0 : len(np.unique(y_test))]\n",
        "        ]\n",
        "\n",
        "    confm = confusion_matrix(y_test, predictions)\n",
        "    fz = 22\n",
        "    figsize = [8, 8]\n",
        "    show_null_values = 2\n",
        "    df_cm = DataFrame(confm, index=columns, columns=columns)\n",
        "    pp_matrix_tej(\n",
        "        df_cm,\n",
        "        fz=fz,\n",
        "        cmap=cmap,\n",
        "        figsize=figsize,\n",
        "        show_null_values=show_null_values,\n",
        "        pred_val_axis=pred_val_axis,\n",
        "    )"
      ],
      "metadata": {
        "id": "ixs770HDL5e-"
      },
      "execution_count": 73,
      "outputs": []
    },
    {
      "cell_type": "code",
      "source": [
        "df_cm = pd.DataFrame(cf_matrix, index=range(0, 3), columns=range(0, 3))"
      ],
      "metadata": {
        "id": "feSrBxi8MFfD"
      },
      "execution_count": 74,
      "outputs": []
    },
    {
      "cell_type": "code",
      "source": [
        "pp_matrix_tej(df_cm,cmap = 'Greens',annot=True, lw=0.5, show_null_values=0)"
      ],
      "metadata": {
        "colab": {
          "base_uri": "https://localhost:8080/",
          "height": 754
        },
        "id": "B9WGaVP5MZar",
        "outputId": "1f20c8cd-0115-449f-a038-ed0afd99a36b"
      },
      "execution_count": 75,
      "outputs": [
        {
          "output_type": "display_data",
          "data": {
            "text/plain": [
              "<Figure size 864x864 with 1 Axes>"
            ],
            "image/png": "[encoded data removed]"
          },
          "metadata": {
            "needs_background": "light"
          }
        }
      ]
    },
    {
      "cell_type": "code",
      "source": [
        "from sklearn import metrics\n",
        "print(metrics.classification_report(y_test1,y_pred_saved))"
      ],
      "metadata": {
        "colab": {
          "base_uri": "https://localhost:8080/"
        },
        "id": "npOH3ZVcIyjs",
        "outputId": "3fce3042-92a0-4f08-cf8c-c27f13abe7c8"
      },
      "execution_count": 76,
      "outputs": [
        {
          "output_type": "stream",
          "name": "stdout",
          "text": [
            "              precision    recall  f1-score   support\n",
            "\n",
            "           0       0.98      0.99      0.98      8089\n",
            "           1       0.97      0.97      0.97      1071\n",
            "           2       0.97      0.95      0.96      3308\n",
            "\n",
            "    accuracy                           0.98     12468\n",
            "   macro avg       0.97      0.97      0.97     12468\n",
            "weighted avg       0.98      0.98      0.98     12468\n",
            "\n"
          ]
        }
      ]
    },
    {
      "cell_type": "code",
      "source": [
        "plt.plot(m.history['loss'])\n",
        "plt.plot(m.history['val_loss'])\n",
        "plt.title('model loss')\n",
        "plt.ylabel('loss')\n",
        "plt.xlabel('epoch')\n",
        "plt.legend(['train', 'test'], loc='best')\n",
        "plt.show()"
      ],
      "metadata": {
        "colab": {
          "base_uri": "https://localhost:8080/",
          "height": 295
        },
        "id": "vk-TIPxhp64q",
        "outputId": "92770687-8791-4d7b-8d05-4c994d972487"
      },
      "execution_count": 77,
      "outputs": [
        {
          "output_type": "display_data",
          "data": {
            "text/plain": [
              "<Figure size 432x288 with 1 Axes>"
            ],
            "image/png": "[encoded data removed]"
          },
          "metadata": {
            "needs_background": "light"
          }
        }
      ]
    }
  ]
}