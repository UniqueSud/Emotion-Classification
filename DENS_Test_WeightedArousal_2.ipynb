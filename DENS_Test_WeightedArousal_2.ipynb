{
  "nbformat": 4,
  "nbformat_minor": 0,
  "metadata": {
    "colab": {
      "name": "DENS_Test.ipynb",
      "provenance": [],
      "machine_shape": "hm"
    },
    "kernelspec": {
      "name": "python3",
      "display_name": "Python 3"
    },
    "language_info": {
      "name": "python"
    },
    "accelerator": "GPU"
  },
  "cells": [
    {
      "cell_type": "code",
      "execution_count": 2,
      "metadata": {
        "id": "ls_Bi6wPXVkJ"
      },
      "outputs": [],
      "source": [
        "import scipy.io as sio\n",
        "import os\n",
        "import numpy as np\n",
        "import pandas as pd\n",
        "from scipy.signal import spectrogram\n",
        "\n",
        "from sklearn.model_selection import train_test_split\n",
        "from scipy import signal\n",
        "#mat = scipy.io.loadmat('file.mat')"
      ]
    },
    {
      "cell_type": "code",
      "source": [
        "from google.colab import drive\n",
        "drive.mount('/content/drive/')"
      ],
      "metadata": {
        "colab": {
          "base_uri": "https://localhost:8080/"
        },
        "id": "Ztroxfpr6GF8",
        "outputId": "d9018f70-df5d-4584-aff2-6e56144e81ad"
      },
      "execution_count": 3,
      "outputs": [
        {
          "output_type": "stream",
          "name": "stdout",
          "text": [
            "Mounted at /content/drive/\n"
          ]
        }
      ]
    },
    {
      "cell_type": "code",
      "source": [
        "os.getcwd()\n",
        "os.chdir('/content/drive/My Drive')"
      ],
      "metadata": {
        "id": "5oV0snlG6TW6"
      },
      "execution_count": 4,
      "outputs": []
    },
    {
      "cell_type": "code",
      "source": [
        "#mat = sio.loadmat('/content/drive/My Drive/MTech_Thesis/DENS/Baseling/Baseline_mit123.mat')"
      ],
      "metadata": {
        "id": "SAxGwSvy8N98"
      },
      "execution_count": 7,
      "outputs": []
    },
    {
      "cell_type": "code",
      "source": [
        "#mat"
      ],
      "metadata": {
        "id": "9jLbi4IRZmaj"
      },
      "execution_count": 8,
      "outputs": []
    },
    {
      "cell_type": "code",
      "source": [
        "#data = mat.get('eegData')"
      ],
      "metadata": {
        "id": "BdBFc8Oa9HEH"
      },
      "execution_count": 9,
      "outputs": []
    },
    {
      "cell_type": "code",
      "source": [
        "#data"
      ],
      "metadata": {
        "id": "USFiP4ntZqLS"
      },
      "execution_count": 10,
      "outputs": []
    },
    {
      "cell_type": "code",
      "source": [
        "#data = np.array(data)"
      ],
      "metadata": {
        "id": "rf4DXtshTvzz"
      },
      "execution_count": 11,
      "outputs": []
    },
    {
      "cell_type": "code",
      "source": [
        "#data.shape"
      ],
      "metadata": {
        "id": "rqItr0KaT5Vh"
      },
      "execution_count": 12,
      "outputs": []
    },
    {
      "cell_type": "code",
      "source": [
        "_,_, files = next(os.walk('/content/drive/My Drive/MTech_Thesis/DENS/Emotional'))\n",
        "files_count = len(files)"
      ],
      "metadata": {
        "id": "cdjrHzBctRis"
      },
      "execution_count": 5,
      "outputs": []
    },
    {
      "cell_type": "code",
      "source": [
        "files"
      ],
      "metadata": {
        "colab": {
          "base_uri": "https://localhost:8080/"
        },
        "id": "b7Wa1iRjINkB",
        "outputId": "fb683f37-0400-405d-d4f0-71c097a68b8f"
      },
      "execution_count": 6,
      "outputs": [
        {
          "output_type": "execute_result",
          "data": {
            "text/plain": [
              "['Joyous_mit003Trial-2Click-1.mat',\n",
              " 'Afraid_mit003Trial-6Click-2.mat',\n",
              " 'Angry_mit003Trial-7Click-4.mat',\n",
              " 'Hate_mit003Trial-7Click-3.mat',\n",
              " 'Hate_mit003Trial-10Click-6.mat',\n",
              " 'Alarmed_mit003Trial-9Click-5.mat',\n",
              " 'Sad_mit003Trial-11Click-7.mat',\n",
              " 'Amused_mit004Trial-3Click-1.mat',\n",
              " 'Adventorous_mit004Trial-4Click-3.mat',\n",
              " 'Excited_mit004Trial-4Click-2.mat',\n",
              " 'Disgust_mit004Trial-5Click-4.mat',\n",
              " 'Disgust_mit004Trial-5Click-5.mat',\n",
              " 'Happy_mit004Trial-8Click-6.mat',\n",
              " 'Happy_mit004Trial-8Click-7.mat',\n",
              " 'Taken Aback_mit004Trial-11Click-9.mat',\n",
              " 'Distress_mit007Trial-3Click-2.mat',\n",
              " 'Miserable_mit007Trial-2Click-1.mat',\n",
              " 'Despondent_mit007Trial-4Click-4.mat',\n",
              " 'Miserable_mit007Trial-4Click-3.mat',\n",
              " 'Happy_mit007Trial-7Click-6.mat',\n",
              " 'Hate_mit007Trial-5Click-5.mat',\n",
              " 'Joyous_mit007Trial-7Click-7.mat',\n",
              " 'Calm_mit014Trial-1Click-1.mat',\n",
              " 'Pensive_mit014Trial-1Click-3.mat',\n",
              " 'Pensive_mit014Trial-1Click-2.mat',\n",
              " 'Amused_mit014Trial-2Click-4.mat',\n",
              " 'Excited_mit014Trial-2Click-5.mat',\n",
              " 'Amused_mit014Trial-3Click-7.mat',\n",
              " 'Distress_mit014Trial-2Click-6.mat',\n",
              " 'Disgust_mit014Trial-4Click-9.mat',\n",
              " 'Tense_mit014Trial-4Click-8.mat',\n",
              " 'Hate_mit014Trial-6Click-11.mat',\n",
              " 'Startled_mit014Trial-4Click-10.mat',\n",
              " 'Hate_mit014Trial-6Click-12.mat',\n",
              " 'Hate_mit014Trial-6Click-13.mat',\n",
              " 'Sad_mit014Trial-7Click-15.mat',\n",
              " 'Angry_mit014Trial-6Click-14.mat',\n",
              " 'Melancholic_mit014Trial-7Click-16.mat',\n",
              " 'Disgust_mit014Trial-8Click-17.mat',\n",
              " 'Distress_mit014Trial-9Click-18.mat',\n",
              " 'Distress_mit014Trial-9Click-19.mat',\n",
              " 'Calm_mit017Trial-1Click-1.mat',\n",
              " 'Startled_mit017Trial-2Click-2.mat',\n",
              " 'Miserable_mit017Trial-3Click-4.mat',\n",
              " 'Disgust_mit017Trial-3Click-5.mat',\n",
              " 'Calm_mit017Trial-3Click-3.mat',\n",
              " 'Taken Aback_mit017Trial-4Click-6.mat',\n",
              " 'Frustrated_mit017Trial-4Click-7.mat',\n",
              " 'Dissatisfied_mit017Trial-10Click-9.mat',\n",
              " 'Alarmed_mit017Trial-7Click-8.mat',\n",
              " 'Alarmed_mit017Trial-10Click-10.mat',\n",
              " 'Excited_mit022Trial-1Click-1.mat',\n",
              " 'Sad_mit022Trial-2Click-2.mat',\n",
              " 'Tense_mit022Trial-2Click-3.mat',\n",
              " 'Frustrated_mit022Trial-2Click-4.mat',\n",
              " 'Joyous_mit022Trial-3Click-5.mat',\n",
              " 'Happy_mit022Trial-3Click-6.mat',\n",
              " 'Happy_mit022Trial-3Click-7.mat',\n",
              " 'Happy_mit022Trial-3Click-8.mat',\n",
              " 'Afraid_mit022Trial-4Click-9.mat',\n",
              " 'Afraid_mit022Trial-6Click-12.mat',\n",
              " 'Hate_mit022Trial-4Click-11.mat',\n",
              " 'Hate_mit022Trial-4Click-10.mat',\n",
              " 'Afraid_mit022Trial-6Click-13.mat',\n",
              " 'Frustrated_mit022Trial-6Click-14.mat',\n",
              " 'Adventorous_mit022Trial-7Click-15.mat',\n",
              " 'Adventorous_mit022Trial-7Click-16.mat',\n",
              " 'Disgust_mit022Trial-8Click-17.mat',\n",
              " 'Tense_mit022Trial-9Click-20.mat',\n",
              " 'Tense_mit022Trial-8Click-18.mat',\n",
              " 'Disgust_mit022Trial-9Click-22.mat',\n",
              " 'Angry_mit022Trial-9Click-21.mat',\n",
              " 'Hate_mit022Trial-9Click-23.mat',\n",
              " 'Passionate_mit022Trial-10Click-24.mat',\n",
              " 'Alarmed_mit022Trial-11Click-26.mat',\n",
              " 'Alarmed_mit022Trial-11Click-25.mat',\n",
              " 'Disgust_mit022Trial-11Click-27.mat',\n",
              " 'Relaxed_mit023Trial-2Click-1.mat',\n",
              " 'Angry_mit023Trial-4Click-3.mat',\n",
              " 'Amused_mit023Trial-2Click-2.mat',\n",
              " 'Disgust_mit023Trial-5Click-5.mat',\n",
              " 'Disgust_mit023Trial-5Click-4.mat',\n",
              " 'Afraid_mit023Trial-8Click-8.mat',\n",
              " 'Frustrated_mit023Trial-6Click-7.mat',\n",
              " 'Afraid_mit023Trial-6Click-6.mat',\n",
              " 'Triumphant_mit023Trial-10Click-9.mat',\n",
              " 'Afraid_mit023Trial-11Click-10.mat',\n",
              " 'Sad_mit024Trial-7Click-1.mat',\n",
              " 'Sad_mit024Trial-7Click-2.mat',\n",
              " 'Adventorous_mit024Trial-9Click-4.mat',\n",
              " 'Happy_mit024Trial-9Click-3.mat',\n",
              " 'Despondent_mit024Trial-10Click-6.mat',\n",
              " 'Adventorous_mit024Trial-9Click-5.mat',\n",
              " 'Melancholic_mit024Trial-10Click-8.mat',\n",
              " 'Despondent_mit024Trial-10Click-7.mat',\n",
              " 'Angry_mit032Trial-3Click-1.mat',\n",
              " 'Angry_mit032Trial-3Click-2.mat',\n",
              " 'Startled_mit032Trial-5Click-3.mat',\n",
              " 'Hate_mit032Trial-5Click-4.mat',\n",
              " 'Sad_mit032Trial-7Click-5.mat',\n",
              " 'Sad_mit032Trial-7Click-6.mat',\n",
              " 'Sad_mit032Trial-8Click-7.mat',\n",
              " 'Aroused_mit032Trial-10Click-9.mat',\n",
              " 'Sad_mit032Trial-8Click-8.mat',\n",
              " 'Afraid_mit032Trial-11Click-10.mat',\n",
              " 'Disgust_mit035Trial-2Click-3.mat',\n",
              " 'Angry_mit035Trial-2Click-2.mat',\n",
              " 'Disgust_mit035Trial-2Click-4.mat',\n",
              " 'Disgust_mit035Trial-2Click-5.mat',\n",
              " 'Miserable_mit035Trial-3Click-6.mat',\n",
              " 'Despondent_mit035Trial-4Click-8.mat',\n",
              " 'Miserable_mit035Trial-3Click-7.mat',\n",
              " 'Miserable_mit035Trial-6Click-10.mat',\n",
              " 'Angry_mit035Trial-6Click-9.mat',\n",
              " 'Sad_mit035Trial-6Click-11.mat',\n",
              " 'Angry_mit035Trial-6Click-12.mat',\n",
              " 'Alarmed_mit035Trial-10Click-15.mat',\n",
              " 'Afraid_mit035Trial-7Click-13.mat',\n",
              " 'Adventorous_mit035Trial-11Click-17.mat',\n",
              " 'Startled_mit035Trial-10Click-16.mat',\n",
              " 'Excited_mit035Trial-11Click-18.mat',\n",
              " 'Adventorous_mit035Trial-11Click-19.mat',\n",
              " 'Angry_mit039Trial-3Click-3.mat',\n",
              " 'Disgust_mit039Trial-2Click-2.mat',\n",
              " 'Disgust_mit039Trial-2Click-1.mat',\n",
              " 'Disgust_mit039Trial-8Click-6.mat',\n",
              " 'Disgust_mit039Trial-7Click-5.mat',\n",
              " 'Afraid_mit039Trial-5Click-4.mat',\n",
              " 'Excited_mit040Trial-4Click-2.mat',\n",
              " 'Delighted_mit040Trial-4Click-3.mat',\n",
              " 'Joyous_mit040Trial-4Click-1.mat',\n",
              " 'Despondent_mit040Trial-11Click-5.mat',\n",
              " 'Sad_mit040Trial-9Click-4.mat',\n",
              " 'Happy_mit051Trial-2Click-1.mat',\n",
              " 'Despondent_mit051Trial-3Click-5.mat',\n",
              " 'Taken Aback_mit051Trial-3Click-4.mat',\n",
              " 'Alarmed_mit051Trial-4Click-7.mat',\n",
              " 'Miserable_mit051Trial-3Click-6.mat',\n",
              " 'Afraid_mit051Trial-4Click-8.mat',\n",
              " 'Sad_mit051Trial-5Click-11.mat',\n",
              " 'Sad_mit051Trial-5Click-12.mat',\n",
              " 'Angry_mit051Trial-6Click-13.mat',\n",
              " 'Angry_mit051Trial-6Click-14.mat',\n",
              " 'Excited_mit051Trial-9Click-16.mat',\n",
              " 'Delighted_mit051Trial-9Click-17.mat',\n",
              " 'Alarmed_mit051Trial-10Click-19.mat',\n",
              " 'Excited_mit052Trial-3Click-1.mat',\n",
              " 'Excited_mit052Trial-3Click-2.mat',\n",
              " 'Excited_mit052Trial-3Click-3.mat',\n",
              " 'Joyous_mit052Trial-4Click-4.mat',\n",
              " 'Amused_mit052Trial-4Click-5.mat',\n",
              " 'Amused_mit052Trial-4Click-7.mat',\n",
              " 'Amused_mit052Trial-4Click-6.mat',\n",
              " 'Angry_mit052Trial-5Click-9.mat',\n",
              " 'Angry_mit052Trial-5Click-10.mat',\n",
              " 'Startled_mit052Trial-5Click-8.mat',\n",
              " 'Angry_mit052Trial-5Click-12.mat',\n",
              " 'Startled_mit052Trial-5Click-11.mat',\n",
              " 'Dissatisfied_mit052Trial-6Click-15.mat',\n",
              " 'Sad_mit052Trial-6Click-14.mat',\n",
              " 'Sad_mit052Trial-6Click-13.mat',\n",
              " 'Angry_mit052Trial-7Click-17.mat',\n",
              " 'Depressed_mit052Trial-6Click-16.mat',\n",
              " 'Tense_mit052Trial-7Click-18.mat',\n",
              " 'Dissatisfied_mit052Trial-8Click-19.mat',\n",
              " 'Dissatisfied_mit052Trial-8Click-20.mat',\n",
              " 'Startled_mit052Trial-8Click-21.mat',\n",
              " 'Alarmed_mit052Trial-10Click-22.mat',\n",
              " 'Sad_mit052Trial-10Click-24.mat',\n",
              " 'Disgust_mit052Trial-10Click-23.mat',\n",
              " 'Angry_mit052Trial-10Click-25.mat',\n",
              " 'Lust_mit052Trial-11Click-28.mat',\n",
              " 'Lust_mit052Trial-11Click-27.mat',\n",
              " 'Aroused_mit052Trial-11Click-26.mat',\n",
              " 'Hate_mit054Trial-6Click-3.mat',\n",
              " 'Afraid_mit054Trial-4Click-1.mat',\n",
              " 'Afraid_mit054Trial-6Click-4.mat',\n",
              " 'Afraid_mit054Trial-9Click-6.mat',\n",
              " 'Afraid_mit054Trial-7Click-5.mat',\n",
              " 'Frustrated_mit054Trial-10Click-7.mat',\n",
              " 'Happy_mit061Trial-3Click-2.mat',\n",
              " 'Adventorous_mit061Trial-3Click-3.mat',\n",
              " 'Happy_mit061Trial-4Click-5.mat',\n",
              " 'Aroused_mit061Trial-4Click-4.mat',\n",
              " 'Aroused_mit061Trial-4Click-6.mat',\n",
              " 'Afraid_mit061Trial-5Click-7.mat',\n",
              " 'Joyous_mit061Trial-8Click-8.mat',\n",
              " 'Sad_mit061Trial-10Click-9.mat',\n",
              " 'Excited_mit061Trial-11Click-10.mat',\n",
              " 'Angry_mit067Trial-1Click-1.mat',\n",
              " 'Distress_mit067Trial-4Click-3.mat',\n",
              " 'Distress_mit067Trial-4Click-2.mat',\n",
              " 'Joyous_mit067Trial-8Click-5.mat',\n",
              " 'Angry_mit067Trial-9Click-6.mat',\n",
              " 'Angry_mit067Trial-6Click-4.mat',\n",
              " 'Hate_mit067Trial-10Click-7.mat',\n",
              " 'Adventorous_mit072Trial-1Click-1.mat',\n",
              " 'Alarmed_mit072Trial-1Click-2.mat',\n",
              " 'Happy_mit072Trial-2Click-4.mat',\n",
              " 'Adventorous_mit072Trial-1Click-3.mat',\n",
              " 'Joyous_mit072Trial-2Click-5.mat',\n",
              " 'Amused_mit072Trial-2Click-6.mat',\n",
              " 'Startled_mit072Trial-3Click-9.mat',\n",
              " 'Disgust_mit072Trial-3Click-8.mat',\n",
              " 'Joyous_mit072Trial-2Click-7.mat',\n",
              " 'Afraid_mit072Trial-3Click-11.mat',\n",
              " 'Angry_mit072Trial-3Click-10.mat',\n",
              " 'Alarmed_mit072Trial-3Click-12.mat',\n",
              " 'Despondent_mit072Trial-4Click-14.mat',\n",
              " 'Sad_mit072Trial-4Click-13.mat',\n",
              " 'Sad_mit072Trial-4Click-15.mat',\n",
              " 'Miserable_mit072Trial-4Click-16.mat',\n",
              " 'Alarmed_mit072Trial-5Click-17.mat',\n",
              " 'Afraid_mit072Trial-5Click-18.mat',\n",
              " 'Happy_mit072Trial-6Click-19.mat',\n",
              " 'Angry_mit072Trial-7Click-21.mat',\n",
              " 'Joyous_mit072Trial-6Click-20.mat',\n",
              " 'Distress_mit072Trial-7Click-23.mat',\n",
              " 'Disgust_mit072Trial-7Click-22.mat',\n",
              " 'Hate_mit072Trial-7Click-24.mat',\n",
              " 'Delighted_mit072Trial-9Click-26.mat',\n",
              " 'Excited_mit072Trial-9Click-25.mat',\n",
              " 'Adventorous_mit072Trial-10Click-27.mat',\n",
              " 'Excited_mit072Trial-10Click-28.mat',\n",
              " 'Adventorous_mit072Trial-10Click-29.mat',\n",
              " 'Alarmed_mit072Trial-11Click-31.mat',\n",
              " 'Angry_mit072Trial-11Click-30.mat',\n",
              " 'Despondent_mit072Trial-11Click-32.mat',\n",
              " 'Excited_mit074Trial-3Click-1.mat',\n",
              " 'Passionate_mit074Trial-3Click-2.mat',\n",
              " 'Adventorous_mit074Trial-5Click-5.mat',\n",
              " 'Adventorous_mit074Trial-5Click-4.mat',\n",
              " 'Alarmed_mit074Trial-5Click-3.mat',\n",
              " 'Hate_mit074Trial-6Click-7.mat',\n",
              " 'Disgust_mit074Trial-7Click-8.mat',\n",
              " 'Disgust_mit074Trial-6Click-6.mat',\n",
              " 'Hate_mit074Trial-7Click-9.mat',\n",
              " 'Disgust_mit074Trial-7Click-10.mat',\n",
              " 'Disgust_mit074Trial-8Click-11.mat',\n",
              " 'Hate_mit074Trial-8Click-12.mat',\n",
              " 'Despondent_mit074Trial-9Click-15.mat',\n",
              " 'Sad_mit074Trial-9Click-13.mat',\n",
              " 'Depressed_mit074Trial-9Click-14.mat',\n",
              " 'Disgust_mit074Trial-10Click-17.mat',\n",
              " 'Miserable_mit074Trial-10Click-18.mat',\n",
              " 'Hate_mit074Trial-10Click-16.mat',\n",
              " 'Disgust_mit074Trial-10Click-19.mat',\n",
              " 'Afraid_mit076Trial-4Click-4.mat',\n",
              " 'Afraid_mit076Trial-4Click-3.mat',\n",
              " 'Taken Aback_mit076Trial-4Click-2.mat',\n",
              " 'Melancholic_mit076Trial-8Click-5.mat',\n",
              " 'Startled_mit079Trial-1Click-1.mat',\n",
              " 'Distress_mit079Trial-1Click-3.mat',\n",
              " 'Distress_mit079Trial-1Click-2.mat',\n",
              " 'Frustrated_mit079Trial-2Click-4.mat',\n",
              " 'Triumphant_mit079Trial-3Click-8.mat',\n",
              " 'Delighted_mit079Trial-3Click-7.mat',\n",
              " 'Passionate_mit079Trial-5Click-9.mat',\n",
              " 'Lust_mit079Trial-5Click-10.mat',\n",
              " 'Delighted_mit079Trial-6Click-11.mat',\n",
              " 'Startled_mit079Trial-6Click-12.mat',\n",
              " 'Afraid_mit079Trial-6Click-13.mat',\n",
              " 'Tense_mit079Trial-7Click-14.mat',\n",
              " 'Afraid_mit079Trial-7Click-15.mat',\n",
              " 'Tense_mit079Trial-7Click-16.mat',\n",
              " 'Excited_mit079Trial-8Click-17.mat',\n",
              " 'Distress_mit079Trial-8Click-19.mat',\n",
              " 'Distress_mit079Trial-8Click-18.mat',\n",
              " 'Startled_mit079Trial-8Click-20.mat',\n",
              " 'Excited_mit079Trial-9Click-22.mat',\n",
              " 'Excited_mit079Trial-9Click-21.mat',\n",
              " 'Amused_mit079Trial-9Click-23.mat',\n",
              " 'Distress_mit079Trial-10Click-25.mat',\n",
              " 'Disgust_mit079Trial-10Click-24.mat',\n",
              " 'Disgust_mit079Trial-10Click-27.mat',\n",
              " 'Angry_mit079Trial-10Click-26.mat',\n",
              " 'Afraid_mit080Trial-2Click-1.mat',\n",
              " 'Afraid_mit080Trial-2Click-2.mat',\n",
              " 'Passionate_mit080Trial-3Click-3.mat',\n",
              " 'Disgust_mit080Trial-7Click-5.mat',\n",
              " 'Frustrated_mit080Trial-7Click-6.mat',\n",
              " 'Distress_mit080Trial-6Click-4.mat',\n",
              " 'Disgust_mit080Trial-11Click-7.mat',\n",
              " 'Sad_mit081Trial-3Click-1.mat',\n",
              " 'Happy_mit081Trial-7Click-3.mat',\n",
              " 'Afraid_mit081Trial-10Click-7.mat',\n",
              " 'Startled_mit081Trial-9Click-4.mat',\n",
              " 'Taken Aback_mit082Trial-1Click-1.mat',\n",
              " 'Afraid_mit082Trial-2Click-2.mat',\n",
              " 'Delighted_mit082Trial-3Click-4.mat',\n",
              " 'Tense_mit082Trial-2Click-3.mat',\n",
              " 'Disgust_mit082Trial-4Click-6.mat',\n",
              " 'Amused_mit082Trial-3Click-5.mat',\n",
              " 'Afraid_mit082Trial-4Click-7.mat',\n",
              " 'Angry_mit082Trial-4Click-8.mat',\n",
              " 'Angry_mit082Trial-4Click-9.mat',\n",
              " 'Frustrated_mit082Trial-5Click-10.mat',\n",
              " 'Sad_mit082Trial-5Click-11.mat',\n",
              " 'Distrustful_mit082Trial-5Click-13.mat',\n",
              " 'Sad_mit082Trial-5Click-12.mat',\n",
              " 'Melancholic_mit082Trial-7Click-16.mat',\n",
              " 'Miserable_mit082Trial-7Click-15.mat',\n",
              " 'Dissatisfied_mit082Trial-7Click-14.mat',\n",
              " 'Delighted_mit082Trial-9Click-17.mat',\n",
              " 'Afraid_mit082Trial-10Click-19.mat',\n",
              " 'Aroused_mit082Trial-9Click-18.mat',\n",
              " 'Startled_mit082Trial-10Click-20.mat',\n",
              " 'Distress_mit082Trial-10Click-21.mat',\n",
              " 'Alarmed_mit082Trial-11Click-23.mat',\n",
              " 'Startled_mit082Trial-11Click-24.mat',\n",
              " 'Distress_mit082Trial-11Click-22.mat',\n",
              " 'Afraid_mit082Trial-11Click-25.mat',\n",
              " 'Love_mit096Trial-2Click-1.mat',\n",
              " 'Compassionate_mit096Trial-5Click-3.mat',\n",
              " 'Aroused_mit096Trial-2Click-2.mat',\n",
              " 'Angry_mit096Trial-8Click-6.mat',\n",
              " 'Tense_mit096Trial-6Click-5.mat',\n",
              " 'Compassionate_mit096Trial-5Click-4.mat',\n",
              " 'Excited_mit096Trial-9Click-7.mat',\n",
              " 'Excited_mit096Trial-11Click-9.mat',\n",
              " 'Adventorous_mit097Trial-1Click-1.mat',\n",
              " 'Alarmed_mit097Trial-2Click-2.mat',\n",
              " 'Alarmed_mit097Trial-2Click-3.mat',\n",
              " 'Distress_mit097Trial-5Click-6.mat',\n",
              " 'Miserable_mit097Trial-3Click-5.mat',\n",
              " 'Depressed_mit097Trial-3Click-4.mat',\n",
              " 'Sad_mit097Trial-10Click-8.mat',\n",
              " 'Disgust_mit097Trial-9Click-7.mat',\n",
              " 'Pleased_mit097Trial-11Click-9.mat',\n",
              " 'Disgust_mit099Trial-1Click-2.mat',\n",
              " 'Tense_mit099Trial-1Click-1.mat',\n",
              " 'Afraid_mit099Trial-2Click-5.mat',\n",
              " 'Afraid_mit099Trial-2Click-4.mat',\n",
              " 'Afraid_mit099Trial-2Click-3.mat',\n",
              " 'Alarmed_mit099Trial-3Click-7.mat',\n",
              " 'Miserable_mit099Trial-3Click-6.mat',\n",
              " 'Distress_mit099Trial-4Click-10.mat',\n",
              " 'Taken Aback_mit099Trial-4Click-9.mat',\n",
              " 'Alarmed_mit099Trial-3Click-8.mat',\n",
              " 'Hate_mit099Trial-4Click-11.mat',\n",
              " 'Miserable_mit099Trial-5Click-12.mat',\n",
              " 'Passionate_mit099Trial-6Click-14.mat',\n",
              " 'Lust_mit099Trial-6Click-15.mat',\n",
              " 'Alarmed_mit099Trial-5Click-13.mat',\n",
              " 'Sad_mit099Trial-7Click-16.mat',\n",
              " 'Amused_mit099Trial-9Click-17.mat',\n",
              " 'Excited_mit099Trial-9Click-18.mat',\n",
              " 'Afraid_mit099Trial-10Click-20.mat',\n",
              " 'Sad_mit099Trial-10Click-21.mat',\n",
              " 'Sad_mit099Trial-10Click-22.mat',\n",
              " 'Joyous_mit104Trial-2Click-1.mat',\n",
              " 'Excited_mit104Trial-9Click-2.mat',\n",
              " 'Adventorous_mit104Trial-9Click-4.mat',\n",
              " 'Joyous_mit104Trial-9Click-3.mat',\n",
              " 'Sad_mit104Trial-10Click-5.mat',\n",
              " 'Dissatisfied_mit106Trial-5Click-2.mat',\n",
              " 'Hate_mit106Trial-3Click-1.mat',\n",
              " 'Sad_mit106Trial-6Click-5.mat',\n",
              " 'Sad_mit106Trial-5Click-3.mat',\n",
              " 'Dissatisfied_mit106Trial-6Click-4.mat',\n",
              " 'Happy_mit106Trial-9Click-7.mat',\n",
              " 'Passionate_mit106Trial-9Click-6.mat',\n",
              " 'Angry_mit106Trial-10Click-9.mat',\n",
              " 'Angry_mit106Trial-10Click-8.mat',\n",
              " 'Sad_mit107Trial-3Click-1.mat',\n",
              " 'Afraid_mit107Trial-4Click-2.mat',\n",
              " 'Despondent_mit107Trial-7Click-4.mat',\n",
              " 'Adventorous_mit107Trial-6Click-3.mat',\n",
              " 'Angry_mit107Trial-10Click-5.mat',\n",
              " 'Tense_mit108Trial-5Click-1.mat',\n",
              " 'Angry_mit108Trial-5Click-2.mat',\n",
              " 'Afraid_mit108Trial-8Click-5.mat',\n",
              " 'Dissatisfied_mit108Trial-8Click-4.mat',\n",
              " 'Delighted_mit108Trial-7Click-3.mat',\n",
              " 'Alarmed_mit108Trial-9Click-6.mat',\n",
              " 'Afraid_mit108Trial-9Click-7.mat',\n",
              " 'Miserable_mit108Trial-10Click-8.mat',\n",
              " 'Delighted_mit111Trial-4Click-2.mat',\n",
              " 'Joyous_mit111Trial-4Click-1.mat',\n",
              " 'Adventorous_mit111Trial-6Click-4.mat',\n",
              " 'Happy_mit111Trial-4Click-3.mat',\n",
              " 'Excited_mit111Trial-6Click-5.mat',\n",
              " 'Sad_mit111Trial-7Click-7.mat',\n",
              " 'Depressed_mit111Trial-7Click-6.mat',\n",
              " 'Afraid_mit111Trial-9Click-8.mat',\n",
              " 'Sad_mit111Trial-10Click-9.mat',\n",
              " 'Angry_mit111Trial-10Click-10.mat',\n",
              " 'Hate_mit111Trial-10Click-11.mat',\n",
              " 'Disgust_mit113Trial-5Click-2.mat',\n",
              " 'Amused_mit113Trial-2Click-1.mat',\n",
              " 'Startled_mit113Trial-6Click-3.mat',\n",
              " 'Triumphant_mit113Trial-8Click-4.mat',\n",
              " 'Disgust_mit113Trial-9Click-5.mat',\n",
              " 'Happy_mit113Trial-10Click-6.mat',\n",
              " 'Depressed_mit113Trial-11Click-7.mat',\n",
              " 'Startled_mit114Trial-2Click-4.mat',\n",
              " 'Hopeful_mit114Trial-1Click-1.mat',\n",
              " 'Joyous_mit114Trial-3Click-6.mat',\n",
              " 'Joyous_mit114Trial-3Click-7.mat',\n",
              " 'Excited_mit114Trial-2Click-5.mat',\n",
              " 'Distress_mit114Trial-4Click-8.mat',\n",
              " 'Alarmed_mit114Trial-4Click-11.mat',\n",
              " 'Love_mit114Trial-5Click-12.mat',\n",
              " 'Compassionate_mit114Trial-4Click-10.mat',\n",
              " 'Startled_mit114Trial-5Click-13.mat',\n",
              " 'Hate_mit114Trial-5Click-14.mat',\n",
              " 'Tense_mit114Trial-6Click-15.mat',\n",
              " 'Afraid_mit114Trial-6Click-16.mat',\n",
              " 'Dissatisfied_mit114Trial-7Click-19.mat',\n",
              " 'Angry_mit114Trial-7Click-20.mat',\n",
              " 'Sad_mit114Trial-7Click-21.mat',\n",
              " 'Sad_mit114Trial-7Click-22.mat',\n",
              " 'Afraid_mit114Trial-8Click-24.mat',\n",
              " 'Sad_mit114Trial-8Click-25.mat',\n",
              " 'Afraid_mit114Trial-8Click-23.mat',\n",
              " 'Alarmed_mit114Trial-8Click-26.mat',\n",
              " 'Afraid_mit114Trial-10Click-30.mat',\n",
              " 'Amused_mit114Trial-10Click-29.mat',\n",
              " 'Passionate_mit114Trial-11Click-32.mat',\n",
              " 'Adventorous_mit114Trial-10Click-31.mat',\n",
              " 'Lust_mit114Trial-11Click-34.mat',\n",
              " 'Lust_mit114Trial-11Click-33.mat',\n",
              " 'Pensive_mit116Trial-2Click-2.mat',\n",
              " 'Pensive_mit116Trial-2Click-1.mat',\n",
              " 'Joyous_mit116Trial-3Click-3.mat',\n",
              " 'Depressed_mit116Trial-6Click-5.mat',\n",
              " 'Sad_mit116Trial-4Click-4.mat',\n",
              " 'Sad_mit116Trial-6Click-6.mat',\n",
              " 'Miserable_mit116Trial-6Click-7.mat',\n",
              " 'Sad_mit116Trial-7Click-8.mat',\n",
              " 'Miserable_mit116Trial-9Click-9.mat',\n",
              " 'Dissatisfied_mit116Trial-9Click-10.mat',\n",
              " 'Excited_mit116Trial-10Click-12.mat',\n",
              " 'Taken Aback_mit116Trial-11Click-13.mat',\n",
              " 'Joyous_mit116Trial-10Click-11.mat',\n",
              " 'Distress_mit116Trial-11Click-14.mat',\n",
              " 'Joyous_mit117Trial-2Click-1.mat',\n",
              " 'Hate_mit117Trial-3Click-2.mat',\n",
              " 'Angry_mit117Trial-5Click-4.mat',\n",
              " 'Sad_mit117Trial-4Click-3.mat',\n",
              " 'Delighted_mit117Trial-10Click-5.mat',\n",
              " 'Distress_mit117Trial-11Click-6.mat',\n",
              " 'Excited_mit121Trial-1Click-1.mat',\n",
              " 'Joyous_mit121Trial-2Click-3.mat',\n",
              " 'Delighted_mit121Trial-2Click-2.mat',\n",
              " 'Sad_mit121Trial-3Click-4.mat',\n",
              " 'Taken Aback_mit121Trial-4Click-6.mat',\n",
              " 'Sad_mit121Trial-3Click-5.mat',\n",
              " 'Miserable_mit121Trial-4Click-8.mat',\n",
              " 'Miserable_mit121Trial-4Click-7.mat',\n",
              " 'Startled_mit121Trial-5Click-9.mat',\n",
              " 'Startled_mit121Trial-9Click-10.mat',\n",
              " 'Sad_mit121Trial-9Click-11.mat',\n",
              " 'Angry_mit121Trial-10Click-13.mat',\n",
              " 'Afraid_mit121Trial-11Click-14.mat',\n",
              " 'Angry_mit121Trial-10Click-12.mat',\n",
              " 'Alarmed_mit121Trial-11Click-15.mat',\n",
              " 'Amused_mit122Trial-1Click-1.mat',\n",
              " 'Miserable_mit122Trial-2Click-2.mat',\n",
              " 'Hate_mit122Trial-2Click-4.mat',\n",
              " 'Hate_mit122Trial-2Click-3.mat',\n",
              " 'Disgust_mit122Trial-3Click-6.mat',\n",
              " 'Afraid_mit122Trial-3Click-5.mat',\n",
              " 'Disgust_mit122Trial-4Click-7.mat',\n",
              " 'Angry_mit122Trial-6Click-9.mat',\n",
              " 'Hate_mit122Trial-6Click-8.mat',\n",
              " 'Afraid_mit122Trial-7Click-12.mat',\n",
              " 'Hate_mit122Trial-6Click-11.mat',\n",
              " 'Angry_mit122Trial-6Click-10.mat',\n",
              " 'Startled_mit122Trial-8Click-14.mat',\n",
              " 'Distress_mit122Trial-7Click-13.mat',\n",
              " 'Distress_mit122Trial-8Click-15.mat',\n",
              " 'Excited_mit122Trial-10Click-16.mat',\n",
              " 'Joyous_mit122Trial-11Click-17.mat',\n",
              " 'Happy_mit122Trial-11Click-18.mat',\n",
              " 'Afraid_mit123Trial-2Click-1.mat',\n",
              " 'Afraid_mit123Trial-2Click-2.mat',\n",
              " 'Taken Aback_mit123Trial-4Click-3.mat',\n",
              " 'Angry_mit123Trial-5Click-5.mat',\n",
              " 'Taken Aback_mit123Trial-4Click-4.mat',\n",
              " 'Angry_mit123Trial-5Click-6.mat',\n",
              " 'Alarmed_mit123Trial-8Click-8.mat',\n",
              " 'Tense_mit123Trial-8Click-7.mat',\n",
              " 'Alarmed_mit123Trial-9Click-10.mat',\n",
              " 'Alarmed_mit123Trial-9Click-9.mat',\n",
              " 'Melancholic_mitb2017007Trial-2Click-1.mat',\n",
              " 'Sad_mitb2017007Trial-6Click-3.mat',\n",
              " 'Sad_mitb2017007Trial-4Click-2.mat',\n",
              " 'Adventorous_mitb2017007Trial-7Click-4.mat',\n",
              " 'Excited_mitb2017007Trial-7Click-5.mat',\n",
              " 'Taken Aback_mitb2017007Trial-9Click-6.mat',\n",
              " 'Disgust_mitb2017007Trial-11Click-7.mat',\n",
              " 'Distrustful_mitb2017007Trial-11Click-8.mat']"
            ]
          },
          "metadata": {},
          "execution_count": 6
        }
      ]
    },
    {
      "cell_type": "code",
      "source": [
        "#len(files)"
      ],
      "metadata": {
        "id": "hXr3vHgCl9jh"
      },
      "execution_count": 15,
      "outputs": []
    },
    {
      "cell_type": "code",
      "source": [
        "rating = pd.read_csv('/content/drive/My Drive/MTech_Thesis/DENS/Rating/wholeFrequencyDependentDataWithVADLFR_ReFormattingWholeFrequencyVA - wholeFrequencyDependentDataWithVADLFR_ReFormattingWholeFrequencyVA.csv')"
      ],
      "metadata": {
        "id": "z9IPNKWWmCl1"
      },
      "execution_count": 7,
      "outputs": []
    },
    {
      "cell_type": "code",
      "source": [
        "#df = rating[rating[\"Subject\"].str.contains('Dissatisfied_mit114Trial-7Click-19')]"
      ],
      "metadata": {
        "id": "Q2gm37SeqCqV"
      },
      "execution_count": 17,
      "outputs": []
    },
    {
      "cell_type": "code",
      "source": [
        "#df = df[['Subject','valence','arousal']]"
      ],
      "metadata": {
        "id": "X6hLhS16sm9f"
      },
      "execution_count": 18,
      "outputs": []
    },
    {
      "cell_type": "code",
      "source": [
        "#df = df.drop_duplicates()"
      ],
      "metadata": {
        "id": "8C2i9tP0s9mW"
      },
      "execution_count": 19,
      "outputs": []
    },
    {
      "cell_type": "code",
      "source": [
        "#valence = df['valence']\n",
        "#arousal = df['arousal']"
      ],
      "metadata": {
        "id": "wXjwM7gptTbm"
      },
      "execution_count": 20,
      "outputs": []
    },
    {
      "cell_type": "code",
      "source": [
        "#print(valence.values[0])\n",
        "#print(arousal)"
      ],
      "metadata": {
        "id": "UP3rOTAttf_M"
      },
      "execution_count": 21,
      "outputs": []
    },
    {
      "cell_type": "code",
      "source": [
        "eeg_data = []\n",
        "eeg_label = []"
      ],
      "metadata": {
        "id": "3SZD7T-ZMrGr"
      },
      "execution_count": 10,
      "outputs": []
    },
    {
      "cell_type": "code",
      "source": [
        "def label_mapping(valence, arousal):\n",
        "    # HVHA, HVLA, LVHA, and LVLA\n",
        "    \n",
        "    if (arousal <= 5):\n",
        "        label = 0 \n",
        "    elif (arousal > 5):\n",
        "        label = 1\n",
        "    \n",
        "    return label"
      ],
      "metadata": {
        "id": "qNgprMehwbq6"
      },
      "execution_count": 8,
      "outputs": []
    },
    {
      "cell_type": "code",
      "source": [
        "base_path = \"/content/drive/My Drive/MTech_Thesis/DENS/Emotional/\"\n",
        "for f in files:\n",
        "  if f.endswith(\".mat\"):\n",
        "    file_str = f[:-4]\n",
        "    df = rating[rating[\"Subject\"].str.contains(file_str)]\n",
        "    if not df.empty:\n",
        "      path = base_path + f\n",
        "      mat = sio.loadmat(path)\n",
        "      data = mat.get('eegData')\n",
        "      eeg_data.append(data)\n",
        "      df = df[['Subject','valence','arousal']]\n",
        "      df = df.drop_duplicates()\n",
        "      valence = df['valence']\n",
        "      arousal = df['arousal']\n",
        "      lab = label_mapping(valence.values[0], arousal.values[0])\n",
        "      eeg_label.append(lab)"
      ],
      "metadata": {
        "id": "_v5jP3fsMCl8"
      },
      "execution_count": 11,
      "outputs": []
    },
    {
      "cell_type": "code",
      "source": [
        "eeg_data = np.array(eeg_data)"
      ],
      "metadata": {
        "id": "y1_zddLmODQy"
      },
      "execution_count": 12,
      "outputs": []
    },
    {
      "cell_type": "code",
      "source": [
        "eeg_data.shape"
      ],
      "metadata": {
        "colab": {
          "base_uri": "https://localhost:8080/"
        },
        "id": "mE62KOYIOINm",
        "outputId": "261d7e4d-c5d2-4c7f-83db-ce7283ff012f"
      },
      "execution_count": 13,
      "outputs": [
        {
          "output_type": "execute_result",
          "data": {
            "text/plain": [
              "(465, 128, 1751)"
            ]
          },
          "metadata": {},
          "execution_count": 13
        }
      ]
    },
    {
      "cell_type": "code",
      "source": [
        "eeg_label = np.array(eeg_label)"
      ],
      "metadata": {
        "id": "aXiRiyzTA2P-"
      },
      "execution_count": 14,
      "outputs": []
    },
    {
      "cell_type": "code",
      "source": [
        "eeg_label.shape"
      ],
      "metadata": {
        "colab": {
          "base_uri": "https://localhost:8080/"
        },
        "id": "4wMyg9eHCCZ1",
        "outputId": "69766344-a0ed-4743-9ede-7602a4d4e4be"
      },
      "execution_count": 15,
      "outputs": [
        {
          "output_type": "execute_result",
          "data": {
            "text/plain": [
              "(465,)"
            ]
          },
          "metadata": {},
          "execution_count": 15
        }
      ]
    },
    {
      "cell_type": "code",
      "source": [
        ""
      ],
      "metadata": {
        "id": "eRYCMHtLuJwG"
      },
      "execution_count": 15,
      "outputs": []
    },
    {
      "cell_type": "code",
      "source": [
        "eeg_Label = []\n",
        "for i in eeg_label:\n",
        "    for j in range (0,128):\n",
        "        eeg_Label.append(i)"
      ],
      "metadata": {
        "id": "yrkIiv7XnBUA"
      },
      "execution_count": 16,
      "outputs": []
    },
    {
      "cell_type": "code",
      "source": [
        "eeg_Label = np.array(eeg_Label)\n",
        "count0 = np.count_nonzero(eeg_Label == 0)\n",
        "count1 = np.count_nonzero(eeg_Label == 1)"
      ],
      "metadata": {
        "id": "57d12fLqujOj"
      },
      "execution_count": 17,
      "outputs": []
    },
    {
      "cell_type": "code",
      "source": [
        "print(count0)\n",
        "print(count1)"
      ],
      "metadata": {
        "colab": {
          "base_uri": "https://localhost:8080/"
        },
        "id": "-SjzzcQPvBkG",
        "outputId": "fd215b50-3fe5-419f-f622-087644d93505"
      },
      "execution_count": 18,
      "outputs": [
        {
          "output_type": "stream",
          "name": "stdout",
          "text": [
            "12672\n",
            "46848\n"
          ]
        }
      ]
    },
    {
      "cell_type": "code",
      "source": [
        "from tensorflow.keras.utils import to_categorical \n",
        "y = to_categorical(eeg_Label)"
      ],
      "metadata": {
        "id": "0l25SFviCFX-"
      },
      "execution_count": 19,
      "outputs": []
    },
    {
      "cell_type": "code",
      "source": [
        "y.shape"
      ],
      "metadata": {
        "colab": {
          "base_uri": "https://localhost:8080/"
        },
        "id": "budJyMi9mOme",
        "outputId": "f343a7f2-6f97-4922-b671-c820673f3012"
      },
      "execution_count": 20,
      "outputs": [
        {
          "output_type": "execute_result",
          "data": {
            "text/plain": [
              "(59520, 2)"
            ]
          },
          "metadata": {},
          "execution_count": 20
        }
      ]
    },
    {
      "cell_type": "code",
      "source": [
        "import functools\n",
        "def combine_dims(a, i=0, n=1):\n",
        "  s = list(a.shape)\n",
        "  combined = functools.reduce(lambda x,y: x*y, s[i:i+n+1])\n",
        "  return np.reshape(a, s[:i] + [combined] + s[i+n+1:])"
      ],
      "metadata": {
        "id": "HM5lnt5fCNnq"
      },
      "execution_count": 21,
      "outputs": []
    },
    {
      "cell_type": "code",
      "source": [
        "eeg_Data = combine_dims(np.array(eeg_data), 0)"
      ],
      "metadata": {
        "id": "fqcsIrRJC97G"
      },
      "execution_count": 22,
      "outputs": []
    },
    {
      "cell_type": "code",
      "source": [
        "eeg_Data.shape"
      ],
      "metadata": {
        "id": "qb7O6M9IDE2D",
        "outputId": "946e220b-552f-4c68-dfe5-85fe005a19df",
        "colab": {
          "base_uri": "https://localhost:8080/"
        }
      },
      "execution_count": 23,
      "outputs": [
        {
          "output_type": "execute_result",
          "data": {
            "text/plain": [
              "(59520, 1751)"
            ]
          },
          "metadata": {},
          "execution_count": 23
        }
      ]
    },
    {
      "cell_type": "code",
      "source": [
        "fs = 250\n",
        "\n",
        "size_dataset = len(eeg_Data)\n",
        "X_full = np.ndarray(shape=(size_dataset, 63, 29, 3))#Signal spectogram # 128 overlap\n",
        "X_test_Full = []               \n",
        "for i in range(0, size_dataset):\n",
        "  for j in range(0,3):\n",
        "    X = eeg_Data[i] \n",
        "    f, t, Sxx = spectrogram(X, fs, nperseg = 125, noverlap = 67.5, mode='psd')\n",
        "    X_full[i, :, :, j] = Sxx\n",
        "    #X_test_Full.append(Sxx)"
      ],
      "metadata": {
        "id": "5Fg_Vk8FnjNi"
      },
      "execution_count": 24,
      "outputs": []
    },
    {
      "cell_type": "code",
      "source": [
        "X_full = np.array(X_full)"
      ],
      "metadata": {
        "id": "DECpBmzqoTik"
      },
      "execution_count": 25,
      "outputs": []
    },
    {
      "cell_type": "code",
      "source": [
        "X_full.shape"
      ],
      "metadata": {
        "colab": {
          "base_uri": "https://localhost:8080/"
        },
        "id": "81VnaPCCob3b",
        "outputId": "f3f09696-cb63-44a9-9f57-cade376d6356"
      },
      "execution_count": 26,
      "outputs": [
        {
          "output_type": "execute_result",
          "data": {
            "text/plain": [
              "(59520, 63, 29, 3)"
            ]
          },
          "metadata": {},
          "execution_count": 26
        }
      ]
    },
    {
      "cell_type": "code",
      "source": [
        "X_train, X_test, y_train, y_test = train_test_split(X_full, y, test_size=0.3, random_state=23)"
      ],
      "metadata": {
        "id": "FDjtp987ozZo"
      },
      "execution_count": 27,
      "outputs": []
    },
    {
      "cell_type": "code",
      "source": [
        "X_train /= 255\n",
        "X_test /= 255"
      ],
      "metadata": {
        "id": "-9MCilC1o5zJ"
      },
      "execution_count": 28,
      "outputs": []
    },
    {
      "cell_type": "code",
      "source": [
        "import pandas as pd\n",
        "import keras.backend as K\n",
        "import numpy as np\n",
        "\n",
        "import keras\n",
        "import tensorflow as tf\n",
        "from keras.models import Sequential\n",
        "from keras.layers import Dense\n",
        "from keras.layers.convolutional import Conv1D\n",
        "from keras.layers.convolutional import MaxPooling1D\n",
        "\n",
        "from keras.layers import Flatten\n",
        "from keras.layers import Dense\n",
        "import numpy as np\n",
        "import keras\n",
        "\n",
        "from keras.layers import Dense, Dropout, Flatten, Conv2D, MaxPooling2D, TimeDistributed, RepeatVector\n",
        "from keras.layers import LSTM, GRU, SimpleRNN\n",
        "from keras import backend as K\n",
        "from keras.models import Model\n",
        "import timeit\n",
        "\n",
        "\n",
        "#import cv2, numpy as np\n",
        "import warnings\n",
        "warnings.filterwarnings('ignore')\n",
        "\n",
        "import sys\n",
        "from keras.layers import Convolution1D, ZeroPadding1D, MaxPooling1D, BatchNormalization, Activation, Dropout, Flatten, Dense\n",
        "from keras.regularizers import l2"
      ],
      "metadata": {
        "id": "ux41izA4pBk2"
      },
      "execution_count": 29,
      "outputs": []
    },
    {
      "cell_type": "code",
      "source": [
        "batch_size = 32 \n",
        "num_classes = 2 \n",
        "epochs = 100 "
      ],
      "metadata": {
        "id": "wUAbEFeBpI7F"
      },
      "execution_count": 30,
      "outputs": []
    },
    {
      "cell_type": "code",
      "source": [
        "input_shape = (X_train.shape[1],X_train.shape[2],X_train.shape[3])\n",
        "input_shape"
      ],
      "metadata": {
        "colab": {
          "base_uri": "https://localhost:8080/"
        },
        "id": "zO9XwZfJpLTd",
        "outputId": "9be28f32-72ad-4e51-b870-3631c826c22d"
      },
      "execution_count": 31,
      "outputs": [
        {
          "output_type": "execute_result",
          "data": {
            "text/plain": [
              "(63, 29, 3)"
            ]
          },
          "metadata": {},
          "execution_count": 31
        }
      ]
    },
    {
      "cell_type": "code",
      "source": [
        "zero_weight = 2.35 (#Total No of samples/(No of class * no of samples of class))\n",
        "one_weight = 0.64"
      ],
      "metadata": {
        "id": "Yh6MWgodnKDf"
      },
      "execution_count": 32,
      "outputs": []
    },
    {
      "cell_type": "code",
      "source": [
        "model = Sequential()\n",
        "\n",
        "model.add(Conv2D(32, (3, 3), \n",
        "          strides=(1, 1),\n",
        "          activation='relu', \n",
        "          input_shape=input_shape))\n",
        "model.add(MaxPooling2D((2, 2), strides=(2, 2)))\n",
        "\n",
        "model.add(Conv2D(64, (3, 3), \n",
        "          activation='relu'))\n",
        "model.add(MaxPooling2D((2, 2)))\n",
        "model.add(Dropout(0.1))\n",
        "\n",
        "model.add(Flatten())\n",
        "\n",
        "model.add(RepeatVector(4))\n",
        "'''\n",
        "model.add(Bidirectional(LSTM(128, return_sequences=True)))\n",
        "model.add(Dropout(0.2))\n",
        "'''\n",
        "model.add(LSTM(256, return_sequences=True))\n",
        "model.add(Dropout(0.2))\n",
        "\n",
        "model.add(LSTM(128))\n",
        "model.add(Dropout(0.2))\n",
        "\n",
        "model.add(Dense(64, activation=\"relu\"))\n",
        "model.add(Dropout(0.2))\n",
        "\n",
        "\n",
        "model.add(Dense(num_classes, activation=\"softmax\"))\n",
        "\n",
        "model.compile(loss=\"sparse_categorical_crossentropy\",\n",
        "              optimizer=\"adam\", metrics=[\"accuracy\"])\n",
        "\n",
        "model.summary()"
      ],
      "metadata": {
        "colab": {
          "base_uri": "https://localhost:8080/"
        },
        "id": "hzRfPC7GpPTw",
        "outputId": "0175e667-7295-41ff-fad1-856eb1d24cc3"
      },
      "execution_count": 33,
      "outputs": [
        {
          "output_type": "stream",
          "name": "stdout",
          "text": [
            "Model: \"sequential\"\n",
            "_________________________________________________________________\n",
            " Layer (type)                Output Shape              Param #   \n",
            "=================================================================\n",
            " conv2d (Conv2D)             (None, 61, 27, 32)        896       \n",
            "                                                                 \n",
            " max_pooling2d (MaxPooling2D  (None, 30, 13, 32)       0         \n",
            " )                                                               \n",
            "                                                                 \n",
            " conv2d_1 (Conv2D)           (None, 28, 11, 64)        18496     \n",
            "                                                                 \n",
            " max_pooling2d_1 (MaxPooling  (None, 14, 5, 64)        0         \n",
            " 2D)                                                             \n",
            "                                                                 \n",
            " dropout (Dropout)           (None, 14, 5, 64)         0         \n",
            "                                                                 \n",
            " flatten (Flatten)           (None, 4480)              0         \n",
            "                                                                 \n",
            " repeat_vector (RepeatVector  (None, 4, 4480)          0         \n",
            " )                                                               \n",
            "                                                                 \n",
            " lstm (LSTM)                 (None, 4, 256)            4850688   \n",
            "                                                                 \n",
            " dropout_1 (Dropout)         (None, 4, 256)            0         \n",
            "                                                                 \n",
            " lstm_1 (LSTM)               (None, 128)               197120    \n",
            "                                                                 \n",
            " dropout_2 (Dropout)         (None, 128)               0         \n",
            "                                                                 \n",
            " dense (Dense)               (None, 64)                8256      \n",
            "                                                                 \n",
            " dropout_3 (Dropout)         (None, 64)                0         \n",
            "                                                                 \n",
            " dense_1 (Dense)             (None, 2)                 130       \n",
            "                                                                 \n",
            "=================================================================\n",
            "Total params: 5,075,586\n",
            "Trainable params: 5,075,586\n",
            "Non-trainable params: 0\n",
            "_________________________________________________________________\n"
          ]
        }
      ]
    },
    {
      "cell_type": "code",
      "source": [
        "#opt = tf.keras.optimizers.SGD(learning_rate=0.005)\n",
        "model.compile(optimizer =\"Adam\", loss =keras.losses.categorical_crossentropy,metrics=[\"accuracy\"], weighted_metrics=[\"accuracy\"])\n",
        "\n",
        "m=model.fit(X_train, y_train,epochs=100,batch_size=32,verbose=1,validation_data=(X_test, y_test),class_weight={0:zero_weight, 1:one_weight})"
      ],
      "metadata": {
        "colab": {
          "base_uri": "https://localhost:8080/"
        },
        "id": "5xWY75FjpQL3",
        "outputId": "10a2f323-4506-4167-d030-c5adf9d778df"
      },
      "execution_count": 34,
      "outputs": [
        {
          "output_type": "stream",
          "name": "stdout",
          "text": [
            "Epoch 1/100\n",
            "1302/1302 [==============================] - 26s 10ms/step - loss: 0.6945 - accuracy: 0.5953 - weighted_accuracy: 0.5031 - val_loss: 0.6847 - val_accuracy: 0.7834 - val_weighted_accuracy: 0.7834\n",
            "Epoch 2/100\n",
            "1302/1302 [==============================] - 11s 9ms/step - loss: 0.6943 - accuracy: 0.5716 - weighted_accuracy: 0.5015 - val_loss: 0.6858 - val_accuracy: 0.7828 - val_weighted_accuracy: 0.7828\n",
            "Epoch 3/100\n",
            "1302/1302 [==============================] - 11s 9ms/step - loss: 0.6941 - accuracy: 0.6166 - weighted_accuracy: 0.5013 - val_loss: 0.6922 - val_accuracy: 0.2560 - val_weighted_accuracy: 0.2560\n",
            "Epoch 4/100\n",
            "1302/1302 [==============================] - 11s 9ms/step - loss: 0.6930 - accuracy: 0.5048 - weighted_accuracy: 0.4999 - val_loss: 0.6868 - val_accuracy: 0.7832 - val_weighted_accuracy: 0.7832\n",
            "Epoch 5/100\n",
            "1302/1302 [==============================] - 11s 9ms/step - loss: 0.6900 - accuracy: 0.5621 - weighted_accuracy: 0.5021 - val_loss: 0.6746 - val_accuracy: 0.7607 - val_weighted_accuracy: 0.7607\n",
            "Epoch 6/100\n",
            "1302/1302 [==============================] - 11s 9ms/step - loss: 0.6818 - accuracy: 0.5331 - weighted_accuracy: 0.5201 - val_loss: 0.6368 - val_accuracy: 0.7640 - val_weighted_accuracy: 0.7640\n",
            "Epoch 7/100\n",
            "1302/1302 [==============================] - 11s 9ms/step - loss: 0.6616 - accuracy: 0.6337 - weighted_accuracy: 0.5630 - val_loss: 0.6840 - val_accuracy: 0.4323 - val_weighted_accuracy: 0.4323\n",
            "Epoch 8/100\n",
            "1302/1302 [==============================] - 12s 9ms/step - loss: 0.6424 - accuracy: 0.6575 - weighted_accuracy: 0.5991 - val_loss: 0.6081 - val_accuracy: 0.7319 - val_weighted_accuracy: 0.7319\n",
            "Epoch 9/100\n",
            "1302/1302 [==============================] - 11s 9ms/step - loss: 0.6211 - accuracy: 0.6833 - weighted_accuracy: 0.6258 - val_loss: 0.6401 - val_accuracy: 0.5659 - val_weighted_accuracy: 0.5659\n",
            "Epoch 10/100\n",
            "1302/1302 [==============================] - 11s 9ms/step - loss: 0.5880 - accuracy: 0.6969 - weighted_accuracy: 0.6629 - val_loss: 0.5591 - val_accuracy: 0.6944 - val_weighted_accuracy: 0.6944\n",
            "Epoch 11/100\n",
            "1302/1302 [==============================] - 12s 9ms/step - loss: 0.5433 - accuracy: 0.7159 - weighted_accuracy: 0.7045 - val_loss: 0.4896 - val_accuracy: 0.7315 - val_weighted_accuracy: 0.7315\n",
            "Epoch 12/100\n",
            "1302/1302 [==============================] - 12s 9ms/step - loss: 0.5002 - accuracy: 0.7409 - weighted_accuracy: 0.7374 - val_loss: 0.4929 - val_accuracy: 0.7561 - val_weighted_accuracy: 0.7561\n",
            "Epoch 13/100\n",
            "1302/1302 [==============================] - 12s 9ms/step - loss: 0.4555 - accuracy: 0.7717 - weighted_accuracy: 0.7700 - val_loss: 0.4003 - val_accuracy: 0.8111 - val_weighted_accuracy: 0.8111\n",
            "Epoch 14/100\n",
            "1302/1302 [==============================] - 12s 9ms/step - loss: 0.4121 - accuracy: 0.8006 - weighted_accuracy: 0.7994 - val_loss: 0.3651 - val_accuracy: 0.8208 - val_weighted_accuracy: 0.8208\n",
            "Epoch 15/100\n",
            "1302/1302 [==============================] - 12s 9ms/step - loss: 0.3758 - accuracy: 0.8228 - weighted_accuracy: 0.8213 - val_loss: 0.3693 - val_accuracy: 0.8206 - val_weighted_accuracy: 0.8206\n",
            "Epoch 16/100\n",
            "1302/1302 [==============================] - 12s 9ms/step - loss: 0.3390 - accuracy: 0.8460 - weighted_accuracy: 0.8421 - val_loss: 0.3060 - val_accuracy: 0.8700 - val_weighted_accuracy: 0.8700\n",
            "Epoch 17/100\n",
            "1302/1302 [==============================] - 12s 9ms/step - loss: 0.2982 - accuracy: 0.8662 - weighted_accuracy: 0.8642 - val_loss: 0.2850 - val_accuracy: 0.8802 - val_weighted_accuracy: 0.8802\n",
            "Epoch 18/100\n",
            "1302/1302 [==============================] - 12s 9ms/step - loss: 0.2690 - accuracy: 0.8836 - weighted_accuracy: 0.8809 - val_loss: 0.2449 - val_accuracy: 0.8933 - val_weighted_accuracy: 0.8933\n",
            "Epoch 19/100\n",
            "1302/1302 [==============================] - 12s 9ms/step - loss: 0.2345 - accuracy: 0.8994 - weighted_accuracy: 0.8991 - val_loss: 0.2202 - val_accuracy: 0.9089 - val_weighted_accuracy: 0.9089\n",
            "Epoch 20/100\n",
            "1302/1302 [==============================] - 12s 9ms/step - loss: 0.2063 - accuracy: 0.9117 - weighted_accuracy: 0.9118 - val_loss: 0.2183 - val_accuracy: 0.9051 - val_weighted_accuracy: 0.9051\n",
            "Epoch 21/100\n",
            "1302/1302 [==============================] - 12s 9ms/step - loss: 0.1803 - accuracy: 0.9243 - weighted_accuracy: 0.9254 - val_loss: 0.1912 - val_accuracy: 0.9271 - val_weighted_accuracy: 0.9271\n",
            "Epoch 22/100\n",
            "1302/1302 [==============================] - 12s 9ms/step - loss: 0.1606 - accuracy: 0.9327 - weighted_accuracy: 0.9326 - val_loss: 0.1954 - val_accuracy: 0.9223 - val_weighted_accuracy: 0.9223\n",
            "Epoch 23/100\n",
            "1302/1302 [==============================] - 12s 9ms/step - loss: 0.1437 - accuracy: 0.9416 - weighted_accuracy: 0.9423 - val_loss: 0.1576 - val_accuracy: 0.9426 - val_weighted_accuracy: 0.9426\n",
            "Epoch 24/100\n",
            "1302/1302 [==============================] - 12s 9ms/step - loss: 0.1324 - accuracy: 0.9481 - weighted_accuracy: 0.9481 - val_loss: 0.1441 - val_accuracy: 0.9456 - val_weighted_accuracy: 0.9456\n",
            "Epoch 25/100\n",
            "1302/1302 [==============================] - 12s 9ms/step - loss: 0.1136 - accuracy: 0.9544 - weighted_accuracy: 0.9554 - val_loss: 0.1555 - val_accuracy: 0.9420 - val_weighted_accuracy: 0.9420\n",
            "Epoch 26/100\n",
            "1302/1302 [==============================] - 12s 9ms/step - loss: 0.1048 - accuracy: 0.9603 - weighted_accuracy: 0.9601 - val_loss: 0.1327 - val_accuracy: 0.9541 - val_weighted_accuracy: 0.9541\n",
            "Epoch 27/100\n",
            "1302/1302 [==============================] - 12s 9ms/step - loss: 0.0902 - accuracy: 0.9666 - weighted_accuracy: 0.9662 - val_loss: 0.1336 - val_accuracy: 0.9535 - val_weighted_accuracy: 0.9535\n",
            "Epoch 28/100\n",
            "1302/1302 [==============================] - 12s 9ms/step - loss: 0.0808 - accuracy: 0.9686 - weighted_accuracy: 0.9690 - val_loss: 0.1397 - val_accuracy: 0.9516 - val_weighted_accuracy: 0.9516\n",
            "Epoch 29/100\n",
            "1302/1302 [==============================] - 12s 9ms/step - loss: 0.0755 - accuracy: 0.9705 - weighted_accuracy: 0.9712 - val_loss: 0.1224 - val_accuracy: 0.9545 - val_weighted_accuracy: 0.9545\n",
            "Epoch 30/100\n",
            "1302/1302 [==============================] - 12s 9ms/step - loss: 0.0684 - accuracy: 0.9757 - weighted_accuracy: 0.9756 - val_loss: 0.1193 - val_accuracy: 0.9609 - val_weighted_accuracy: 0.9609\n",
            "Epoch 31/100\n",
            "1302/1302 [==============================] - 12s 9ms/step - loss: 0.0636 - accuracy: 0.9771 - weighted_accuracy: 0.9770 - val_loss: 0.1198 - val_accuracy: 0.9575 - val_weighted_accuracy: 0.9575\n",
            "Epoch 32/100\n",
            "1302/1302 [==============================] - 12s 9ms/step - loss: 0.0585 - accuracy: 0.9793 - weighted_accuracy: 0.9789 - val_loss: 0.1376 - val_accuracy: 0.9564 - val_weighted_accuracy: 0.9564\n",
            "Epoch 33/100\n",
            "1302/1302 [==============================] - 12s 9ms/step - loss: 0.0529 - accuracy: 0.9800 - weighted_accuracy: 0.9812 - val_loss: 0.1291 - val_accuracy: 0.9614 - val_weighted_accuracy: 0.9614\n",
            "Epoch 34/100\n",
            "1302/1302 [==============================] - 12s 9ms/step - loss: 0.0485 - accuracy: 0.9823 - weighted_accuracy: 0.9828 - val_loss: 0.1204 - val_accuracy: 0.9616 - val_weighted_accuracy: 0.9616\n",
            "Epoch 35/100\n",
            "1302/1302 [==============================] - 12s 9ms/step - loss: 0.0445 - accuracy: 0.9845 - weighted_accuracy: 0.9833 - val_loss: 0.1369 - val_accuracy: 0.9571 - val_weighted_accuracy: 0.9571\n",
            "Epoch 36/100\n",
            "1302/1302 [==============================] - 12s 9ms/step - loss: 0.0452 - accuracy: 0.9852 - weighted_accuracy: 0.9847 - val_loss: 0.1195 - val_accuracy: 0.9668 - val_weighted_accuracy: 0.9668\n",
            "Epoch 37/100\n",
            "1302/1302 [==============================] - 12s 9ms/step - loss: 0.0416 - accuracy: 0.9857 - weighted_accuracy: 0.9858 - val_loss: 0.1144 - val_accuracy: 0.9637 - val_weighted_accuracy: 0.9637\n",
            "Epoch 38/100\n",
            "1302/1302 [==============================] - 12s 9ms/step - loss: 0.0371 - accuracy: 0.9858 - weighted_accuracy: 0.9859 - val_loss: 0.1676 - val_accuracy: 0.9555 - val_weighted_accuracy: 0.9555\n",
            "Epoch 39/100\n",
            "1302/1302 [==============================] - 12s 9ms/step - loss: 0.0354 - accuracy: 0.9877 - weighted_accuracy: 0.9877 - val_loss: 0.1143 - val_accuracy: 0.9677 - val_weighted_accuracy: 0.9677\n",
            "Epoch 40/100\n",
            "1302/1302 [==============================] - 12s 9ms/step - loss: 0.0320 - accuracy: 0.9897 - weighted_accuracy: 0.9895 - val_loss: 0.0984 - val_accuracy: 0.9703 - val_weighted_accuracy: 0.9703\n",
            "Epoch 41/100\n",
            "1302/1302 [==============================] - 12s 9ms/step - loss: 0.0321 - accuracy: 0.9895 - weighted_accuracy: 0.9888 - val_loss: 0.1216 - val_accuracy: 0.9680 - val_weighted_accuracy: 0.9680\n",
            "Epoch 42/100\n",
            "1302/1302 [==============================] - 12s 9ms/step - loss: 0.0297 - accuracy: 0.9898 - weighted_accuracy: 0.9896 - val_loss: 0.1216 - val_accuracy: 0.9667 - val_weighted_accuracy: 0.9667\n",
            "Epoch 43/100\n",
            "1302/1302 [==============================] - 12s 9ms/step - loss: 0.0281 - accuracy: 0.9905 - weighted_accuracy: 0.9906 - val_loss: 0.1079 - val_accuracy: 0.9688 - val_weighted_accuracy: 0.9688\n",
            "Epoch 44/100\n",
            "1302/1302 [==============================] - 12s 9ms/step - loss: 0.0271 - accuracy: 0.9909 - weighted_accuracy: 0.9908 - val_loss: 0.1239 - val_accuracy: 0.9647 - val_weighted_accuracy: 0.9647\n",
            "Epoch 45/100\n",
            "1302/1302 [==============================] - 12s 9ms/step - loss: 0.0262 - accuracy: 0.9908 - weighted_accuracy: 0.9911 - val_loss: 0.0975 - val_accuracy: 0.9702 - val_weighted_accuracy: 0.9702\n",
            "Epoch 46/100\n",
            "1302/1302 [==============================] - 12s 9ms/step - loss: 0.0261 - accuracy: 0.9913 - weighted_accuracy: 0.9913 - val_loss: 0.1087 - val_accuracy: 0.9693 - val_weighted_accuracy: 0.9693\n",
            "Epoch 47/100\n",
            "1302/1302 [==============================] - 12s 9ms/step - loss: 0.0280 - accuracy: 0.9914 - weighted_accuracy: 0.9907 - val_loss: 0.1201 - val_accuracy: 0.9695 - val_weighted_accuracy: 0.9695\n",
            "Epoch 48/100\n",
            "1302/1302 [==============================] - 12s 9ms/step - loss: 0.0218 - accuracy: 0.9936 - weighted_accuracy: 0.9935 - val_loss: 0.1046 - val_accuracy: 0.9710 - val_weighted_accuracy: 0.9710\n",
            "Epoch 49/100\n",
            "1302/1302 [==============================] - 12s 9ms/step - loss: 0.0251 - accuracy: 0.9923 - weighted_accuracy: 0.9916 - val_loss: 0.1162 - val_accuracy: 0.9633 - val_weighted_accuracy: 0.9633\n",
            "Epoch 50/100\n",
            "1302/1302 [==============================] - 12s 9ms/step - loss: 0.0236 - accuracy: 0.9928 - weighted_accuracy: 0.9926 - val_loss: 0.1004 - val_accuracy: 0.9724 - val_weighted_accuracy: 0.9724\n",
            "Epoch 51/100\n",
            "1302/1302 [==============================] - 12s 9ms/step - loss: 0.0247 - accuracy: 0.9919 - weighted_accuracy: 0.9918 - val_loss: 0.1126 - val_accuracy: 0.9707 - val_weighted_accuracy: 0.9707\n",
            "Epoch 52/100\n",
            "1302/1302 [==============================] - 12s 9ms/step - loss: 0.0221 - accuracy: 0.9931 - weighted_accuracy: 0.9927 - val_loss: 0.1042 - val_accuracy: 0.9732 - val_weighted_accuracy: 0.9732\n",
            "Epoch 53/100\n",
            "1302/1302 [==============================] - 12s 9ms/step - loss: 0.0201 - accuracy: 0.9934 - weighted_accuracy: 0.9933 - val_loss: 0.1254 - val_accuracy: 0.9708 - val_weighted_accuracy: 0.9708\n",
            "Epoch 54/100\n",
            "1302/1302 [==============================] - 12s 9ms/step - loss: 0.0206 - accuracy: 0.9939 - weighted_accuracy: 0.9939 - val_loss: 0.1204 - val_accuracy: 0.9727 - val_weighted_accuracy: 0.9727\n",
            "Epoch 55/100\n",
            "1302/1302 [==============================] - 12s 9ms/step - loss: 0.0211 - accuracy: 0.9941 - weighted_accuracy: 0.9937 - val_loss: 0.1063 - val_accuracy: 0.9713 - val_weighted_accuracy: 0.9713\n",
            "Epoch 56/100\n",
            "1302/1302 [==============================] - 12s 9ms/step - loss: 0.0208 - accuracy: 0.9931 - weighted_accuracy: 0.9933 - val_loss: 0.1173 - val_accuracy: 0.9700 - val_weighted_accuracy: 0.9700\n",
            "Epoch 57/100\n",
            "1302/1302 [==============================] - 12s 9ms/step - loss: 0.0187 - accuracy: 0.9943 - weighted_accuracy: 0.9942 - val_loss: 0.1017 - val_accuracy: 0.9714 - val_weighted_accuracy: 0.9714\n",
            "Epoch 58/100\n",
            "1302/1302 [==============================] - 12s 9ms/step - loss: 0.0186 - accuracy: 0.9942 - weighted_accuracy: 0.9940 - val_loss: 0.1190 - val_accuracy: 0.9730 - val_weighted_accuracy: 0.9730\n",
            "Epoch 59/100\n",
            "1302/1302 [==============================] - 12s 9ms/step - loss: 0.0202 - accuracy: 0.9938 - weighted_accuracy: 0.9937 - val_loss: 0.1079 - val_accuracy: 0.9733 - val_weighted_accuracy: 0.9733\n",
            "Epoch 60/100\n",
            "1302/1302 [==============================] - 12s 9ms/step - loss: 0.0175 - accuracy: 0.9944 - weighted_accuracy: 0.9942 - val_loss: 0.1193 - val_accuracy: 0.9704 - val_weighted_accuracy: 0.9704\n",
            "Epoch 61/100\n",
            "1302/1302 [==============================] - 12s 9ms/step - loss: 0.0177 - accuracy: 0.9946 - weighted_accuracy: 0.9947 - val_loss: 0.1056 - val_accuracy: 0.9756 - val_weighted_accuracy: 0.9756\n",
            "Epoch 62/100\n",
            "1302/1302 [==============================] - 12s 9ms/step - loss: 0.0173 - accuracy: 0.9951 - weighted_accuracy: 0.9948 - val_loss: 0.1124 - val_accuracy: 0.9741 - val_weighted_accuracy: 0.9741\n",
            "Epoch 63/100\n",
            "1302/1302 [==============================] - 12s 9ms/step - loss: 0.0177 - accuracy: 0.9940 - weighted_accuracy: 0.9939 - val_loss: 0.1168 - val_accuracy: 0.9715 - val_weighted_accuracy: 0.9715\n",
            "Epoch 64/100\n",
            "1302/1302 [==============================] - 12s 9ms/step - loss: 0.0183 - accuracy: 0.9952 - weighted_accuracy: 0.9946 - val_loss: 0.1025 - val_accuracy: 0.9690 - val_weighted_accuracy: 0.9690\n",
            "Epoch 65/100\n",
            "1302/1302 [==============================] - 12s 9ms/step - loss: 0.0152 - accuracy: 0.9955 - weighted_accuracy: 0.9953 - val_loss: 0.1613 - val_accuracy: 0.9710 - val_weighted_accuracy: 0.9710\n",
            "Epoch 66/100\n",
            "1302/1302 [==============================] - 12s 10ms/step - loss: 0.0199 - accuracy: 0.9943 - weighted_accuracy: 0.9938 - val_loss: 0.0826 - val_accuracy: 0.9760 - val_weighted_accuracy: 0.9760\n",
            "Epoch 67/100\n",
            "1302/1302 [==============================] - 12s 9ms/step - loss: 0.0152 - accuracy: 0.9956 - weighted_accuracy: 0.9951 - val_loss: 0.1146 - val_accuracy: 0.9688 - val_weighted_accuracy: 0.9688\n",
            "Epoch 68/100\n",
            "1302/1302 [==============================] - 12s 9ms/step - loss: 0.0138 - accuracy: 0.9962 - weighted_accuracy: 0.9956 - val_loss: 0.0995 - val_accuracy: 0.9744 - val_weighted_accuracy: 0.9744\n",
            "Epoch 69/100\n",
            "1302/1302 [==============================] - 12s 9ms/step - loss: 0.0147 - accuracy: 0.9953 - weighted_accuracy: 0.9953 - val_loss: 0.1245 - val_accuracy: 0.9760 - val_weighted_accuracy: 0.9760\n",
            "Epoch 70/100\n",
            "1302/1302 [==============================] - 12s 9ms/step - loss: 0.0140 - accuracy: 0.9957 - weighted_accuracy: 0.9955 - val_loss: 0.1306 - val_accuracy: 0.9723 - val_weighted_accuracy: 0.9723\n",
            "Epoch 71/100\n",
            "1302/1302 [==============================] - 12s 9ms/step - loss: 0.0149 - accuracy: 0.9962 - weighted_accuracy: 0.9956 - val_loss: 0.1185 - val_accuracy: 0.9717 - val_weighted_accuracy: 0.9717\n",
            "Epoch 72/100\n",
            "1302/1302 [==============================] - 12s 9ms/step - loss: 0.0155 - accuracy: 0.9959 - weighted_accuracy: 0.9955 - val_loss: 0.1082 - val_accuracy: 0.9722 - val_weighted_accuracy: 0.9722\n",
            "Epoch 73/100\n",
            "1302/1302 [==============================] - 12s 9ms/step - loss: 0.0127 - accuracy: 0.9956 - weighted_accuracy: 0.9957 - val_loss: 0.1170 - val_accuracy: 0.9708 - val_weighted_accuracy: 0.9708\n",
            "Epoch 74/100\n",
            "1302/1302 [==============================] - 12s 9ms/step - loss: 0.0147 - accuracy: 0.9953 - weighted_accuracy: 0.9952 - val_loss: 0.1182 - val_accuracy: 0.9760 - val_weighted_accuracy: 0.9760\n",
            "Epoch 75/100\n",
            "1302/1302 [==============================] - 12s 9ms/step - loss: 0.0157 - accuracy: 0.9958 - weighted_accuracy: 0.9955 - val_loss: 0.0920 - val_accuracy: 0.9758 - val_weighted_accuracy: 0.9758\n",
            "Epoch 76/100\n",
            "1302/1302 [==============================] - 12s 9ms/step - loss: 0.0133 - accuracy: 0.9962 - weighted_accuracy: 0.9962 - val_loss: 0.1072 - val_accuracy: 0.9754 - val_weighted_accuracy: 0.9754\n",
            "Epoch 77/100\n",
            "1302/1302 [==============================] - 12s 9ms/step - loss: 0.0143 - accuracy: 0.9957 - weighted_accuracy: 0.9954 - val_loss: 0.0908 - val_accuracy: 0.9779 - val_weighted_accuracy: 0.9779\n",
            "Epoch 78/100\n",
            "1302/1302 [==============================] - 12s 9ms/step - loss: 0.0151 - accuracy: 0.9957 - weighted_accuracy: 0.9952 - val_loss: 0.0952 - val_accuracy: 0.9729 - val_weighted_accuracy: 0.9729\n",
            "Epoch 79/100\n",
            "1302/1302 [==============================] - 12s 9ms/step - loss: 0.0130 - accuracy: 0.9961 - weighted_accuracy: 0.9960 - val_loss: 0.1045 - val_accuracy: 0.9754 - val_weighted_accuracy: 0.9754\n",
            "Epoch 80/100\n",
            "1302/1302 [==============================] - 12s 9ms/step - loss: 0.0125 - accuracy: 0.9968 - weighted_accuracy: 0.9966 - val_loss: 0.1004 - val_accuracy: 0.9766 - val_weighted_accuracy: 0.9766\n",
            "Epoch 81/100\n",
            "1302/1302 [==============================] - 12s 9ms/step - loss: 0.0145 - accuracy: 0.9964 - weighted_accuracy: 0.9960 - val_loss: 0.0970 - val_accuracy: 0.9766 - val_weighted_accuracy: 0.9766\n",
            "Epoch 82/100\n",
            "1302/1302 [==============================] - 12s 9ms/step - loss: 0.0162 - accuracy: 0.9960 - weighted_accuracy: 0.9955 - val_loss: 0.1025 - val_accuracy: 0.9746 - val_weighted_accuracy: 0.9746\n",
            "Epoch 83/100\n",
            "1302/1302 [==============================] - 12s 9ms/step - loss: 0.0119 - accuracy: 0.9966 - weighted_accuracy: 0.9965 - val_loss: 0.1189 - val_accuracy: 0.9744 - val_weighted_accuracy: 0.9744\n",
            "Epoch 84/100\n",
            "1302/1302 [==============================] - 12s 9ms/step - loss: 0.0126 - accuracy: 0.9961 - weighted_accuracy: 0.9961 - val_loss: 0.1209 - val_accuracy: 0.9759 - val_weighted_accuracy: 0.9759\n",
            "Epoch 85/100\n",
            "1302/1302 [==============================] - 12s 9ms/step - loss: 0.0090 - accuracy: 0.9972 - weighted_accuracy: 0.9971 - val_loss: 0.1214 - val_accuracy: 0.9751 - val_weighted_accuracy: 0.9751\n",
            "Epoch 86/100\n",
            "1302/1302 [==============================] - 12s 9ms/step - loss: 0.0106 - accuracy: 0.9966 - weighted_accuracy: 0.9967 - val_loss: 0.1382 - val_accuracy: 0.9766 - val_weighted_accuracy: 0.9766\n",
            "Epoch 87/100\n",
            "1302/1302 [==============================] - 12s 9ms/step - loss: 0.0117 - accuracy: 0.9960 - weighted_accuracy: 0.9959 - val_loss: 0.1234 - val_accuracy: 0.9746 - val_weighted_accuracy: 0.9746\n",
            "Epoch 88/100\n",
            "1302/1302 [==============================] - 12s 9ms/step - loss: 0.0151 - accuracy: 0.9960 - weighted_accuracy: 0.9959 - val_loss: 0.0872 - val_accuracy: 0.9774 - val_weighted_accuracy: 0.9774\n",
            "Epoch 89/100\n",
            "1302/1302 [==============================] - 12s 9ms/step - loss: 0.0125 - accuracy: 0.9964 - weighted_accuracy: 0.9963 - val_loss: 0.1071 - val_accuracy: 0.9756 - val_weighted_accuracy: 0.9756\n",
            "Epoch 90/100\n",
            "1302/1302 [==============================] - 12s 9ms/step - loss: 0.0114 - accuracy: 0.9970 - weighted_accuracy: 0.9969 - val_loss: 0.0925 - val_accuracy: 0.9762 - val_weighted_accuracy: 0.9762\n",
            "Epoch 91/100\n",
            "1302/1302 [==============================] - 12s 9ms/step - loss: 0.0121 - accuracy: 0.9967 - weighted_accuracy: 0.9965 - val_loss: 0.0982 - val_accuracy: 0.9735 - val_weighted_accuracy: 0.9735\n",
            "Epoch 92/100\n",
            "1302/1302 [==============================] - 12s 9ms/step - loss: 0.0120 - accuracy: 0.9968 - weighted_accuracy: 0.9965 - val_loss: 0.0985 - val_accuracy: 0.9762 - val_weighted_accuracy: 0.9762\n",
            "Epoch 93/100\n",
            "1302/1302 [==============================] - 12s 9ms/step - loss: 0.0127 - accuracy: 0.9969 - weighted_accuracy: 0.9963 - val_loss: 0.1108 - val_accuracy: 0.9767 - val_weighted_accuracy: 0.9767\n",
            "Epoch 94/100\n",
            "1302/1302 [==============================] - 12s 9ms/step - loss: 0.0125 - accuracy: 0.9966 - weighted_accuracy: 0.9962 - val_loss: 0.1017 - val_accuracy: 0.9760 - val_weighted_accuracy: 0.9760\n",
            "Epoch 95/100\n",
            "1302/1302 [==============================] - 12s 9ms/step - loss: 0.0111 - accuracy: 0.9969 - weighted_accuracy: 0.9966 - val_loss: 0.1336 - val_accuracy: 0.9743 - val_weighted_accuracy: 0.9743\n",
            "Epoch 96/100\n",
            "1302/1302 [==============================] - 12s 9ms/step - loss: 0.0115 - accuracy: 0.9971 - weighted_accuracy: 0.9969 - val_loss: 0.1125 - val_accuracy: 0.9779 - val_weighted_accuracy: 0.9779\n",
            "Epoch 97/100\n",
            "1302/1302 [==============================] - 12s 9ms/step - loss: 0.0119 - accuracy: 0.9961 - weighted_accuracy: 0.9960 - val_loss: 0.1075 - val_accuracy: 0.9750 - val_weighted_accuracy: 0.9750\n",
            "Epoch 98/100\n",
            "1302/1302 [==============================] - 12s 9ms/step - loss: 0.0110 - accuracy: 0.9970 - weighted_accuracy: 0.9968 - val_loss: 0.1064 - val_accuracy: 0.9747 - val_weighted_accuracy: 0.9747\n",
            "Epoch 99/100\n",
            "1302/1302 [==============================] - 12s 9ms/step - loss: 0.0101 - accuracy: 0.9967 - weighted_accuracy: 0.9964 - val_loss: 0.1139 - val_accuracy: 0.9738 - val_weighted_accuracy: 0.9738\n",
            "Epoch 100/100\n",
            "1302/1302 [==============================] - 12s 9ms/step - loss: 0.0128 - accuracy: 0.9963 - weighted_accuracy: 0.9961 - val_loss: 0.0998 - val_accuracy: 0.9767 - val_weighted_accuracy: 0.9767\n"
          ]
        }
      ]
    },
    {
      "cell_type": "code",
      "source": [
        "score = model.evaluate(X_test, y_test, verbose=1)\n",
        "print('Test loss:', score[0])\n",
        "print('Test accuracy:', score[1])"
      ],
      "metadata": {
        "colab": {
          "base_uri": "https://localhost:8080/"
        },
        "id": "G4_WKhQApzXS",
        "outputId": "b3e071e1-9403-49d6-b328-806ee0d270ea"
      },
      "execution_count": 35,
      "outputs": [
        {
          "output_type": "stream",
          "name": "stdout",
          "text": [
            "558/558 [==============================] - 2s 4ms/step - loss: 0.0998 - accuracy: 0.9767 - weighted_accuracy: 0.9767\n",
            "Test loss: 0.09981690347194672\n",
            "Test accuracy: 0.9767025113105774\n"
          ]
        }
      ]
    },
    {
      "cell_type": "code",
      "source": [
        "import matplotlib.pyplot as plt\n",
        "plt.plot(m.history['accuracy'])\n",
        "plt.plot(m.history['val_accuracy'])\n",
        "plt.title('model accuracy')\n",
        "plt.ylabel('accuracy')\n",
        "plt.xlabel('epoch')\n",
        "plt.legend(['train', 'test'], loc='upper left')\n",
        "plt.show()"
      ],
      "metadata": {
        "colab": {
          "base_uri": "https://localhost:8080/",
          "height": 295
        },
        "id": "FkxmcluMp21p",
        "outputId": "0b3183d8-8062-45a3-8737-8b6670333328"
      },
      "execution_count": 36,
      "outputs": [
        {
          "output_type": "display_data",
          "data": {
            "text/plain": [
              "<Figure size 432x288 with 1 Axes>"
            ],
            "image/png": "[encoded data removed]"
          },
          "metadata": {
            "needs_background": "light"
          }
        }
      ]
    },
    {
      "cell_type": "code",
      "source": [
        "plt.plot(m.history['loss'])\n",
        "plt.plot(m.history['val_loss'])\n",
        "plt.title('model loss')\n",
        "plt.ylabel('loss')\n",
        "plt.xlabel('epoch')\n",
        "plt.legend(['train', 'test'], loc='upper left')\n",
        "plt.show()"
      ],
      "metadata": {
        "colab": {
          "base_uri": "https://localhost:8080/",
          "height": 295
        },
        "id": "vk-TIPxhp64q",
        "outputId": "33457f70-724b-4504-b84b-686f62fea957"
      },
      "execution_count": 37,
      "outputs": [
        {
          "output_type": "display_data",
          "data": {
            "text/plain": [
              "<Figure size 432x288 with 1 Axes>"
            ],
            "image/png": "[encoded data removed]"
          },
          "metadata": {
            "needs_background": "light"
          }
        }
      ]
    }
  ]
}